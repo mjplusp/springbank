{
 "cells": [
  {
   "cell_type": "code",
   "execution_count": 2,
   "metadata": {},
   "outputs": [
    {
     "name": "stdout",
     "output_type": "stream",
     "text": [
      "current working directory:  /home/minje/springbank\n"
     ]
    }
   ],
   "source": [
    "import os\n",
    "os.chdir('../')\n",
    "os.getcwd()\n",
    "mainDir = os.getcwd()\n",
    "print('current working directory: ', mainDir)"
   ]
  },
  {
   "cell_type": "code",
   "execution_count": 3,
   "metadata": {},
   "outputs": [
    {
     "name": "stdout",
     "output_type": "stream",
     "text": [
      "current working directory:  /home/minje/springbank\n"
     ]
    }
   ],
   "source": [
    "mainDir = os.getcwd()\n",
    "print('current working directory: ', mainDir)"
   ]
  },
  {
   "cell_type": "code",
   "execution_count": 4,
   "metadata": {},
   "outputs": [],
   "source": [
    "from tools.BinanceApiWrappers import BinanceApiWrappers\n",
    "from tools.LogicFunctions import LogicFunctions"
   ]
  },
  {
   "cell_type": "code",
   "execution_count": 5,
   "metadata": {},
   "outputs": [],
   "source": [
    "binance = BinanceApiWrappers()\n",
    "lf = LogicFunctions()"
   ]
  },
  {
   "cell_type": "code",
   "execution_count": 14,
   "metadata": {},
   "outputs": [
    {
     "data": {
      "text/plain": [
       "['BTCUSDT',\n",
       " 'ETHUSDT',\n",
       " 'BNBUSDT',\n",
       " 'NEOUSDT',\n",
       " 'LTCUSDT',\n",
       " 'QTUMUSDT',\n",
       " 'ADAUSDT',\n",
       " 'XRPUSDT',\n",
       " 'EOSUSDT',\n",
       " 'IOTAUSDT',\n",
       " 'XLMUSDT',\n",
       " 'ONTUSDT',\n",
       " 'TRXUSDT',\n",
       " 'ETCUSDT',\n",
       " 'ICXUSDT',\n",
       " 'VETUSDT',\n",
       " 'LINKUSDT',\n",
       " 'WAVESUSDT',\n",
       " 'BTTUSDT',\n",
       " 'HOTUSDT',\n",
       " 'ZILUSDT',\n",
       " 'ZRXUSDT',\n",
       " 'BATUSDT',\n",
       " 'XMRUSDT',\n",
       " 'ZECUSDT',\n",
       " 'IOSTUSDT',\n",
       " 'CELRUSDT',\n",
       " 'DASHUSDT',\n",
       " 'OMGUSDT',\n",
       " 'THETAUSDT',\n",
       " 'ENJUSDT',\n",
       " 'MATICUSDT',\n",
       " 'ATOMUSDT',\n",
       " 'ONEUSDT',\n",
       " 'FTMUSDT',\n",
       " 'ALGOUSDT',\n",
       " 'DOGEUSDT',\n",
       " 'ANKRUSDT',\n",
       " 'MTLUSDT',\n",
       " 'TOMOUSDT',\n",
       " 'DENTUSDT',\n",
       " 'CVCUSDT',\n",
       " 'CHZUSDT',\n",
       " 'BANDUSDT',\n",
       " 'XTZUSDT',\n",
       " 'RENUSDT',\n",
       " 'RVNUSDT',\n",
       " 'HBARUSDT',\n",
       " 'NKNUSDT',\n",
       " 'KAVAUSDT',\n",
       " 'ARPAUSDT',\n",
       " 'IOTXUSDT',\n",
       " 'RLCUSDT',\n",
       " 'BCHUSDT',\n",
       " 'OGNUSDT',\n",
       " 'BTSUSDT',\n",
       " 'COTIUSDT',\n",
       " 'SOLUSDT',\n",
       " 'CTSIUSDT',\n",
       " 'CHRUSDT',\n",
       " 'STMXUSDT',\n",
       " 'KNCUSDT',\n",
       " 'LRCUSDT',\n",
       " 'COMPUSDT',\n",
       " 'SCUSDT',\n",
       " 'ZENUSDT',\n",
       " 'SNXUSDT',\n",
       " 'DGBUSDT',\n",
       " 'SXPUSDT',\n",
       " 'MKRUSDT',\n",
       " 'STORJUSDT',\n",
       " 'MANAUSDT',\n",
       " 'YFIUSDT',\n",
       " 'BALUSDT',\n",
       " 'BLZUSDT',\n",
       " 'SRMUSDT',\n",
       " 'CRVUSDT',\n",
       " 'SANDUSDT',\n",
       " 'OCEANUSDT',\n",
       " 'DOTUSDT',\n",
       " 'LUNAUSDT',\n",
       " 'RSRUSDT',\n",
       " 'TRBUSDT',\n",
       " 'BZRXUSDT',\n",
       " 'SUSHIUSDT',\n",
       " 'YFIIUSDT',\n",
       " 'KSMUSDT',\n",
       " 'EGLDUSDT',\n",
       " 'RUNEUSDT',\n",
       " 'BELUSDT',\n",
       " 'UNIUSDT',\n",
       " 'AVAXUSDT',\n",
       " 'HNTUSDT',\n",
       " 'FLMUSDT',\n",
       " 'ALPHAUSDT',\n",
       " 'AAVEUSDT',\n",
       " 'NEARUSDT',\n",
       " 'FILUSDT',\n",
       " 'AUDIOUSDT',\n",
       " 'CTKUSDT',\n",
       " 'AKROUSDT',\n",
       " 'AXSUSDT',\n",
       " 'UNFIUSDT',\n",
       " 'XEMUSDT',\n",
       " 'SKLUSDT',\n",
       " 'GRTUSDT',\n",
       " '1INCHUSDT',\n",
       " 'REEFUSDT',\n",
       " 'CELOUSDT',\n",
       " 'BTCSTUSDT',\n",
       " 'LITUSDT',\n",
       " 'SFPUSDT',\n",
       " 'DODOUSDT',\n",
       " 'ALICEUSDT',\n",
       " 'LINAUSDT',\n",
       " 'TLMUSDT',\n",
       " 'BAKEUSDT',\n",
       " 'ICPUSDT',\n",
       " 'ARUSDT',\n",
       " 'MASKUSDT',\n",
       " 'LPTUSDT',\n",
       " 'NUUSDT',\n",
       " 'ATAUSDT',\n",
       " 'GTCUSDT',\n",
       " 'KEEPUSDT',\n",
       " 'KLAYUSDT',\n",
       " 'C98USDT',\n",
       " 'RAYUSDT',\n",
       " 'DYDXUSDT',\n",
       " 'GALAUSDT',\n",
       " 'ENSUSDT']"
      ]
     },
     "execution_count": 14,
     "metadata": {},
     "output_type": "execute_result"
    }
   ],
   "source": [
    "binance.getAvailableCoinPairLists()"
   ]
  },
  {
   "cell_type": "code",
   "execution_count": 71,
   "metadata": {},
   "outputs": [
    {
     "data": {
      "text/plain": [
       "{'entering': (Decimal('-0.09060000'),\n",
       "  Decimal('0.01228983319658977308123149923')),\n",
       " 'leaving': (Decimal('0.03540000'),\n",
       "  Decimal('0.01710672382427447736692720054'))}"
      ]
     },
     "execution_count": 71,
     "metadata": {},
     "output_type": "execute_result"
    }
   ],
   "source": [
    "import json\n",
    "import requests\n",
    "from decimal import Decimal as dec\n",
    "\n",
    "\n",
    "def fetch_price_difference():\n",
    "    spot_req_result = requests.get(\"https://www.binance.com/api/v3/ticker/bookTicker\").text #api 2회 소모\n",
    "    futures_req_result = requests.get(\"https://www.binance.com/fapi/v1/ticker/bookTicker\").text #api 2회 소모, 총 4회 소모\n",
    "    \n",
    "    spot_orderbook = json.loads(spot_req_result)\n",
    "    futures_orderbook = json.loads(futures_req_result)\n",
    "\n",
    "    spot_orderbook_dict = {\n",
    "        element.get('symbol'):{\n",
    "            'bidPrice_spot': element.get('bidPrice'),\n",
    "            'bidQty_spot': element.get('bidQty'), \n",
    "            'askPrice_spot': element.get('askPrice'),\n",
    "            'askQty_spot': element.get('askQty'),\n",
    "        }for element in spot_orderbook if element.get('symbol').endswith('USDT')}\n",
    "\n",
    "    futures_orderbook_dict = {\n",
    "        element.get('symbol'):{\n",
    "            'bidPrice_futures': element.get('bidPrice'),\n",
    "            'bidQty_futures': element.get('bidQty'), \n",
    "            'askPrice_futures': element.get('askPrice'),\n",
    "            'askQty_futures': element.get('askQty'),\n",
    "        }for element in futures_orderbook if element.get('symbol').endswith('USDT')}\n",
    "    \n",
    "    trackingList = (spot_orderbook_dict.keys() & futures_orderbook_dict.keys())\n",
    "\n",
    "    priceDict = {coins: {'symbol': coins,\n",
    "            'bidPrice_spot': spot_orderbook_dict.get(coins).get('bidPrice_spot'),\n",
    "            'bidQty_spot': spot_orderbook_dict.get(coins).get('bidQty_spot'), \n",
    "            'askPrice_spot': spot_orderbook_dict.get(coins).get('askPrice_spot'),\n",
    "            'askQty_spot': spot_orderbook_dict.get(coins).get('askQty_spot'),\n",
    "            'bidPrice_futures': futures_orderbook_dict.get(coins).get('bidPrice_futures'),\n",
    "            'bidQty_futures': futures_orderbook_dict.get(coins).get('bidQty_futures'), \n",
    "            'askPrice_futures': futures_orderbook_dict.get(coins).get('askPrice_futures'),\n",
    "            'askQty_futures': futures_orderbook_dict.get(coins).get('askQty_futures'),\n",
    "\n",
    "            'entering_difference': (dec(futures_orderbook_dict.get(coins).get('bidPrice_futures')) - dec(spot_orderbook_dict.get(coins).get('askPrice_spot'))),\n",
    "            'leaving_difference': (dec(spot_orderbook_dict.get(coins).get('bidPrice_spot')) - dec(futures_orderbook_dict.get(coins).get('askPrice_futures')))\n",
    "            }for coins in trackingList} \n",
    "\n",
    "    return priceDict\n",
    "\n",
    "from collections import defaultdict\n",
    "import time\n",
    "import numpy as np\n",
    "\n",
    "differenceDict = defaultdict(lambda: {'entering':[],'leaving':[]}, {})\n",
    "\n",
    "for i in range(5):\n",
    "    priceDict = fetch_price_difference()\n",
    "    for coins in priceDict.values():\n",
    "        differenceDict[coins.get('symbol')].get('entering').append(coins['entering_difference'])\n",
    "        differenceDict[coins.get('symbol')].get('leaving').append(coins['leaving_difference'])\n",
    "    #time.sleep(1)\n",
    "\n",
    "resultDict = defaultdict(lambda: {'entering':'','leaving':''}, {})\n",
    "for coins in dict(differenceDict):\n",
    "    resultDict[coins]['entering'] = (np.mean(differenceDict[coins]['entering']), np.std(differenceDict[coins]['entering']))\n",
    "    resultDict[coins]['leaving'] = (np.mean(differenceDict[coins]['leaving']), np.std(differenceDict[coins]['leaving']))\n",
    "\n",
    "dict(resultDict)['LUNAUSDT']"
   ]
  },
  {
   "cell_type": "code",
   "execution_count": 19,
   "metadata": {},
   "outputs": [],
   "source": [
    "from decimal import Decimal as dec\n",
    "import numpy\n",
    "import time\n",
    "\n",
    "def movgingaverage(symbol):\n",
    "    candleData = lf.binanceApiWrappers.apiManager.futureBinance.fapiPublicGetKlines(\n",
    "        {'symbol': symbol, 'interval': '1m'})[-21:-1]\n",
    "    \n",
    "    closeValues = list(map(lambda element: float(element[4]), candleData))\n",
    "    simple_average = numpy.mean(closeValues)\n",
    "    stdev = numpy.std(closeValues)\n",
    "\n",
    "    volume_weighted_sum = dec('0')\n",
    "    total_volume = dec('0')\n",
    "    for items in candleData:\n",
    "        total_volume += dec(items[5])\n",
    "        volume_weighted_sum += dec(items[4]) * dec(items[5])\n",
    "\n",
    "    return {\n",
    "        'ma': str(simple_average), \n",
    "        'volume_average': str(volume_weighted_sum/total_volume),\n",
    "        'stdev': str(stdev), \n",
    "        'boll3.3_up': str(simple_average + 3.3*stdev), \n",
    "        'boll3.3_down': str(simple_average - 3.3*stdev)}\n",
    "\n",
    "movgingaverage('LUNAUSDT')\n",
    "\n",
    "def boll_arbitrage(symbol):\n",
    "\n",
    "    status = 'NONE' # NONE, SOLD, BOUGHT\n",
    "    print('시작', 'STATUS: ', status)\n",
    "\n",
    "    while True:\n",
    "\n",
    "        bandInfo = movgingaverage(symbol)\n",
    "\n",
    "        futures_ticker = lf.binanceApiWrappers.getFutureOrderBookTicker(symbol)\n",
    "        futures_bid_price = dec(futures_ticker.get('bidPrice'))\n",
    "        futures_ask_price = dec(futures_ticker.get('askPrice'))\n",
    "\n",
    "        if status == 'BOUGHT':\n",
    "            if futures_bid_price > dec(bandInfo.get('ma')):\n",
    "                lf.binanceApiWrappers.orderFutureSell(symbol, '5')\n",
    "                status = 'NONE'\n",
    "                print('샀던 코인을 팔았음')\n",
    "\n",
    "        elif status == 'SOLD':\n",
    "            if futures_ask_price < dec(bandInfo.get('ma')):\n",
    "                lf.binanceApiWrappers.orderFutureBuy(symbol, '5')\n",
    "                status = 'NONE'\n",
    "                print('팔았던 코인을 샀음')\n",
    "        \n",
    "        else:\n",
    "            if futures_bid_price > dec(bandInfo.get('boll3.3_up')):\n",
    "                lf.binanceApiWrappers.orderFutureSell(symbol, '5')\n",
    "                status = 'SOLD'\n",
    "                print('볼린저 3.3 위를 돌파해 코인을 팔았음')\n",
    "            if futures_ask_price < dec(bandInfo.get('boll3.3_down')):\n",
    "                lf.binanceApiWrappers.orderFutureBuy(symbol, '5')\n",
    "                status = 'BOUGHT'\n",
    "                print('볼린저 3.3 아래를 돌파해 코인을 샀음')\n",
    "        \n",
    "        time.sleep(1)"
   ]
  },
  {
   "cell_type": "code",
   "execution_count": 6,
   "metadata": {},
   "outputs": [
    {
     "name": "stdout",
     "output_type": "stream",
     "text": [
      "시작 STATUS:  NONE\n"
     ]
    },
    {
     "ename": "KeyboardInterrupt",
     "evalue": "",
     "output_type": "error",
     "traceback": [
      "\u001b[0;31m---------------------------------------------------------------------------\u001b[0m",
      "\u001b[0;31mKeyboardInterrupt\u001b[0m                         Traceback (most recent call last)",
      "\u001b[0;32m<ipython-input-6-ed3565f21b0c>\u001b[0m in \u001b[0;36m<module>\u001b[0;34m\u001b[0m\n\u001b[0;32m----> 1\u001b[0;31m \u001b[0mboll_arbitrage\u001b[0m\u001b[0;34m(\u001b[0m\u001b[0;34m'LUNAUSDT'\u001b[0m\u001b[0;34m)\u001b[0m\u001b[0;34m\u001b[0m\u001b[0;34m\u001b[0m\u001b[0m\n\u001b[0m",
      "\u001b[0;32m<ipython-input-5-bafe40e2fb2a>\u001b[0m in \u001b[0;36mboll_arbitrage\u001b[0;34m(symbol)\u001b[0m\n\u001b[1;32m     61\u001b[0m                 \u001b[0mprint\u001b[0m\u001b[0;34m(\u001b[0m\u001b[0;34m'볼린저 3.3 아래를 돌파해 코인을 샀음'\u001b[0m\u001b[0;34m)\u001b[0m\u001b[0;34m\u001b[0m\u001b[0;34m\u001b[0m\u001b[0m\n\u001b[1;32m     62\u001b[0m \u001b[0;34m\u001b[0m\u001b[0m\n\u001b[0;32m---> 63\u001b[0;31m         \u001b[0mtime\u001b[0m\u001b[0;34m.\u001b[0m\u001b[0msleep\u001b[0m\u001b[0;34m(\u001b[0m\u001b[0;36m1\u001b[0m\u001b[0;34m)\u001b[0m\u001b[0;34m\u001b[0m\u001b[0;34m\u001b[0m\u001b[0m\n\u001b[0m",
      "\u001b[0;31mKeyboardInterrupt\u001b[0m: "
     ]
    }
   ],
   "source": [
    "boll_arbitrage('LUNAUSDT')"
   ]
  },
  {
   "cell_type": "code",
   "execution_count": null,
   "metadata": {},
   "outputs": [],
   "source": []
  }
 ],
 "metadata": {
  "interpreter": {
   "hash": "fdf35fde5d327f24510a8c49a515d13c29eaf97a88af0354c14e3180f8cb2964"
  },
  "kernelspec": {
   "display_name": "Python 3.7.4 64-bit ('base': conda)",
   "language": "python",
   "name": "python3"
  },
  "language_info": {
   "codemirror_mode": {
    "name": "ipython",
    "version": 3
   },
   "file_extension": ".py",
   "mimetype": "text/x-python",
   "name": "python",
   "nbconvert_exporter": "python",
   "pygments_lexer": "ipython3",
   "version": "3.6.9"
  },
  "orig_nbformat": 4
 },
 "nbformat": 4,
 "nbformat_minor": 2
}
