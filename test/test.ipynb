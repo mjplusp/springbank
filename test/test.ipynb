{
 "cells": [
  {
   "cell_type": "markdown",
   "metadata": {},
   "source": [
    "### 1. Working Directory 초기화 / 필요 모듈 import"
   ]
  },
  {
   "cell_type": "code",
   "execution_count": 1,
   "metadata": {},
   "outputs": [],
   "source": [
    "# !pip install --upgrade pip\n",
    "\n",
    "# !pip install ccxt --upgrade"
   ]
  },
  {
   "cell_type": "code",
   "execution_count": 5,
   "metadata": {},
   "outputs": [
    {
     "name": "stdout",
     "output_type": "stream",
     "text": [
      "current working directory:  c:\\Users\\Tmax\\git\\springbank_v2\n"
     ]
    }
   ],
   "source": [
    "import os\n",
    "os.chdir('../')\n",
    "os.getcwd()\n",
    "mainDir = os.getcwd()\n",
    "print('current working directory: ', mainDir)"
   ]
  },
  {
   "cell_type": "code",
   "execution_count": 6,
   "metadata": {},
   "outputs": [
    {
     "name": "stdout",
     "output_type": "stream",
     "text": [
      "current working directory:  c:\\Users\\Tmax\\git\\springbank_v2\n"
     ]
    }
   ],
   "source": [
    "mainDir = os.getcwd()\n",
    "print('current working directory: ', mainDir)"
   ]
  },
  {
   "cell_type": "code",
   "execution_count": 7,
   "metadata": {},
   "outputs": [],
   "source": [
    "from tools.BinanceApiWrappers import BinanceApiWrappers\n",
    "from tools.LogicFunctions import LogicFunctions\n",
    "from dbManager.DBManager import DBManager\n",
    "import dbManager.Tables as tb"
   ]
  },
  {
   "cell_type": "markdown",
   "metadata": {},
   "source": [
    "### 2. Class 생성 및 Test 준비"
   ]
  },
  {
   "cell_type": "code",
   "execution_count": 43,
   "metadata": {},
   "outputs": [],
   "source": [
    "binance = BinanceApiWrappers()\n",
    "lf = LogicFunctions()"
   ]
  },
  {
   "cell_type": "markdown",
   "metadata": {},
   "source": [
    "### 3. Test 시작"
   ]
  },
  {
   "cell_type": "code",
   "execution_count": 5,
   "metadata": {},
   "outputs": [],
   "source": [
    "# 계좌정보 동기화\n",
    "binance.updateAccountStatus()"
   ]
  },
  {
   "cell_type": "code",
   "execution_count": 6,
   "metadata": {},
   "outputs": [
    {
     "data": {
      "text/plain": [
       "{'netAssetinUSDT': '17452.3873815728000000',\n",
       " 'spot': {'totalUSDTBalance': '14155.4986156428000000',\n",
       "  'assets': {'ETH': {'qty': '0.73785672',\n",
       "    'usdtEquivalent': '3218.1547057128000000'},\n",
       "   'BNB': {'qty': '0.00000662', 'usdtEquivalent': '0.0039243360000000'},\n",
       "   'USDT': {'qty': '1962.83921628', 'usdtEquivalent': '1962.83921628'},\n",
       "   'XRP': {'qty': '6129.34157000', 'usdtEquivalent': '6525.2970354220000000'},\n",
       "   'VET': {'qty': '18794.33040000', 'usdtEquivalent': '2447.5856479920000000'},\n",
       "   'BETH': {'qty': '1.61808590', 'usdtEquivalent': '1.61808590'}}},\n",
       " 'futures': {'assets': {'USDT': '0.00864056'},\n",
       "  'positions': {'ETHUSDT': {'positionAmt': '-0.740',\n",
       "    'initialMargin': '807.56755000',\n",
       "    'notional': '-3230.27020000',\n",
       "    'inputMargin': '545.78367030',\n",
       "    'isolatedMargin': '549.61402793',\n",
       "    'collateralRatio': '0.1701449085992868336524913612'},\n",
       "   'VETUSDT': {'positionAmt': '-18813',\n",
       "    'initialMargin': '613.16270250',\n",
       "    'notional': '-2452.65081000',\n",
       "    'inputMargin': '29.82483038',\n",
       "    'isolatedMargin': '659.82686105',\n",
       "    'collateralRatio': '0.2690260098827521232017532899'},\n",
       "   'XRPUSDT': {'positionAmt': '-6130.0',\n",
       "    'initialMargin': '1633.33850000',\n",
       "    'notional': '-6533.35400000',\n",
       "    'inputMargin': '636.73116350',\n",
       "    'isolatedMargin': '1487.43926140',\n",
       "    'collateralRatio': '0.2276685545280417990514519801'}},\n",
       "  'totalUSDTBalance': '3296.88876593'}}"
      ]
     },
     "execution_count": 6,
     "metadata": {},
     "output_type": "execute_result"
    }
   ],
   "source": [
    "# 현물과 선물의 총 합계 잔고와 포지션들을 조회\n",
    "binance.getTotalBalanceInfo()"
   ]
  },
  {
   "cell_type": "code",
   "execution_count": 5,
   "metadata": {},
   "outputs": [
    {
     "name": "stdout",
     "output_type": "stream",
     "text": [
      "['BTCUSDT', 'ETHUSDT', 'BNBUSDT', 'NEOUSDT', 'LTCUSDT', 'QTUMUSDT', 'ADAUSDT', 'XRPUSDT', 'EOSUSDT', 'IOTAUSDT', 'XLMUSDT', 'ONTUSDT', 'TRXUSDT', 'ETCUSDT', 'ICXUSDT', 'VETUSDT', 'LINKUSDT', 'WAVESUSDT', 'BTTUSDT', 'HOTUSDT', 'ZILUSDT', 'ZRXUSDT', 'BATUSDT', 'XMRUSDT', 'ZECUSDT', 'IOSTUSDT', 'CELRUSDT', 'DASHUSDT', 'OMGUSDT', 'THETAUSDT', 'ENJUSDT', 'MATICUSDT', 'ATOMUSDT', 'ONEUSDT', 'FTMUSDT', 'ALGOUSDT', 'DOGEUSDT', 'ANKRUSDT', 'MTLUSDT', 'TOMOUSDT', 'DENTUSDT', 'CVCUSDT', 'CHZUSDT', 'BANDUSDT', 'XTZUSDT', 'RENUSDT', 'RVNUSDT', 'HBARUSDT', 'NKNUSDT', 'KAVAUSDT', 'ARPAUSDT', 'IOTXUSDT', 'RLCUSDT', 'BCHUSDT', 'OGNUSDT', 'BTSUSDT', 'COTIUSDT', 'SOLUSDT', 'CTSIUSDT', 'CHRUSDT', 'STMXUSDT', 'KNCUSDT', 'LRCUSDT', 'COMPUSDT', 'SCUSDT', 'ZENUSDT', 'SNXUSDT', 'DGBUSDT', 'SXPUSDT', 'MKRUSDT', 'STORJUSDT', 'MANAUSDT', 'YFIUSDT', 'BALUSDT', 'BLZUSDT', 'SRMUSDT', 'CRVUSDT', 'SANDUSDT', 'OCEANUSDT', 'DOTUSDT', 'LUNAUSDT', 'RSRUSDT', 'TRBUSDT', 'BZRXUSDT', 'SUSHIUSDT', 'YFIIUSDT', 'KSMUSDT', 'EGLDUSDT', 'RUNEUSDT', 'BELUSDT', 'UNIUSDT', 'AVAXUSDT', 'HNTUSDT', 'FLMUSDT', 'ALPHAUSDT', 'AAVEUSDT', 'NEARUSDT', 'FILUSDT', 'AUDIOUSDT', 'CTKUSDT', 'AKROUSDT', 'AXSUSDT', 'UNFIUSDT', 'XEMUSDT', 'SKLUSDT', 'GRTUSDT', '1INCHUSDT', 'REEFUSDT', 'CELOUSDT', 'BTCSTUSDT', 'LITUSDT', 'SFPUSDT', 'DODOUSDT', 'ALICEUSDT', 'LINAUSDT', 'TLMUSDT', 'BAKEUSDT', 'ICPUSDT', 'ARUSDT', 'MASKUSDT', 'NUUSDT', 'ATAUSDT', 'GTCUSDT', 'KEEPUSDT', 'KLAYUSDT', 'C98USDT', 'RAYUSDT', 'DYDXUSDT', 'GALAUSDT']\n"
     ]
    }
   ],
   "source": [
    "  # 거래 가능한 coin-usdt pair 정보\n",
    "print(binance.getAvailableCoinPairLists())"
   ]
  },
  {
   "cell_type": "code",
   "execution_count": 6,
   "metadata": {},
   "outputs": [
    {
     "data": {
      "text/plain": [
       "{'tranId': '85437857043'}"
      ]
     },
     "execution_count": 6,
     "metadata": {},
     "output_type": "execute_result"
    }
   ],
   "source": [
    "#현물에서 선물로 달러 이동\n",
    "binance.transferFromSpotToUsdtM('100')"
   ]
  },
  {
   "cell_type": "code",
   "execution_count": 7,
   "metadata": {},
   "outputs": [
    {
     "data": {
      "text/plain": [
       "{'tranId': '85437860770'}"
      ]
     },
     "execution_count": 7,
     "metadata": {},
     "output_type": "execute_result"
    }
   ],
   "source": [
    "#선물에서 현물로 달러 이동\n",
    "binance.transferFromUsdtMToSpot('100')"
   ]
  },
  {
   "cell_type": "code",
   "execution_count": 8,
   "metadata": {},
   "outputs": [
    {
     "data": {
      "text/plain": [
       "{'symbol': 'XRPUSDT', 'amount': '10.00000000'}"
      ]
     },
     "execution_count": 8,
     "metadata": {},
     "output_type": "execute_result"
    }
   ],
   "source": [
    "# 최소 주문가능 수량 및 precision에 맞게 입력받은 주문수량 조정\n",
    "lf.adjustOrderQuantity('XRPUSDT', '10.4001')"
   ]
  },
  {
   "cell_type": "code",
   "execution_count": 9,
   "metadata": {},
   "outputs": [
    {
     "name": "stdout",
     "output_type": "stream",
     "text": [
      "투자 코인 목록:  ['XRPUSDT', 'ETHUSDT', 'VETUSDT']\n",
      "관리 코인 목록:  ['XRPUSDT', 'ETHUSDT', 'VETUSDT']\n"
     ]
    }
   ],
   "source": [
    "# property 설정값 읽어오기\n",
    "lf.readBotProperties() # 혹시 신규 투자 코인 리스트를 yaml에서 업데이트 할 경우를 대비해 다시한번 초기화\n",
    "lf.binanceApiWrappers.updateAccountStatus()\n",
    "print(\"투자 코인 목록: \", lf.newInvestmentCoinPairs)\n",
    "print(\"관리 코인 목록: \", lf.targetCoinPairs)"
   ]
  },
  {
   "cell_type": "markdown",
   "metadata": {},
   "source": [
    "#### 3.1 실제 거래 테스트 및 거래 정보 조회"
   ]
  },
  {
   "cell_type": "code",
   "execution_count": 7,
   "metadata": {},
   "outputs": [
    {
     "name": "stdout",
     "output_type": "stream",
     "text": [
      "{'symbol': 'ETHUSDT', 'orderId': '6611175934', 'orderListId': '-1', 'clientOrderId': 'vyGOHIO6NjyYeONAvgfQnt', 'transactTime': '1636617198986', 'price': '0.00000000', 'origQty': '0.02100000', 'executedQty': '0.02100000', 'cummulativeQuoteQty': '98.61222000', 'status': 'FILLED', 'timeInForce': 'GTC', 'type': 'MARKET', 'side': 'BUY', 'fills': [{'price': '4695.82000000', 'qty': '0.02100000', 'commission': '0.00002100', 'commissionAsset': 'ETH', 'tradeId': '669494580'}]}\n",
      "{'orderId': '8389765510360135777', 'symbol': 'ETHUSDT', 'status': 'NEW', 'clientOrderId': 'XUJJTlVttVgNSflWa6KlUw', 'price': '0', 'avgPrice': '0.00000', 'origQty': '0.021', 'executedQty': '0', 'cumQty': '0', 'cumQuote': '0', 'timeInForce': 'GTC', 'type': 'MARKET', 'reduceOnly': False, 'closePosition': False, 'side': 'SELL', 'positionSide': 'BOTH', 'stopPrice': '0', 'workingType': 'CONTRACT_PRICE', 'priceProtect': False, 'origType': 'MARKET', 'updateTime': '1636617199174'}\n"
     ]
    }
   ],
   "source": [
    "# spot long / futures short 실제 거래\n",
    "print(binance.orderSpotBuy('ETHUSDT', '0.021'))\n",
    "print(binance.orderFutureSell('ETHUSDT', '0.021'))\n",
    "\n",
    "# lf.binanceApiWrappers.orderSpotBuy('XRPUSDT', '10')\n",
    "# lf.binanceApiWrappers.orderFutureSell('XRPUSDT', '10')"
   ]
  },
  {
   "cell_type": "code",
   "execution_count": 76,
   "metadata": {},
   "outputs": [
    {
     "data": {
      "text/plain": [
       "{'orderId': '18101591835',\n",
       " 'symbol': 'XRPUSDT',\n",
       " 'status': 'NEW',\n",
       " 'clientOrderId': 'I0otP28g7RT8YM1tQSJbOD',\n",
       " 'price': '0',\n",
       " 'avgPrice': '0.00000',\n",
       " 'origQty': '15',\n",
       " 'executedQty': '0',\n",
       " 'cumQty': '0',\n",
       " 'cumQuote': '0',\n",
       " 'timeInForce': 'GTC',\n",
       " 'type': 'MARKET',\n",
       " 'reduceOnly': False,\n",
       " 'closePosition': False,\n",
       " 'side': 'BUY',\n",
       " 'positionSide': 'BOTH',\n",
       " 'stopPrice': '0',\n",
       " 'workingType': 'CONTRACT_PRICE',\n",
       " 'priceProtect': False,\n",
       " 'origType': 'MARKET',\n",
       " 'updateTime': '1636436573199'}"
      ]
     },
     "execution_count": 76,
     "metadata": {},
     "output_type": "execute_result"
    }
   ],
   "source": [
    "# spot short / futures long 실제 거래\n",
    "print(binance.orderSpotSell('XRPUSDT', '10'))\n",
    "print(binance.orderFutureBuy('XRPUSDT', '10'))"
   ]
  },
  {
   "cell_type": "code",
   "execution_count": 77,
   "metadata": {},
   "outputs": [
    {
     "data": {
      "text/plain": [
       "[{'symbol': 'XRPUSDT',\n",
       "  'id': '693411431',\n",
       "  'orderId': '18083258007',\n",
       "  'side': 'BUY',\n",
       "  'price': '1.2803',\n",
       "  'qty': '15',\n",
       "  'realizedPnl': '0.06750000',\n",
       "  'marginAsset': 'USDT',\n",
       "  'quoteQty': '19.20450',\n",
       "  'commission': '0.00768180',\n",
       "  'commissionAsset': 'USDT',\n",
       "  'time': '1636347188545',\n",
       "  'positionSide': 'BOTH',\n",
       "  'buyer': True,\n",
       "  'maker': False}]"
      ]
     },
     "execution_count": 77,
     "metadata": {},
     "output_type": "execute_result"
    }
   ],
   "source": [
    "# 거래 데이터 읽어오기 \n",
    "print(binance.getFuturesTradeData('XRPUSDT', '18083258007'))\n",
    "print(binance.getSpotTradeData('XRPUSDT', '3576716290'))"
   ]
  },
  {
   "cell_type": "code",
   "execution_count": 10,
   "metadata": {},
   "outputs": [
    {
     "name": "stdout",
     "output_type": "stream",
     "text": [
      "XRPUSDT에 대해 현/선물 수량 차이 조절 불필요\n",
      "수량 차이: 0.99000000, 최소 주문 가능량: 9.00000000\n",
      "동시 진입 포지션이 없음\n",
      "ETHUSDT에 대해 현/선물 수량 차이 조절 불필요\n",
      "수량 차이: 0, 최소 주문 가능량: 0.003\n",
      "VETUSDT에 대해 현/선물 수량 차이 조절 불필요\n",
      "수량 차이: 18.66960000, 최소 주문 가능량: 58\n"
     ]
    },
    {
     "data": {
      "text/plain": [
       "{}"
      ]
     },
     "execution_count": 10,
     "metadata": {},
     "output_type": "execute_result"
    }
   ],
   "source": [
    "# 현물 / 선물 수량차이 조절\n",
    "lf.binanceApiWrappers.updateAccountStatus()\n",
    "lf.syncSpotFuturesQty()"
   ]
  },
  {
   "cell_type": "markdown",
   "metadata": {},
   "source": [
    "## 연습장"
   ]
  },
  {
   "cell_type": "code",
   "execution_count": 34,
   "metadata": {},
   "outputs": [],
   "source": [
    "binance = BinanceApiWrappers()\n",
    "lf = LogicFunctions()"
   ]
  },
  {
   "cell_type": "code",
   "execution_count": 55,
   "metadata": {},
   "outputs": [
    {
     "data": {
      "text/plain": [
       "'1.12400000'"
      ]
     },
     "execution_count": 55,
     "metadata": {},
     "output_type": "execute_result"
    }
   ],
   "source": [
    "from decimal import Decimal as dec\n",
    "tickers = binance.apiManager.binance.public_get_ticker_price()\n",
    "str(dec(next(filter(lambda l: l.get('symbol') == 'XRP' + 'USDT', tickers), {'price':'1'}).get('price')))"
   ]
  },
  {
   "cell_type": "code",
   "execution_count": 33,
   "metadata": {},
   "outputs": [
    {
     "data": {
      "text/plain": [
       "[{'symbol': 'XRPUSDT',\n",
       "  'id': '374494460',\n",
       "  'orderId': '3576716290',\n",
       "  'orderListId': '-1',\n",
       "  'price': '1.25410000',\n",
       "  'qty': '10.00000000',\n",
       "  'quoteQty': '12.54100000',\n",
       "  'commission': '0.01000000',\n",
       "  'commissionAsset': 'XRP',\n",
       "  'time': '1636445982908',\n",
       "  'isBuyer': True,\n",
       "  'isMaker': False,\n",
       "  'isBestMatch': True}]"
      ]
     },
     "execution_count": 33,
     "metadata": {},
     "output_type": "execute_result"
    }
   ],
   "source": [
    "binance.getSpotTradeData('XRPUSDT', '3576716290')"
   ]
  },
  {
   "cell_type": "code",
   "execution_count": 44,
   "metadata": {},
   "outputs": [
    {
     "name": "stdout",
     "output_type": "stream",
     "text": [
      "\t\t[Short Spot] Asset: XRPUSDT, Coin: -2000.00000000, USDT: 2888.69711329, orderNo: 2326979140\n"
     ]
    },
    {
     "data": {
      "text/plain": [
       "{'timeStamp': '1620100306320',\n",
       " 'dateTime': '2021-05-04 12:51:46.320000',\n",
       " 'usdtIncome': '2891.58870200',\n",
       " 'coinIncome': '-2000.00000000',\n",
       " 'commission': '2.89158871',\n",
       " 'netUSDTIncome': '2888.69711329',\n",
       " 'netCoinIncome': '-2000.00000000',\n",
       " 'netUSDTCommission': '2.89158871',\n",
       " 'averageTradePrice': '1.445794351'}"
      ]
     },
     "execution_count": 44,
     "metadata": {},
     "output_type": "execute_result"
    }
   ],
   "source": [
    "import datetime\n",
    "\n",
    "\n",
    "def getCurrentCoinPrice(symbol):\n",
    "  tickers = binance.apiManager.binance.public_get_ticker_price()\n",
    "  return str(dec(next(filter(lambda l: l.get('symbol') == symbol, tickers), {'price':'1'}).get('price')))\n",
    "\n",
    "\n",
    "def spotOrderSummary(symbol, orderId, isBuyer = True):\n",
    "    (coinIncome, usdtIncome, commission, usdtCommission) = (dec('0'), dec('0'), dec('0'), dec('0'))\n",
    "    \n",
    "    transactionTimestamp = ''\n",
    "    transactionDatetime = ''\n",
    "    \n",
    "    buyerFlag = dec('1') if isBuyer else dec('-1')\n",
    "\n",
    "    tradeResult = binance.apiManager.binance.private_get_mytrades({'symbol': symbol, 'orderId': orderId})\n",
    "    \n",
    "    for elements in tradeResult:\n",
    "      \n",
    "      if transactionDatetime=='': (transactionTimestamp, transactionDatetime) = (elements.get('time'), datetime.datetime.fromtimestamp(int(elements.get('time'))/1000))\n",
    "      \n",
    "      currentUSDTCommission = dec(elements.get('commission')) if elements.get('commissionAsset')=='USDT' else dec(getCurrentCoinPrice(symbol)) * dec(elements.get('commission'))        \n",
    "      \n",
    "      coinIncome = coinIncome + (dec(elements.get('qty')) * buyerFlag)\n",
    "      usdtIncome = usdtIncome - (dec(elements.get('quoteQty')) * buyerFlag)\n",
    "      commission = commission + dec(elements.get('commission'))\n",
    "      usdtCommission = usdtCommission + currentUSDTCommission\n",
    "\n",
    "    print('\\t\\t[%s Spot] Asset: %s, Coin: %s, USDT: %s, orderNo: %s' %(\n",
    "      'Long' if isBuyer else 'Short',\n",
    "      symbol,\n",
    "      str(coinIncome - commission) if isBuyer else str(coinIncome),\n",
    "      str(usdtIncome) if isBuyer else str(usdtIncome - commission),\n",
    "      orderId\n",
    "      ))\n",
    "    \n",
    "    return {\n",
    "      'timeStamp': transactionTimestamp,\n",
    "      'dateTime' : str(transactionDatetime),\n",
    "      'usdtIncome': str(usdtIncome), 'coinIncome': str(coinIncome), 'commission': str(commission), \n",
    "      'netUSDTIncome': str(usdtIncome) if isBuyer else str(usdtIncome - commission), \n",
    "      'netCoinIncome': str(coinIncome - commission) if isBuyer else str(coinIncome),\n",
    "      'netUSDTCommission' : str(usdtCommission),\n",
    "      'averageTradePrice' : str(-usdtIncome/coinIncome)\n",
    "      }\n",
    "    \n",
    "spotOrderSummary('XRPUSDT', '2326979140', False)\n",
    "#getCurrentCoinPrice('XRPUSDT')"
   ]
  },
  {
   "cell_type": "code",
   "execution_count": 45,
   "metadata": {},
   "outputs": [
    {
     "name": "stdout",
     "output_type": "stream",
     "text": [
      "[DB 관리]\t MYSQL 서버에 연결 완료\n",
      "[DB 관리]\t springbank DB가 존재합니다\n",
      "[DB 관리]\t springbank 데이터베이스에 연결 완료\n"
     ]
    }
   ],
   "source": [
    "springbank = DBManager('springbank')"
   ]
  },
  {
   "cell_type": "code",
   "execution_count": 46,
   "metadata": {},
   "outputs": [],
   "source": [
    "from sqlalchemy.orm import declarative_base\n",
    "from sqlalchemy import MetaData, Table\n",
    "metadata = MetaData()\n",
    "Base = declarative_base()"
   ]
  },
  {
   "cell_type": "code",
   "execution_count": 21,
   "metadata": {},
   "outputs": [],
   "source": [
    "user = Table('user', metadata, autoload_with = springbank.engine)"
   ]
  },
  {
   "cell_type": "code",
   "execution_count": 29,
   "metadata": {},
   "outputs": [
    {
     "name": "stdout",
     "output_type": "stream",
     "text": [
      "SELECT \"user\".\"USER_ID\", \"user\".\"NAME\" \n",
      "FROM \"user\" \n",
      "WHERE \"user\".\"USER_ID\" = :USER_ID_1 AND \"user\".\"NAME\" = :NAME_1\n",
      "2021-11-22 18:25:46,908 INFO sqlalchemy.engine.Engine SELECT user.`USER_ID`, user.`NAME` \n",
      "FROM user \n",
      "WHERE user.`USER_ID` = %s AND user.`NAME` = %s\n",
      "2021-11-22 18:25:46,909 INFO sqlalchemy.engine.Engine [generated in 0.00079s] ('001', 'Minje Park')\n",
      "('001', 'Minje Park')\n"
     ]
    }
   ],
   "source": [
    "from sqlalchemy import select\n",
    "stmt = select(user).where(\n",
    "    user.c.USER_ID == '001',\n",
    "    user.c.NAME == 'Minje Park')\n",
    "print(stmt)\n",
    "\n",
    "with springbank.engine.connect() as conn:\n",
    "    for row in conn.execute(stmt):\n",
    "        print(row)"
   ]
  },
  {
   "cell_type": "code",
   "execution_count": 35,
   "metadata": {},
   "outputs": [],
   "source": [
    "from sqlalchemy import update\n",
    "\n",
    "stmt = update(tb.user).where(tb.user.c.USER_ID=='001').values(NAME='Minje')"
   ]
  },
  {
   "cell_type": "code",
   "execution_count": 22,
   "metadata": {},
   "outputs": [
    {
     "name": "stdout",
     "output_type": "stream",
     "text": [
      "('001', 'Minje Park')\n"
     ]
    }
   ],
   "source": [
    "sel = tb.user.select().where(tb.user.columns.USER_ID ==\"001\")\n",
    "\n",
    "result = connection.execute(sel)\n",
    "\n",
    "for rows in result:\n",
    "    print(rows)\n"
   ]
  },
  {
   "cell_type": "code",
   "execution_count": 4,
   "metadata": {},
   "outputs": [
    {
     "data": {
      "text/plain": [
       "'1.4.27'"
      ]
     },
     "execution_count": 4,
     "metadata": {},
     "output_type": "execute_result"
    }
   ],
   "source": [
    "import sqlalchemy\n",
    "sqlalchemy.__version__"
   ]
  },
  {
   "cell_type": "markdown",
   "metadata": {},
   "source": [
    "## 본격 DB 테스트"
   ]
  },
  {
   "cell_type": "code",
   "execution_count": 8,
   "metadata": {},
   "outputs": [
    {
     "name": "stdout",
     "output_type": "stream",
     "text": [
      "[DB 관리]\t MYSQL 서버에 연결 완료\n",
      "[DB 관리]\t springbank DB가 존재합니다\n",
      "[DB 관리]\t springbank 데이터베이스에 연결 완료\n",
      "2021-12-02 00:46:56,354 INFO sqlalchemy.engine.Engine SHOW VARIABLES LIKE 'sql_mode'\n",
      "2021-12-02 00:46:56,355 INFO sqlalchemy.engine.Engine [raw sql] {}\n",
      "2021-12-02 00:46:56,366 INFO sqlalchemy.engine.Engine SHOW VARIABLES LIKE 'lower_case_table_names'\n",
      "2021-12-02 00:46:56,368 INFO sqlalchemy.engine.Engine [generated in 0.00098s] {}\n",
      "2021-12-02 00:46:56,370 INFO sqlalchemy.engine.Engine SELECT DATABASE()\n",
      "2021-12-02 00:46:56,371 INFO sqlalchemy.engine.Engine [raw sql] {}\n"
     ]
    }
   ],
   "source": [
    "binance = BinanceApiWrappers()\n",
    "lf = LogicFunctions()\n",
    "\n",
    "springbank = DBManager('springbank')\n",
    "connection = springbank.engine.connect()"
   ]
  },
  {
   "cell_type": "markdown",
   "metadata": {},
   "source": [
    "로그 남기기"
   ]
  },
  {
   "cell_type": "code",
   "execution_count": 15,
   "metadata": {},
   "outputs": [],
   "source": [
    "def log(lf, connection, group, message):\n",
    "    connection.execute(tb.log.insert(), [{'USER_ID': lf.userID, 'TIMESTAMP': time.time(), 'GROUP': group, 'MESSAGE': message, }])"
   ]
  },
  {
   "cell_type": "markdown",
   "metadata": {},
   "source": [
    "실시간 자산 현황 데이터베이스 기록"
   ]
  },
  {
   "cell_type": "code",
   "execution_count": 109,
   "metadata": {},
   "outputs": [
    {
     "name": "stdout",
     "output_type": "stream",
     "text": [
      "2021-11-29 10:16:27,774 INFO sqlalchemy.engine.Engine INSERT INTO log (`USER_ID`, `TIMESTAMP`, `GROUP`, `MESSAGE`) VALUES (%s, %s, %s, %s)\n",
      "2021-11-29 10:16:27,775 INFO sqlalchemy.engine.Engine [generated in 0.00079s] ('001', 1638148587.7734444, '자산 스냅샷', '[SPOT] XRPUSDT 5982.8503064770000000')\n",
      "2021-11-29 10:16:27,779 INFO sqlalchemy.engine.Engine COMMIT\n",
      "2021-11-29 10:16:27,784 INFO sqlalchemy.engine.Engine INSERT INTO log (`USER_ID`, `TIMESTAMP`, `GROUP`, `MESSAGE`) VALUES (%s, %s, %s, %s)\n",
      "2021-11-29 10:16:27,785 INFO sqlalchemy.engine.Engine [cached since 0.01089s ago] ('001', 1638148587.7844148, '자산 스냅샷', '[FUTR] XRPUSDT 1440.58286947')\n",
      "2021-11-29 10:16:27,786 INFO sqlalchemy.engine.Engine COMMIT\n",
      "2021-11-29 10:16:27,970 INFO sqlalchemy.engine.Engine INSERT INTO log (`USER_ID`, `TIMESTAMP`, `GROUP`, `MESSAGE`) VALUES (%s, %s, %s, %s)\n",
      "2021-11-29 10:16:27,971 INFO sqlalchemy.engine.Engine [cached since 0.1969s ago] ('001', 1638148587.9702466, '자산 스냅샷', '[SPOT] ETHUSDT 3613.7500958320000000')\n",
      "2021-11-29 10:16:27,973 INFO sqlalchemy.engine.Engine COMMIT\n",
      "2021-11-29 10:16:27,977 INFO sqlalchemy.engine.Engine INSERT INTO log (`USER_ID`, `TIMESTAMP`, `GROUP`, `MESSAGE`) VALUES (%s, %s, %s, %s)\n",
      "2021-11-29 10:16:27,977 INFO sqlalchemy.engine.Engine [cached since 0.2032s ago] ('001', 1638148587.976197, '자산 스냅샷', '[FUTR] ETHUSDT 646.53839615')\n",
      "2021-11-29 10:16:27,979 INFO sqlalchemy.engine.Engine COMMIT\n",
      "2021-11-29 10:16:28,185 INFO sqlalchemy.engine.Engine INSERT INTO log (`USER_ID`, `TIMESTAMP`, `GROUP`, `MESSAGE`) VALUES (%s, %s, %s, %s)\n",
      "2021-11-29 10:16:28,189 INFO sqlalchemy.engine.Engine [cached since 0.4146s ago] ('001', 1638148588.1854072, '자산 스냅샷', '[SPOT] VETUSDT 2655.0002585880000000')\n",
      "2021-11-29 10:16:28,193 INFO sqlalchemy.engine.Engine COMMIT\n",
      "2021-11-29 10:16:28,198 INFO sqlalchemy.engine.Engine INSERT INTO log (`USER_ID`, `TIMESTAMP`, `GROUP`, `MESSAGE`) VALUES (%s, %s, %s, %s)\n",
      "2021-11-29 10:16:28,199 INFO sqlalchemy.engine.Engine [cached since 0.426s ago] ('001', 1638148588.1989148, '자산 스냅샷', '[FUTR] VETUSDT 947.81589602')\n",
      "2021-11-29 10:16:28,202 INFO sqlalchemy.engine.Engine COMMIT\n",
      "2021-11-29 10:16:28,206 INFO sqlalchemy.engine.Engine INSERT INTO log (`USER_ID`, `TIMESTAMP`, `GROUP`, `MESSAGE`) VALUES (%s, %s, %s, %s)\n",
      "2021-11-29 10:16:28,207 INFO sqlalchemy.engine.Engine [cached since 0.4331s ago] ('001', 1638148588.2059, '자산 스냅샷', '[USDT]  1419.63002818')\n",
      "2021-11-29 10:16:28,208 INFO sqlalchemy.engine.Engine COMMIT\n",
      "2021-11-29 10:16:28,213 INFO sqlalchemy.engine.Engine INSERT INTO asset (`USER_ID`, `TIMESTAMP`, `VALUE_SPOT`, `VALUE_FUTURES`, `USDT_RESERVE`) VALUES (%s, %s, %s, %s, %s)\n",
      "2021-11-29 10:16:28,214 INFO sqlalchemy.engine.Engine [generated in 0.00093s] ('001', 1638148587.4554167, '12251.6006608970000000', '3034.93716164', '1419.63002818')\n",
      "2021-11-29 10:16:28,218 INFO sqlalchemy.engine.Engine COMMIT\n"
     ]
    }
   ],
   "source": [
    "import time\n",
    "from decimal import Decimal as dec\n",
    "\n",
    "def retrieve_asset_under_management(lf, connection):\n",
    "    \n",
    "    # 계좌정보 동기화\n",
    "    lf.binanceApiWrappers.updateAccountStatus()\n",
    "    timestamp = time.time()\n",
    "    \n",
    "    # 현물과 선물의 총 합계 잔고와 포지션들을 조회\n",
    "    totalBalanceInfo = lf.binanceApiWrappers.getTotalBalanceInfo()\n",
    "    (spot_value, futures_value) = (dec('0'), dec('0'))\n",
    "        \n",
    "    for coins in lf.targetCoinPairs:\n",
    "        if lf.hasAsset(coins) and lf.hasPosition(coins):\n",
    "            spotcoin_usdt_equivalent = totalBalanceInfo.get('spot').get('assets').get(coins[:-4]).get('usdtEquivalent')\n",
    "            spot_value += dec(spotcoin_usdt_equivalent)\n",
    "            log(lf, connection, '자산 스냅샷', '[SPOT] ' + coins +' '+ spotcoin_usdt_equivalent)\n",
    "            \n",
    "            futurescoin_usdt_equivalent = totalBalanceInfo.get('futures').get('positions').get(coins).get('isolatedMargin')\n",
    "            futures_value += dec(futurescoin_usdt_equivalent)\n",
    "            log(lf, connection, '자산 스냅샷', '[FUTR] ' + coins +' ' + futurescoin_usdt_equivalent)\n",
    "       \n",
    "    usdt_reserve = dec(totalBalanceInfo.get('spot').get('assets').get('USDT').get('usdtEquivalent')) + dec(totalBalanceInfo.get('futures').get('assets').get('USDT'))\n",
    "    log(lf, connection, '자산 스냅샷', '[USDT] ' + ' ' + str(usdt_reserve))\n",
    "    \n",
    "    # DB 입력\n",
    "    dbInput = {'USER_ID': lf.userID, 'TIMESTAMP': timestamp, 'VALUE_SPOT': str(spot_value), 'VALUE_FUTURES': str(futures_value), 'USDT_RESERVE': str(usdt_reserve)}\n",
    "    connection.execute(tb.asset.insert(), [dbInput])\n",
    "    # print(dbInput)\n",
    "\n",
    "\n",
    "retrieve_asset_under_management(lf, connection)"
   ]
  },
  {
   "cell_type": "markdown",
   "metadata": {},
   "source": [
    "현/선물 포지션 정보 확인하기. 최초 1회만 수행되며, 이후부터는 거래를 통해 평균 가격 업데이트 해야함"
   ]
  },
  {
   "cell_type": "code",
   "execution_count": 10,
   "metadata": {},
   "outputs": [
    {
     "name": "stdout",
     "output_type": "stream",
     "text": [
      "2021-11-28 00:49:20,938 INFO sqlalchemy.engine.Engine DELETE FROM positions\n",
      "2021-11-28 00:49:20,938 INFO sqlalchemy.engine.Engine [generated in 0.00072s] {}\n",
      "2021-11-28 00:49:20,942 INFO sqlalchemy.engine.Engine COMMIT\n",
      "2021-11-28 00:49:21,340 INFO sqlalchemy.engine.Engine INSERT INTO positions (`USER_ID`, `SYMBOL`, `IS_SPOT`, `QUANTITY`, `AVG_PRICE`) VALUES (%(USER_ID)s, %(SYMBOL)s, %(IS_SPOT)s, %(QUANTITY)s, %(AVG_PRICE)s)\n",
      "2021-11-28 00:49:21,341 INFO sqlalchemy.engine.Engine [generated in 0.00091s] ({'USER_ID': '001', 'SYMBOL': 'XRPUSDT', 'IS_SPOT': 1, 'QUANTITY': '6129.34157000', 'AVG_PRICE': '1.20457783231'}, {'USER_ID': '001', 'SYMBOL': 'XRPUSDT', 'IS_SPOT': 0, 'QUANTITY': '-6130.0', 'AVG_PRICE': '1.20457783231'})\n",
      "2021-11-28 00:49:21,343 INFO sqlalchemy.engine.Engine COMMIT\n",
      "2021-11-28 00:49:21,840 INFO sqlalchemy.engine.Engine INSERT INTO positions (`USER_ID`, `SYMBOL`, `IS_SPOT`, `QUANTITY`, `AVG_PRICE`) VALUES (%(USER_ID)s, %(SYMBOL)s, %(IS_SPOT)s, %(QUANTITY)s, %(AVG_PRICE)s)\n",
      "2021-11-28 00:49:21,841 INFO sqlalchemy.engine.Engine [cached since 0.501s ago] ({'USER_ID': '001', 'SYMBOL': 'ETHUSDT', 'IS_SPOT': 1, 'QUANTITY': '0.83374672', 'AVG_PRICE': '4346.221937928'}, {'USER_ID': '001', 'SYMBOL': 'ETHUSDT', 'IS_SPOT': 0, 'QUANTITY': '-0.836', 'AVG_PRICE': '4346.221937928'})\n",
      "2021-11-28 00:49:21,844 INFO sqlalchemy.engine.Engine COMMIT\n",
      "2021-11-28 00:49:22,256 INFO sqlalchemy.engine.Engine INSERT INTO positions (`USER_ID`, `SYMBOL`, `IS_SPOT`, `QUANTITY`, `AVG_PRICE`) VALUES (%(USER_ID)s, %(SYMBOL)s, %(IS_SPOT)s, %(QUANTITY)s, %(AVG_PRICE)s)\n",
      "2021-11-28 00:49:22,256 INFO sqlalchemy.engine.Engine [cached since 0.9166s ago] ({'USER_ID': '001', 'SYMBOL': 'VETUSDT', 'IS_SPOT': 1, 'QUANTITY': '21360.76140000', 'AVG_PRICE': '0.1588175254146'}, {'USER_ID': '001', 'SYMBOL': 'VETUSDT', 'IS_SPOT': 0, 'QUANTITY': '-21382', 'AVG_PRICE': '0.1588175254146'})\n",
      "2021-11-28 00:49:22,260 INFO sqlalchemy.engine.Engine COMMIT\n"
     ]
    }
   ],
   "source": [
    "def updatePositions(lf, connection):\n",
    "    # 계좌정보 동기화\n",
    "    lf.binanceApiWrappers.updateAccountStatus()\n",
    "    \n",
    "    # 기존 저장된 포지션 정보 삭제\n",
    "    connection.execute(tb.positions.delete())\n",
    "    \n",
    "    for coins in lf.targetCoinPairs:\n",
    "        if lf.hasAsset(coins) and lf.hasPosition(coins): # 양쪽 모두에 진입해 있다면\n",
    "            # Futures\n",
    "            coin_position = lf.binanceApiWrappers.getFuturePositions(coins)\n",
    "            positionAmt_futures = coin_position.get('positionAmt')\n",
    "            entryPrice_futures = coin_position.get('entryPrice')\n",
    "            dbInput_futures = {'USER_ID': lf.userID,'SYMBOL': coins,'IS_SPOT': 0, 'QUANTITY': positionAmt_futures, 'AVG_PRICE': entryPrice_futures}\n",
    "            # Spot\n",
    "            positionAmt_spot = lf.binanceApiWrappers.getCurrentSpotBalances().get(coins[:-4]).get('qty')\n",
    "            entryPrice_spot = entryPrice_futures # '0' Spot의 경우에는 평단이 제공되지 않으므로, 일단 최초 세팅시 포지션들이 잡혀있다면 futures 진입 가격과 같다고 가정\n",
    "            dbInput_spot = {'USER_ID': lf.userID,'SYMBOL': coins,'IS_SPOT': 1, 'QUANTITY': positionAmt_spot, 'AVG_PRICE': entryPrice_spot}\n",
    "        else:\n",
    "            dbInput_futures = {'USER_ID': lf.userID,'SYMBOL': coins,'IS_SPOT': 0, 'QUANTITY': '0', 'AVG_PRICE': '0'}\n",
    "            dbInput_spot = {'USER_ID': lf.userID,'SYMBOL': coins,'IS_SPOT': 1, 'QUANTITY': '0', 'AVG_PRICE': '0'}\n",
    "        \n",
    "        \n",
    "        # DB 삽입\n",
    "        connection.execute(tb.positions.insert(), [dbInput_spot, dbInput_futures])\n",
    "\n",
    "updatePositions(lf, connection)\n",
    "\n",
    "\n",
    "# 없던 타겟 코인이 추가되었거나 (진입은 안한상태), DB에 저장이 이미 되어있을 시 업데이트만 하는 등 완성도 높이기"
   ]
  },
  {
   "cell_type": "markdown",
   "metadata": {},
   "source": [
    "상세 거래내용, 주문내용 삽입"
   ]
  },
  {
   "cell_type": "code",
   "execution_count": 9,
   "metadata": {},
   "outputs": [],
   "source": [
    "# Commission이 코인일 경우 현가 계산하기 위한 함수\n",
    "import datetime\n",
    "def getCurrentCoinPrice(symbol):\n",
    "  tickers = binance.apiManager.binance.public_get_ticker_price()\n",
    "  return str(dec(next(filter(lambda l: l.get('symbol') == symbol, tickers), {'price':'1'}).get('price')))\n",
    "\n",
    "# 상세 order / 거래 내용 DB 삽입하는 함수\n",
    "def get_order_DBinput_info(lf,connection, symbol, actionID, orderId, isSpot = True, isBuyer = True):\n",
    "  apiInput = {'symbol': symbol, 'orderId': orderId}\n",
    "  orderResult = lf.binanceApiWrappers.apiManager.binance.private_get_mytrades(apiInput) if isSpot else lf.binanceApiWrappers.apiManager.futureBinance.fapiPrivate_get_usertrades(apiInput)\n",
    "  \n",
    "  #spotOrderResult = lf.binanceApiWrappers.apiManager.binance.private_get_mytrades({'symbol': symbol, 'orderId': orderId})\n",
    "  \n",
    "  orderTimestamp = ''\n",
    "  (order_coinIncome, order_usdtIncome, order_commission, order_totalUSDTCommission) = (dec('0'), dec('0'), dec('0'), dec('0'))\n",
    "  buyerFlag = dec('1') if isBuyer else dec('-1')\n",
    "  \n",
    "  tx_input_set = [] #거래 내역들이 모인 list. 이 list가 데이터베이스에 삽입됨\n",
    "  for transactions in orderResult:\n",
    "    \n",
    "    tx_commission = transactions.get('commission')\n",
    "    tx_commissionAsset = transactions.get('commissionAsset')\n",
    "    tx_usdtCommission = tx_commission if tx_commissionAsset == 'USDT' else str(dec(getCurrentCoinPrice(tx_commissionAsset+'USDT')) * dec(tx_commission))\n",
    "    \n",
    "    tx_input = {\n",
    "      'USER_ID': lf.userID,\n",
    "      'IS_SPOT': 1 if isSpot else 0,\n",
    "      'IS_BUY': 1 if isBuyer else 0, \n",
    "      'B_ORDERNO': orderId, \n",
    "      'TX_ID': transactions.get('id'),\n",
    "      'TX_TIMESTAMP': transactions.get('time'), \n",
    "      'TX_DATE': datetime.datetime.fromtimestamp(int(transactions.get('time'))/1000), \n",
    "      'SYMBOL': symbol,\n",
    "      'PRICE': transactions.get('price'), \n",
    "      'AMOUNT': transactions.get('qty'), \n",
    "      'QUOTE_PRICE': transactions.get('quoteQty'), \n",
    "      'COMMISSION': tx_commission, \n",
    "      'COMMISSION_ASSET': tx_commissionAsset, \n",
    "      'COMMISSION_USDT': tx_usdtCommission  \n",
    "    }\n",
    "    tx_input_set.append(tx_input)\n",
    "    \n",
    "    # order 단위로 업데이트할 내용들 처리\n",
    "    if orderTimestamp=='': orderTimestamp = transactions.get('time') # 첫 트랜잭션이 이루어진 시간을 order time으로 정함 (시장가 주문이기에)\n",
    "    order_coinIncome += dec(transactions.get('qty')) * buyerFlag\n",
    "    order_usdtIncome -= dec(transactions.get('quoteQty')) * buyerFlag\n",
    "    order_commission += dec(tx_commission)\n",
    "    order_totalUSDTCommission += dec(tx_usdtCommission)\n",
    "    \n",
    "  order_input = {\n",
    "    'USER_ID': lf.userID,\n",
    "    'ACTION_ID': actionID,\n",
    "    'IS_SPOT': 1 if isSpot else 0,\n",
    "    'IS_BUY': 1 if isBuyer else 0, \n",
    "    'B_ORDERNO': orderId, \n",
    "    'ORDER_TIMESTAMP': orderTimestamp, \n",
    "    'ORDER_DATE': datetime.datetime.fromtimestamp(int(orderTimestamp)/1000), \n",
    "    'SYMBOL': symbol, \n",
    "    'AMOUNT': str(order_coinIncome - order_commission) if isBuyer and isSpot else str(order_coinIncome),\n",
    "    'UNIT_PRICE': str(abs(order_usdtIncome/order_coinIncome)),\n",
    "    'TOTAL_PRICE': str(abs(order_usdtIncome - order_totalUSDTCommission)) if isBuyer and isSpot else str(abs(order_usdtIncome)),\n",
    "    'COMMISSION_USDT': str(order_totalUSDTCommission)\n",
    "  }\n",
    "  \n",
    "  # DB 삽입. 정합성 맞추기 위해 tx 데이터들 모아 한번에 삽입\n",
    "  # connection.execute(tb.transaction.insert(), tx_input_set)\n",
    "  # connection.execute(tb.order.insert(), order_input)\n",
    "  \n",
    "  # with connection:\n",
    "  #   connection.execute(tb.transaction.insert(), tx_input_set)\n",
    "  #   connection.execute(tb.order.insert(), order_input)\n",
    "  \n",
    "  return {'order_input': order_input, 'tx_input_set': tx_input_set}\n",
    "\n",
    "# get_order_DBinput_info(lf = lf,connection = connection, symbol = 'XRPUSDT', actionID = 1, orderId = '2326979140', isSpot = True, isBuyer = False)\n",
    "# get_order_DBinput_info(lf, connection, 'LTCUSDT', 2, '1716613655', True, True)\n",
    "# get_order_DBinput_info(lf, connection, 'DOGEUSDT', 3, '5263201033', False, False)\n",
    "# get_order_DBinput_info(lf, connection, 'DOGEUSDT', 4, '5263753002', False, True)\n",
    "\n",
    "    "
   ]
  },
  {
   "cell_type": "markdown",
   "metadata": {},
   "source": [
    "액션내용 삽입"
   ]
  },
  {
   "cell_type": "code",
   "execution_count": 10,
   "metadata": {},
   "outputs": [],
   "source": [
    "import datetime\n",
    "\n",
    "def save_action_result(engine, lf, actiontype, action_timestamp, symbol, orders = [{'orderID':1, 'symbol': 'TESTSYMBOL', 'isSpot': True, 'isBuyer': True}]):\n",
    "    \n",
    "    action_input = {'USER_ID': lf.userID, \n",
    "                    'ACTION_TIMESTAMP': action_timestamp,\n",
    "                    'ACTION_DATE': datetime.datetime.fromtimestamp(action_timestamp), \n",
    "                    'TYPE': actiontype, \n",
    "                    'SYMBOL': symbol}\n",
    "\n",
    "    orderDetails = []\n",
    "    \n",
    "    with engine.begin() as conn:\n",
    "        conn.execute(tb.action.insert(), action_input)\n",
    "        select_result = conn.execute(tb.action.select().where(tb.action.c.ACTION_TIMESTAMP == action_timestamp))\n",
    "        action_id = select_result.first().ACTION_ID\n",
    "        \n",
    "        for order in orders:\n",
    "            orderInfo =   get_order_DBinput_info(lf = lf,connection = engine.connect(), symbol = symbol, \n",
    "                                                 actionID = action_id, orderId = order.get('orderID'), \n",
    "                                                 isSpot = order.get('isSpot'), isBuyer = order.get('isBuyer'))\n",
    "            orderDetails.append(orderInfo)\n",
    "            \n",
    "            conn.execute(tb.transaction.insert(), orderInfo.get('tx_input_set'))\n",
    "            conn.execute(tb.order.insert(), orderInfo.get('order_input'))\n",
    "    \n",
    "    return {'action_details': action_input, 'order_details': orderDetails}\n",
    "\n",
    "# save_action_result(engine = springbank.engine, \n",
    "#                    lf = lf, \n",
    "#                    actiontype = 1, \n",
    "#                    action_timestamp = datetime.datetime.now().timestamp(), \n",
    "#                    symbol = 'XRPUSDT', \n",
    "#                    orders = [{'orderID':'2326979140', 'symbol': 'XRPUSDT', 'isSpot': True, 'isBuyer': False}])\n",
    "\n",
    "# save_action_result(engine = springbank.engine, \n",
    "#                    lf = lf, \n",
    "#                    actiontype = 1, \n",
    "#                    action_timestamp = datetime.datetime.now().timestamp(), \n",
    "#                    symbol = 'LTCUSDT', \n",
    "#                    orders = [{'orderID':'1716613655', 'symbol': 'LTCUSDT', 'isSpot': True, 'isBuyer': True}])\n",
    "\n",
    "# save_action_result(engine = springbank.engine, \n",
    "#                    lf = lf, \n",
    "#                    actiontype = 1, \n",
    "#                    action_timestamp = datetime.datetime.now().timestamp(), \n",
    "#                    symbol = 'DOGEUSDT', \n",
    "#                    orders = [{'orderID':'5263201033', 'symbol': 'DOGEUSDT', 'isSpot': False, 'isBuyer': False},\n",
    "#                              {'orderID':'5263753002', 'symbol': 'DOGEUSDT', 'isSpot': False, 'isBuyer': True}])"
   ]
  },
  {
   "cell_type": "markdown",
   "metadata": {},
   "source": [
    "양 포지션 진입 함수부터 짜기"
   ]
  },
  {
   "cell_type": "code",
   "execution_count": 11,
   "metadata": {},
   "outputs": [
    {
     "name": "stdout",
     "output_type": "stream",
     "text": [
      "[DB 관리]\t MYSQL 서버에 연결 완료\n",
      "[DB 관리]\t springbank DB가 존재합니다\n",
      "[DB 관리]\t springbank 데이터베이스에 연결 완료\n",
      "2021-12-02 00:47:27,604 INFO sqlalchemy.engine.Engine SHOW VARIABLES LIKE 'sql_mode'\n",
      "2021-12-02 00:47:27,604 INFO sqlalchemy.engine.Engine [raw sql] {}\n",
      "2021-12-02 00:47:27,610 INFO sqlalchemy.engine.Engine SHOW VARIABLES LIKE 'lower_case_table_names'\n",
      "2021-12-02 00:47:27,610 INFO sqlalchemy.engine.Engine [generated in 0.00096s] {}\n",
      "2021-12-02 00:47:27,615 INFO sqlalchemy.engine.Engine SELECT DATABASE()\n",
      "2021-12-02 00:47:27,615 INFO sqlalchemy.engine.Engine [raw sql] {}\n"
     ]
    }
   ],
   "source": [
    "springbank = DBManager('springbank')\n",
    "connection = springbank.engine.connect()\n",
    "\n",
    "def enterPosition(lf, engine, symbol, investmentNotional):\n",
    "    starting_timestamp = datetime.datetime.now().timestamp()\n",
    "    connection = engine.connect()\n",
    "\n",
    "    while True:\n",
    "        piThreshold = dec(lf.getPremiumIndexThreshold(symbol).get('upper')) # API 호출\n",
    "        threshold_price_difference = dec(lf.binanceApiWrappers.getRealtimeFundingFee(symbol).get('indexPrice')) * piThreshold\n",
    "        \n",
    "        spot_buy_bid_price = dec(lf.binanceApiWrappers.getSpotOrderBookTicker(symbol).get('askPrice'))\n",
    "        futures_sell_ask_price = dec(lf.binanceApiWrappers.getFutureOrderBookTicker(symbol).get('bidPrice'))\n",
    "\n",
    "        diff = futures_sell_ask_price - spot_buy_bid_price\n",
    "\n",
    "        if (diff) > dec('1.2')*threshold_price_difference:\n",
    "\n",
    "            ending_timestamp = datetime.datetime.now().timestamp()\n",
    "            time_difference = ending_timestamp - starting_timestamp\n",
    "\n",
    "            log(lf, connection, '포지션 진입', 'Entering Positions in %f seconds' %(time_difference))\n",
    "            print('\\t\\tEntering Positions in %f seconds' %(time_difference))\n",
    "\n",
    "            log(lf, connection, '포지션 진입', 'Current Price Difference: %f, Threshold: %f' %(diff, threshold_price_difference))\n",
    "            print('\\t\\tCurrent Price Difference: %f, Threshold: %f' %(diff, threshold_price_difference))\n",
    "\n",
    "            # 조회 시점에서 선/현물 투자 금액 계산 및 분배\n",
    "            investmentInfo = lf.calculateInvestmentQty(symbol, investmentNotional) # API 2회 호출\n",
    "            # 필요 증거금을 현물 -> 선물지갑으로 이동\n",
    "            lf.binanceApiWrappers.transferFromSpotToUsdtM(investmentInfo.get('futuresUSDT')) # API 호출\n",
    "            log(lf, connection, '포지션 진입', 'transfer %s USDT from spot wallet to futures wallet' %(investmentInfo.get('futuresUSDT')))\n",
    "            print('\\t\\ttransfer %s USDT from spot wallet to futures wallet' %(investmentInfo.get('futuresUSDT')))\n",
    "            #현물 매수, 선물 매도==================================================================\n",
    "            spotBuyOrderNo = lf.binanceApiWrappers.orderSpotBuy(symbol, investmentInfo.get('amount')).get('orderId') # API 호출\n",
    "            futuresSellOrderNo = lf.binanceApiWrappers.orderFutureSell(symbol, investmentInfo.get('amount')).get('orderId') # API 호출\n",
    "            \n",
    "            action_result = save_action_result(engine = engine, lf = lf, actiontype = 1, action_timestamp = starting_timestamp, symbol = symbol, orders = [\n",
    "                {'orderID':spotBuyOrderNo, 'symbol': symbol, 'isSpot': True, 'isBuyer': True},\n",
    "                {'orderID':futuresSellOrderNo, 'symbol': symbol, 'isSpot': False, 'isBuyer': False}])\n",
    "\n",
    "            actual_spot_buy_price = action_result.get('order_details')[0].get('order_input').get('UNIT_PRICE')\n",
    "            actual_futures_sell_price = action_result.get('order_details')[1].get('order_input').get('UNIT_PRICE')\n",
    "\n",
    "\n",
    "            log(lf, connection, '포지션 진입', '[탐지] 선물 매도가: %f, 현물 매수가: %f' %(float(futures_sell_ask_price), float(spot_buy_bid_price)))\n",
    "            log(lf, connection, '포지션 진입', '[실제] 선물 매도가: %f, 현물 매수가: %f' %(float(actual_futures_sell_price), float(actual_spot_buy_price)))\n",
    "\n",
    "            break\n"
   ]
  },
  {
   "cell_type": "code",
   "execution_count": 12,
   "metadata": {},
   "outputs": [],
   "source": [
    "def leavePosition(lf, engine, symbol, investmentNotional):\n",
    "    starting_timestamp = datetime.datetime.now().timestamp()\n",
    "    connection = engine.connect()\n",
    "\n",
    "    while True:\n",
    "        indexPrice = dec(lf.binanceApiWrappers.getRealtimeFundingFee(symbol).get('indexPrice'))\n",
    "        piThreshold = dec(lf.getPremiumIndexThreshold(symbol).get('lower')) # API 호출\n",
    "        threshold_price_difference = indexPrice * piThreshold\n",
    "        \n",
    "        spot_sell_bid_price = dec(lf.binanceApiWrappers.getSpotOrderBookTicker(symbol).get('bidPrice'))\n",
    "        futures_buy_ask_price = dec(lf.binanceApiWrappers.getFutureOrderBookTicker(symbol).get('askPrice'))\n",
    "\n",
    "        diff = futures_buy_ask_price - spot_sell_bid_price\n",
    "        index_diff = futures_buy_ask_price - indexPrice\n",
    "\n",
    "        if (index_diff) < dec('1.5')*threshold_price_difference:\n",
    "\n",
    "            ending_timestamp = datetime.datetime.now().timestamp()\n",
    "            time_difference = ending_timestamp - starting_timestamp\n",
    "\n",
    "            log(lf, connection, '포지션 탈출', 'Leaving Positions in %f seconds' %(time_difference))\n",
    "            print('\\t\\Leaving Positions in %f seconds' %(time_difference))\n",
    "\n",
    "            log(lf, connection, '포지션 탈출', 'Current Price Difference: %f, Threshold: %f' %(diff, threshold_price_difference))\n",
    "            print('\\t\\tCurrent Price Difference: %f, Threshold: %f' %(diff, threshold_price_difference))\n",
    "\n",
    "            # 조회 시점에서 선/현물 투자 금액 계산 및 분배\n",
    "            investmentInfo = lf.calculateInvestmentQty(symbol, investmentNotional) # API 2회 호출\n",
    "            #현물 매도, 선물 매수==================================================================\n",
    "            spotSellOrderNo = lf.binanceApiWrappers.orderSpotSell(symbol, investmentInfo.get('amount')).get('orderId') # API 호출\n",
    "            futuresBuyOrderNo = lf.binanceApiWrappers.orderFutureBuy(symbol, investmentInfo.get('amount')).get('orderId') # API 호출\n",
    "            \n",
    "            lf.cleanFuturesUSDT()            \n",
    "            \n",
    "            action_result = save_action_result(engine = engine, lf = lf, actiontype = 4, action_timestamp = starting_timestamp, symbol = symbol, orders = [\n",
    "                {'orderID':spotSellOrderNo, 'symbol': symbol, 'isSpot': True, 'isBuyer': False},\n",
    "                {'orderID':futuresBuyOrderNo, 'symbol': symbol, 'isSpot': False, 'isBuyer': True}])\n",
    "            \n",
    "            print(action_result)\n",
    "\n",
    "            actual_spot_sell_price = action_result.get('order_details')[0].get('order_input').get('UNIT_PRICE')\n",
    "            actual_futures_buy_price = action_result.get('order_details')[1].get('order_input').get('UNIT_PRICE')\n",
    "\n",
    "\n",
    "            log(lf, connection, '포지션 탈출', '[탐지] 선물 매수가: %f, 현물 매도가: %f' %(float(futures_buy_ask_price), float(spot_sell_bid_price)))\n",
    "            log(lf, connection, '포지션 탈출', '[실제] 선물 매수가: %f, 현물 매도가: %f' %(float(actual_futures_buy_price), float(actual_spot_sell_price)))\n",
    "\n",
    "            break"
   ]
  },
  {
   "cell_type": "code",
   "execution_count": 138,
   "metadata": {},
   "outputs": [
    {
     "name": "stdout",
     "output_type": "stream",
     "text": [
      "2021-11-29 16:54:24,784 INFO sqlalchemy.engine.Engine INSERT INTO log (`USER_ID`, `TIMESTAMP`, `GROUP`, `MESSAGE`) VALUES (%s, %s, %s, %s)\n",
      "2021-11-29 16:54:24,785 INFO sqlalchemy.engine.Engine [cached since 2.121e+04s ago] ('001', 1638172464.7848976, '포지션 진입', 'Entering Positions in 27.479591 seconds')\n",
      "2021-11-29 16:54:24,787 INFO sqlalchemy.engine.Engine COMMIT\n",
      "\t\tEntering Positions in 27.479591 seconds\n",
      "2021-11-29 16:54:24,791 INFO sqlalchemy.engine.Engine INSERT INTO log (`USER_ID`, `TIMESTAMP`, `GROUP`, `MESSAGE`) VALUES (%s, %s, %s, %s)\n",
      "2021-11-29 16:54:24,791 INFO sqlalchemy.engine.Engine [cached since 2.121e+04s ago] ('001', 1638172464.7917953, '포지션 진입', 'Current Price Difference: 0.000020, Threshold: 0.000005')\n",
      "2021-11-29 16:54:24,793 INFO sqlalchemy.engine.Engine COMMIT\n",
      "\t\tCurrent Price Difference: 0.000020, Threshold: 0.000005\n",
      "2021-11-29 16:54:26,193 INFO sqlalchemy.engine.Engine INSERT INTO log (`USER_ID`, `TIMESTAMP`, `GROUP`, `MESSAGE`) VALUES (%s, %s, %s, %s)\n",
      "2021-11-29 16:54:26,195 INFO sqlalchemy.engine.Engine [cached since 2.121e+04s ago] ('001', 1638172466.1927996, '포지션 진입', 'transfer 20.00 USDT from spot wallet to futures wallet')\n",
      "2021-11-29 16:54:26,200 INFO sqlalchemy.engine.Engine COMMIT\n",
      "\t\ttransfer 20.00 USDT from spot wallet to futures wallet\n",
      "2021-11-29 16:54:26,472 INFO sqlalchemy.engine.Engine BEGIN (implicit)\n",
      "2021-11-29 16:54:26,474 INFO sqlalchemy.engine.Engine INSERT INTO action (`USER_ID`, `ACTION_TIMESTAMP`, `ACTION_DATE`, `TYPE`, `SYMBOL`) VALUES (%s, %s, %s, %s, %s)\n",
      "2021-11-29 16:54:26,474 INFO sqlalchemy.engine.Engine [cached since 2.121e+04s ago] ('001', 1638172437.305306, datetime.datetime(2021, 11, 29, 16, 53, 57, 305306), 1, 'VETUSDT')\n",
      "2021-11-29 16:54:26,476 INFO sqlalchemy.engine.Engine SELECT action.`USER_ID`, action.`ACTION_ID`, action.`ACTION_TIMESTAMP`, action.`ACTION_DATE`, action.`TYPE`, action.`SYMBOL` \n",
      "FROM action \n",
      "WHERE action.`ACTION_TIMESTAMP` = %s\n",
      "2021-11-29 16:54:26,476 INFO sqlalchemy.engine.Engine [cached since 2.121e+04s ago] (1638172437.305306,)\n",
      "2021-11-29 16:54:27,071 INFO sqlalchemy.engine.Engine INSERT INTO transaction (`USER_ID`, `IS_SPOT`, `IS_BUY`, `B_ORDERNO`, `TX_ID`, `TX_TIMESTAMP`, `TX_DATE`, `SYMBOL`, `PRICE`, `AMOUNT`, `QUOTE_PRICE`, `COMMISSION`, `COMMISSION_ASSET`, `COMMISSION_USDT`) VALUES (%s, %s, %s, %s, %s, %s, %s, %s, %s, %s, %s, %s, %s, %s)\n",
      "2021-11-29 16:54:27,072 INFO sqlalchemy.engine.Engine [cached since 2.121e+04s ago] ('001', 1, 1, '1564665882', '143471465', '1638172466162', datetime.datetime(2021, 11, 29, 16, 54, 26, 162000), 'VETUSDT', '0.11664000', '671.00000000', '78.26544000', '0.67100000', 'VET', '0.0782654400000000')\n",
      "2021-11-29 16:54:27,075 INFO sqlalchemy.engine.Engine INSERT INTO `order` (`USER_ID`, `ACTION_ID`, `IS_SPOT`, `IS_BUY`, `B_ORDERNO`, `ORDER_TIMESTAMP`, `ORDER_DATE`, `SYMBOL`, `AMOUNT`, `UNIT_PRICE`, `TOTAL_PRICE`, `COMMISSION_USDT`) VALUES (%s, %s, %s, %s, %s, %s, %s, %s, %s, %s, %s, %s)\n",
      "2021-11-29 16:54:27,075 INFO sqlalchemy.engine.Engine [cached since 2.121e+04s ago] ('001', 34, 1, 1, '1564665882', '1638172466162', datetime.datetime(2021, 11, 29, 16, 54, 26, 162000), 'VETUSDT', '670.32900000', '0.11664', '78.3437054400000000', '0.0782654400000000')\n",
      "2021-11-29 16:54:27,133 INFO sqlalchemy.engine.Engine INSERT INTO transaction (`USER_ID`, `IS_SPOT`, `IS_BUY`, `B_ORDERNO`, `TX_ID`, `TX_TIMESTAMP`, `TX_DATE`, `SYMBOL`, `PRICE`, `AMOUNT`, `QUOTE_PRICE`, `COMMISSION`, `COMMISSION_ASSET`, `COMMISSION_USDT`) VALUES (%s, %s, %s, %s, %s, %s, %s, %s, %s, %s, %s, %s, %s, %s)\n",
      "2021-11-29 16:54:27,134 INFO sqlalchemy.engine.Engine [cached since 2.121e+04s ago] ('001', 0, 0, '13772687875', '194657961', '1638172466370', datetime.datetime(2021, 11, 29, 16, 54, 26, 370000), 'VETUSDT', '0.116630', '671', '78.258730', '0.03130349', 'USDT', '0.03130349')\n",
      "2021-11-29 16:54:27,135 INFO sqlalchemy.engine.Engine INSERT INTO `order` (`USER_ID`, `ACTION_ID`, `IS_SPOT`, `IS_BUY`, `B_ORDERNO`, `ORDER_TIMESTAMP`, `ORDER_DATE`, `SYMBOL`, `AMOUNT`, `UNIT_PRICE`, `TOTAL_PRICE`, `COMMISSION_USDT`) VALUES (%s, %s, %s, %s, %s, %s, %s, %s, %s, %s, %s, %s)\n",
      "2021-11-29 16:54:27,135 INFO sqlalchemy.engine.Engine [cached since 2.121e+04s ago] ('001', 34, 0, 0, '13772687875', '1638172466370', datetime.datetime(2021, 11, 29, 16, 54, 26, 370000), 'VETUSDT', '-671', '0.116630', '78.258730', '0.03130349')\n",
      "2021-11-29 16:54:27,136 INFO sqlalchemy.engine.Engine COMMIT\n",
      "2021-11-29 16:54:27,140 INFO sqlalchemy.engine.Engine INSERT INTO log (`USER_ID`, `TIMESTAMP`, `GROUP`, `MESSAGE`) VALUES (%s, %s, %s, %s)\n",
      "2021-11-29 16:54:27,141 INFO sqlalchemy.engine.Engine [cached since 2.121e+04s ago] ('001', 1638172467.1404731, '포지션 진입', '[탐지] 선물 매도가: 0.116660, 현물 매수가: 0.116640')\n",
      "2021-11-29 16:54:27,142 INFO sqlalchemy.engine.Engine COMMIT\n",
      "2021-11-29 16:54:27,146 INFO sqlalchemy.engine.Engine INSERT INTO log (`USER_ID`, `TIMESTAMP`, `GROUP`, `MESSAGE`) VALUES (%s, %s, %s, %s)\n",
      "2021-11-29 16:54:27,147 INFO sqlalchemy.engine.Engine [cached since 2.121e+04s ago] ('001', 1638172467.1464314, '포지션 진입', '[실제] 선물 매도가: 0.116630, 현물 매수가: 0.116640')\n",
      "2021-11-29 16:54:27,149 INFO sqlalchemy.engine.Engine COMMIT\n",
      "2021-11-29 16:54:29,377 INFO sqlalchemy.engine.Engine INSERT INTO log (`USER_ID`, `TIMESTAMP`, `GROUP`, `MESSAGE`) VALUES (%s, %s, %s, %s)\n",
      "2021-11-29 16:54:29,378 INFO sqlalchemy.engine.Engine [cached since 2.122e+04s ago] ('001', 1638172469.3774395, '포지션 진입', 'Entering Positions in 2.224003 seconds')\n",
      "2021-11-29 16:54:29,380 INFO sqlalchemy.engine.Engine COMMIT\n",
      "\t\tEntering Positions in 2.224003 seconds\n",
      "2021-11-29 16:54:29,385 INFO sqlalchemy.engine.Engine INSERT INTO log (`USER_ID`, `TIMESTAMP`, `GROUP`, `MESSAGE`) VALUES (%s, %s, %s, %s)\n",
      "2021-11-29 16:54:29,386 INFO sqlalchemy.engine.Engine [cached since 2.122e+04s ago] ('001', 1638172469.385083, '포지션 진입', 'Current Price Difference: 0.000010, Threshold: 0.000005')\n",
      "2021-11-29 16:54:29,387 INFO sqlalchemy.engine.Engine COMMIT\n",
      "\t\tCurrent Price Difference: 0.000010, Threshold: 0.000005\n",
      "2021-11-29 16:54:30,379 INFO sqlalchemy.engine.Engine INSERT INTO log (`USER_ID`, `TIMESTAMP`, `GROUP`, `MESSAGE`) VALUES (%s, %s, %s, %s)\n",
      "2021-11-29 16:54:30,382 INFO sqlalchemy.engine.Engine [cached since 2.122e+04s ago] ('001', 1638172470.379801, '포지션 진입', 'transfer 20.01 USDT from spot wallet to futures wallet')\n",
      "2021-11-29 16:54:30,386 INFO sqlalchemy.engine.Engine COMMIT\n",
      "\t\ttransfer 20.01 USDT from spot wallet to futures wallet\n",
      "2021-11-29 16:54:30,651 INFO sqlalchemy.engine.Engine BEGIN (implicit)\n",
      "2021-11-29 16:54:30,651 INFO sqlalchemy.engine.Engine INSERT INTO action (`USER_ID`, `ACTION_TIMESTAMP`, `ACTION_DATE`, `TYPE`, `SYMBOL`) VALUES (%s, %s, %s, %s, %s)\n",
      "2021-11-29 16:54:30,652 INFO sqlalchemy.engine.Engine [cached since 2.122e+04s ago] ('001', 1638172467.153436, datetime.datetime(2021, 11, 29, 16, 54, 27, 153436), 1, 'VETUSDT')\n",
      "2021-11-29 16:54:30,654 INFO sqlalchemy.engine.Engine SELECT action.`USER_ID`, action.`ACTION_ID`, action.`ACTION_TIMESTAMP`, action.`ACTION_DATE`, action.`TYPE`, action.`SYMBOL` \n",
      "FROM action \n",
      "WHERE action.`ACTION_TIMESTAMP` = %s\n",
      "2021-11-29 16:54:30,655 INFO sqlalchemy.engine.Engine [cached since 2.122e+04s ago] (1638172467.153436,)\n",
      "2021-11-29 16:54:31,221 INFO sqlalchemy.engine.Engine INSERT INTO transaction (`USER_ID`, `IS_SPOT`, `IS_BUY`, `B_ORDERNO`, `TX_ID`, `TX_TIMESTAMP`, `TX_DATE`, `SYMBOL`, `PRICE`, `AMOUNT`, `QUOTE_PRICE`, `COMMISSION`, `COMMISSION_ASSET`, `COMMISSION_USDT`) VALUES (%s, %s, %s, %s, %s, %s, %s, %s, %s, %s, %s, %s, %s, %s)\n",
      "2021-11-29 16:54:31,221 INFO sqlalchemy.engine.Engine [cached since 2.122e+04s ago] ('001', 1, 1, '1564665922', '143471466', '1638172470344', datetime.datetime(2021, 11, 29, 16, 54, 30, 344000), 'VETUSDT', '0.11664000', '671.00000000', '78.26544000', '0.67100000', 'VET', '0.0782654400000000')\n",
      "2021-11-29 16:54:31,223 INFO sqlalchemy.engine.Engine INSERT INTO `order` (`USER_ID`, `ACTION_ID`, `IS_SPOT`, `IS_BUY`, `B_ORDERNO`, `ORDER_TIMESTAMP`, `ORDER_DATE`, `SYMBOL`, `AMOUNT`, `UNIT_PRICE`, `TOTAL_PRICE`, `COMMISSION_USDT`) VALUES (%s, %s, %s, %s, %s, %s, %s, %s, %s, %s, %s, %s)\n",
      "2021-11-29 16:54:31,223 INFO sqlalchemy.engine.Engine [cached since 2.122e+04s ago] ('001', 35, 1, 1, '1564665922', '1638172470344', datetime.datetime(2021, 11, 29, 16, 54, 30, 344000), 'VETUSDT', '670.32900000', '0.11664', '78.3437054400000000', '0.0782654400000000')\n",
      "2021-11-29 16:54:31,279 INFO sqlalchemy.engine.Engine INSERT INTO transaction (`USER_ID`, `IS_SPOT`, `IS_BUY`, `B_ORDERNO`, `TX_ID`, `TX_TIMESTAMP`, `TX_DATE`, `SYMBOL`, `PRICE`, `AMOUNT`, `QUOTE_PRICE`, `COMMISSION`, `COMMISSION_ASSET`, `COMMISSION_USDT`) VALUES (%s, %s, %s, %s, %s, %s, %s, %s, %s, %s, %s, %s, %s, %s)\n",
      "2021-11-29 16:54:31,280 INFO sqlalchemy.engine.Engine [cached since 2.122e+04s ago] (('001', 0, 0, '13772688036', '194657966', '1638172470547', datetime.datetime(2021, 11, 29, 16, 54, 30, 547000), 'VETUSDT', '0.116650', '408', '47.593200', '0.01903728', 'USDT', '0.01903728'), ('001', 0, 0, '13772688036', '194657967', '1638172470547', datetime.datetime(2021, 11, 29, 16, 54, 30, 547000), 'VETUSDT', '0.116650', '46', '5.365900', '0.00214636', 'USDT', '0.00214636'), ('001', 0, 0, '13772688036', '194657968', '1638172470547', datetime.datetime(2021, 11, 29, 16, 54, 30, 547000), 'VETUSDT', '0.116650', '217', '25.313050', '0.01012522', 'USDT', '0.01012522'))\n",
      "2021-11-29 16:54:31,282 INFO sqlalchemy.engine.Engine INSERT INTO `order` (`USER_ID`, `ACTION_ID`, `IS_SPOT`, `IS_BUY`, `B_ORDERNO`, `ORDER_TIMESTAMP`, `ORDER_DATE`, `SYMBOL`, `AMOUNT`, `UNIT_PRICE`, `TOTAL_PRICE`, `COMMISSION_USDT`) VALUES (%s, %s, %s, %s, %s, %s, %s, %s, %s, %s, %s, %s)\n",
      "2021-11-29 16:54:31,283 INFO sqlalchemy.engine.Engine [cached since 2.122e+04s ago] ('001', 35, 0, 0, '13772688036', '1638172470547', datetime.datetime(2021, 11, 29, 16, 54, 30, 547000), 'VETUSDT', '-671', '0.116650', '78.272150', '0.03130886')\n",
      "2021-11-29 16:54:31,284 INFO sqlalchemy.engine.Engine COMMIT\n",
      "2021-11-29 16:54:31,286 INFO sqlalchemy.engine.Engine INSERT INTO log (`USER_ID`, `TIMESTAMP`, `GROUP`, `MESSAGE`) VALUES (%s, %s, %s, %s)\n",
      "2021-11-29 16:54:31,287 INFO sqlalchemy.engine.Engine [cached since 2.122e+04s ago] ('001', 1638172471.286259, '포지션 진입', '[탐지] 선물 매도가: 0.116650, 현물 매수가: 0.116640')\n",
      "2021-11-29 16:54:31,288 INFO sqlalchemy.engine.Engine COMMIT\n",
      "2021-11-29 16:54:31,292 INFO sqlalchemy.engine.Engine INSERT INTO log (`USER_ID`, `TIMESTAMP`, `GROUP`, `MESSAGE`) VALUES (%s, %s, %s, %s)\n",
      "2021-11-29 16:54:31,292 INFO sqlalchemy.engine.Engine [cached since 2.122e+04s ago] ('001', 1638172471.2922432, '포지션 진입', '[실제] 선물 매도가: 0.116650, 현물 매수가: 0.116640')\n",
      "2021-11-29 16:54:31,294 INFO sqlalchemy.engine.Engine COMMIT\n",
      "2021-11-29 16:55:18,353 INFO sqlalchemy.engine.Engine INSERT INTO log (`USER_ID`, `TIMESTAMP`, `GROUP`, `MESSAGE`) VALUES (%s, %s, %s, %s)\n",
      "2021-11-29 16:55:18,356 INFO sqlalchemy.engine.Engine [cached since 2.127e+04s ago] ('001', 1638172518.3534405, '포지션 진입', 'Entering Positions in 47.056209 seconds')\n",
      "2021-11-29 16:55:18,360 INFO sqlalchemy.engine.Engine COMMIT\n",
      "\t\tEntering Positions in 47.056209 seconds\n",
      "2021-11-29 16:55:18,367 INFO sqlalchemy.engine.Engine INSERT INTO log (`USER_ID`, `TIMESTAMP`, `GROUP`, `MESSAGE`) VALUES (%s, %s, %s, %s)\n",
      "2021-11-29 16:55:18,369 INFO sqlalchemy.engine.Engine [cached since 2.127e+04s ago] ('001', 1638172518.3673759, '포지션 진입', 'Current Price Difference: 0.000010, Threshold: 0.000005')\n",
      "2021-11-29 16:55:18,373 INFO sqlalchemy.engine.Engine COMMIT\n",
      "\t\tCurrent Price Difference: 0.000010, Threshold: 0.000005\n",
      "2021-11-29 16:55:20,272 INFO sqlalchemy.engine.Engine INSERT INTO log (`USER_ID`, `TIMESTAMP`, `GROUP`, `MESSAGE`) VALUES (%s, %s, %s, %s)\n",
      "2021-11-29 16:55:20,273 INFO sqlalchemy.engine.Engine [cached since 2.127e+04s ago] ('001', 1638172520.272869, '포지션 진입', 'transfer 20.00 USDT from spot wallet to futures wallet')\n",
      "2021-11-29 16:55:20,276 INFO sqlalchemy.engine.Engine COMMIT\n",
      "\t\ttransfer 20.00 USDT from spot wallet to futures wallet\n",
      "2021-11-29 16:55:20,636 INFO sqlalchemy.engine.Engine BEGIN (implicit)\n",
      "2021-11-29 16:55:20,637 INFO sqlalchemy.engine.Engine INSERT INTO action (`USER_ID`, `ACTION_TIMESTAMP`, `ACTION_DATE`, `TYPE`, `SYMBOL`) VALUES (%s, %s, %s, %s, %s)\n",
      "2021-11-29 16:55:20,638 INFO sqlalchemy.engine.Engine [cached since 2.127e+04s ago] ('001', 1638172471.297231, datetime.datetime(2021, 11, 29, 16, 54, 31, 297231), 1, 'VETUSDT')\n",
      "2021-11-29 16:55:20,641 INFO sqlalchemy.engine.Engine SELECT action.`USER_ID`, action.`ACTION_ID`, action.`ACTION_TIMESTAMP`, action.`ACTION_DATE`, action.`TYPE`, action.`SYMBOL` \n",
      "FROM action \n",
      "WHERE action.`ACTION_TIMESTAMP` = %s\n",
      "2021-11-29 16:55:20,642 INFO sqlalchemy.engine.Engine [cached since 2.127e+04s ago] (1638172471.297231,)\n",
      "2021-11-29 16:55:21,225 INFO sqlalchemy.engine.Engine INSERT INTO transaction (`USER_ID`, `IS_SPOT`, `IS_BUY`, `B_ORDERNO`, `TX_ID`, `TX_TIMESTAMP`, `TX_DATE`, `SYMBOL`, `PRICE`, `AMOUNT`, `QUOTE_PRICE`, `COMMISSION`, `COMMISSION_ASSET`, `COMMISSION_USDT`) VALUES (%s, %s, %s, %s, %s, %s, %s, %s, %s, %s, %s, %s, %s, %s)\n",
      "2021-11-29 16:55:21,226 INFO sqlalchemy.engine.Engine [cached since 2.127e+04s ago] ('001', 1, 1, '1564666861', '143471494', '1638172520224', datetime.datetime(2021, 11, 29, 16, 55, 20, 224000), 'VETUSDT', '0.11670000', '671.00000000', '78.30570000', '0.67100000', 'VET', '0.0783057000000000')\n",
      "2021-11-29 16:55:21,229 INFO sqlalchemy.engine.Engine INSERT INTO `order` (`USER_ID`, `ACTION_ID`, `IS_SPOT`, `IS_BUY`, `B_ORDERNO`, `ORDER_TIMESTAMP`, `ORDER_DATE`, `SYMBOL`, `AMOUNT`, `UNIT_PRICE`, `TOTAL_PRICE`, `COMMISSION_USDT`) VALUES (%s, %s, %s, %s, %s, %s, %s, %s, %s, %s, %s, %s)\n",
      "2021-11-29 16:55:21,230 INFO sqlalchemy.engine.Engine [cached since 2.127e+04s ago] ('001', 36, 1, 1, '1564666861', '1638172520224', datetime.datetime(2021, 11, 29, 16, 55, 20, 224000), 'VETUSDT', '670.32900000', '0.1167', '78.3840057000000000', '0.0783057000000000')\n",
      "2021-11-29 16:55:21,284 INFO sqlalchemy.engine.Engine INSERT INTO transaction (`USER_ID`, `IS_SPOT`, `IS_BUY`, `B_ORDERNO`, `TX_ID`, `TX_TIMESTAMP`, `TX_DATE`, `SYMBOL`, `PRICE`, `AMOUNT`, `QUOTE_PRICE`, `COMMISSION`, `COMMISSION_ASSET`, `COMMISSION_USDT`) VALUES (%s, %s, %s, %s, %s, %s, %s, %s, %s, %s, %s, %s, %s, %s)\n",
      "2021-11-29 16:55:21,285 INFO sqlalchemy.engine.Engine [cached since 2.127e+04s ago] (('001', 0, 0, '13772690397', '194658033', '1638172520532', datetime.datetime(2021, 11, 29, 16, 55, 20, 532000), 'VETUSDT', '0.116700', '45', '5.251500', '0.00210060', 'USDT', '0.00210060'), ('001', 0, 0, '13772690397', '194658034', '1638172520532', datetime.datetime(2021, 11, 29, 16, 55, 20, 532000), 'VETUSDT', '0.116700', '626', '73.054200', '0.02922168', 'USDT', '0.02922168'))\n",
      "2021-11-29 16:55:21,286 INFO sqlalchemy.engine.Engine INSERT INTO `order` (`USER_ID`, `ACTION_ID`, `IS_SPOT`, `IS_BUY`, `B_ORDERNO`, `ORDER_TIMESTAMP`, `ORDER_DATE`, `SYMBOL`, `AMOUNT`, `UNIT_PRICE`, `TOTAL_PRICE`, `COMMISSION_USDT`) VALUES (%s, %s, %s, %s, %s, %s, %s, %s, %s, %s, %s, %s)\n",
      "2021-11-29 16:55:21,286 INFO sqlalchemy.engine.Engine [cached since 2.127e+04s ago] ('001', 36, 0, 0, '13772690397', '1638172520532', datetime.datetime(2021, 11, 29, 16, 55, 20, 532000), 'VETUSDT', '-671', '0.116700', '78.305700', '0.03132228')\n",
      "2021-11-29 16:55:21,287 INFO sqlalchemy.engine.Engine COMMIT\n",
      "2021-11-29 16:55:21,291 INFO sqlalchemy.engine.Engine INSERT INTO log (`USER_ID`, `TIMESTAMP`, `GROUP`, `MESSAGE`) VALUES (%s, %s, %s, %s)\n",
      "2021-11-29 16:55:21,292 INFO sqlalchemy.engine.Engine [cached since 2.127e+04s ago] ('001', 1638172521.2912061, '포지션 진입', '[탐지] 선물 매도가: 0.116700, 현물 매수가: 0.116690')\n",
      "2021-11-29 16:55:21,293 INFO sqlalchemy.engine.Engine COMMIT\n",
      "2021-11-29 16:55:21,296 INFO sqlalchemy.engine.Engine INSERT INTO log (`USER_ID`, `TIMESTAMP`, `GROUP`, `MESSAGE`) VALUES (%s, %s, %s, %s)\n",
      "2021-11-29 16:55:21,297 INFO sqlalchemy.engine.Engine [cached since 2.127e+04s ago] ('001', 1638172521.2961977, '포지션 진입', '[실제] 선물 매도가: 0.116700, 현물 매수가: 0.116700')\n",
      "2021-11-29 16:55:21,298 INFO sqlalchemy.engine.Engine COMMIT\n"
     ]
    }
   ],
   "source": [
    "enterPosition(lf, springbank.engine, 'VETUSDT', '100')\n",
    "enterPosition(lf, springbank.engine, 'VETUSDT', '100')\n",
    "enterPosition(lf, springbank.engine, 'VETUSDT', '100')"
   ]
  },
  {
   "cell_type": "code",
   "execution_count": 17,
   "metadata": {},
   "outputs": [
    {
     "name": "stdout",
     "output_type": "stream",
     "text": [
      "2021-12-02 00:56:17,726 INFO sqlalchemy.engine.Engine INSERT INTO log (`USER_ID`, `TIMESTAMP`, `GROUP`, `MESSAGE`) VALUES (%(USER_ID)s, %(TIMESTAMP)s, %(GROUP)s, %(MESSAGE)s)\n",
      "2021-12-02 00:56:17,726 INFO sqlalchemy.engine.Engine [generated in 0.00081s] {'USER_ID': '001', 'TIMESTAMP': 1638374177.724129, 'GROUP': '포지션 탈출', 'MESSAGE': 'Leaving Positions in 36.002513 seconds'}\n",
      "2021-12-02 00:56:17,737 INFO sqlalchemy.engine.Engine COMMIT\n",
      "\t\\Leaving Positions in 36.002513 seconds\n",
      "2021-12-02 00:56:17,743 INFO sqlalchemy.engine.Engine INSERT INTO log (`USER_ID`, `TIMESTAMP`, `GROUP`, `MESSAGE`) VALUES (%(USER_ID)s, %(TIMESTAMP)s, %(GROUP)s, %(MESSAGE)s)\n",
      "2021-12-02 00:56:17,744 INFO sqlalchemy.engine.Engine [cached since 0.01811s ago] {'USER_ID': '001', 'TIMESTAMP': 1638374177.7430592, 'GROUP': '포지션 탈출', 'MESSAGE': 'Current Price Difference: 0.000800, Threshold: 0.000480'}\n",
      "2021-12-02 00:56:17,745 INFO sqlalchemy.engine.Engine COMMIT\n",
      "\t\tCurrent Price Difference: 0.000800, Threshold: 0.000480\n",
      "\t>> 선물 지갑의 잔여 USDT를 SPOT 지갑으로 이동. 이동 금액: 3.34 USDT\n",
      "2021-12-02 00:56:19,356 INFO sqlalchemy.engine.Engine BEGIN (implicit)\n",
      "2021-12-02 00:56:19,358 INFO sqlalchemy.engine.Engine INSERT INTO action (`USER_ID`, `ACTION_TIMESTAMP`, `ACTION_DATE`, `TYPE`, `SYMBOL`) VALUES (%(USER_ID)s, %(ACTION_TIMESTAMP)s, %(ACTION_DATE)s, %(TYPE)s, %(SYMBOL)s)\n",
      "2021-12-02 00:56:19,359 INFO sqlalchemy.engine.Engine [generated in 0.00091s] {'USER_ID': '001', 'ACTION_TIMESTAMP': 1638374141.721616, 'ACTION_DATE': datetime.datetime(2021, 12, 2, 0, 55, 41, 721616), 'TYPE': 4, 'SYMBOL': 'XRPUSDT'}\n",
      "2021-12-02 00:56:19,369 INFO sqlalchemy.engine.Engine SELECT action.`USER_ID`, action.`ACTION_ID`, action.`ACTION_TIMESTAMP`, action.`ACTION_DATE`, action.`TYPE`, action.`SYMBOL` \n",
      "FROM action \n",
      "WHERE action.`ACTION_TIMESTAMP` = %(ACTION_TIMESTAMP_1)s\n",
      "2021-12-02 00:56:19,370 INFO sqlalchemy.engine.Engine [generated in 0.00087s] {'ACTION_TIMESTAMP_1': 1638374141.721616}\n",
      "2021-12-02 00:56:19,767 INFO sqlalchemy.engine.Engine INSERT INTO transaction (`USER_ID`, `IS_SPOT`, `IS_BUY`, `B_ORDERNO`, `TX_ID`, `TX_TIMESTAMP`, `TX_DATE`, `SYMBOL`, `PRICE`, `AMOUNT`, `QUOTE_PRICE`, `COMMISSION`, `COMMISSION_ASSET`, `COMMISSION_USDT`) VALUES (%(USER_ID)s, %(IS_SPOT)s, %(IS_BUY)s, %(B_ORDERNO)s, %(TX_ID)s, %(TX_TIMESTAMP)s, %(TX_DATE)s, %(SYMBOL)s, %(PRICE)s, %(AMOUNT)s, %(QUOTE_PRICE)s, %(COMMISSION)s, %(COMMISSION_ASSET)s, %(COMMISSION_USDT)s)\n",
      "2021-12-02 00:56:19,767 INFO sqlalchemy.engine.Engine [generated in 0.00059s] {'USER_ID': '001', 'IS_SPOT': 1, 'IS_BUY': 0, 'B_ORDERNO': '3684536530', 'TX_ID': '387415251', 'TX_TIMESTAMP': '1638374178861', 'TX_DATE': datetime.datetime(2021, 12, 2, 0, 56, 18, 861000), 'SYMBOL': 'XRPUSDT', 'PRICE': '1.01040000', 'AMOUNT': '77.00000000', 'QUOTE_PRICE': '77.80080000', 'COMMISSION': '0.07780080', 'COMMISSION_ASSET': 'USDT', 'COMMISSION_USDT': '0.07780080'}\n",
      "2021-12-02 00:56:19,771 INFO sqlalchemy.engine.Engine INSERT INTO `order` (`USER_ID`, `ACTION_ID`, `IS_SPOT`, `IS_BUY`, `B_ORDERNO`, `ORDER_TIMESTAMP`, `ORDER_DATE`, `SYMBOL`, `AMOUNT`, `UNIT_PRICE`, `TOTAL_PRICE`, `COMMISSION_USDT`) VALUES (%(USER_ID)s, %(ACTION_ID)s, %(IS_SPOT)s, %(IS_BUY)s, %(B_ORDERNO)s, %(ORDER_TIMESTAMP)s, %(ORDER_DATE)s, %(SYMBOL)s, %(AMOUNT)s, %(UNIT_PRICE)s, %(TOTAL_PRICE)s, %(COMMISSION_USDT)s)\n",
      "2021-12-02 00:56:19,772 INFO sqlalchemy.engine.Engine [generated in 0.00047s] {'USER_ID': '001', 'ACTION_ID': 46, 'IS_SPOT': 1, 'IS_BUY': 0, 'B_ORDERNO': '3684536530', 'ORDER_TIMESTAMP': '1638374178861', 'ORDER_DATE': datetime.datetime(2021, 12, 2, 0, 56, 18, 861000), 'SYMBOL': 'XRPUSDT', 'AMOUNT': '-77.00000000', 'UNIT_PRICE': '1.0104', 'TOTAL_PRICE': '77.80080000', 'COMMISSION_USDT': '0.07780080'}\n",
      "2021-12-02 00:56:19,834 INFO sqlalchemy.engine.Engine INSERT INTO transaction (`USER_ID`, `IS_SPOT`, `IS_BUY`, `B_ORDERNO`, `TX_ID`, `TX_TIMESTAMP`, `TX_DATE`, `SYMBOL`, `PRICE`, `AMOUNT`, `QUOTE_PRICE`, `COMMISSION`, `COMMISSION_ASSET`, `COMMISSION_USDT`) VALUES (%(USER_ID)s, %(IS_SPOT)s, %(IS_BUY)s, %(B_ORDERNO)s, %(TX_ID)s, %(TX_TIMESTAMP)s, %(TX_DATE)s, %(SYMBOL)s, %(PRICE)s, %(AMOUNT)s, %(QUOTE_PRICE)s, %(COMMISSION)s, %(COMMISSION_ASSET)s, %(COMMISSION_USDT)s)\n",
      "2021-12-02 00:56:19,834 INFO sqlalchemy.engine.Engine [cached since 0.06791s ago] {'USER_ID': '001', 'IS_SPOT': 0, 'IS_BUY': 1, 'B_ORDERNO': '18447990584', 'TX_ID': '717382297', 'TX_TIMESTAMP': '1638374179215', 'TX_DATE': datetime.datetime(2021, 12, 2, 0, 56, 19, 215000), 'SYMBOL': 'XRPUSDT', 'PRICE': '1.0112', 'AMOUNT': '77', 'QUOTE_PRICE': '77.86240', 'COMMISSION': '0.03114496', 'COMMISSION_ASSET': 'USDT', 'COMMISSION_USDT': '0.03114496'}\n",
      "2021-12-02 00:56:19,835 INFO sqlalchemy.engine.Engine INSERT INTO `order` (`USER_ID`, `ACTION_ID`, `IS_SPOT`, `IS_BUY`, `B_ORDERNO`, `ORDER_TIMESTAMP`, `ORDER_DATE`, `SYMBOL`, `AMOUNT`, `UNIT_PRICE`, `TOTAL_PRICE`, `COMMISSION_USDT`) VALUES (%(USER_ID)s, %(ACTION_ID)s, %(IS_SPOT)s, %(IS_BUY)s, %(B_ORDERNO)s, %(ORDER_TIMESTAMP)s, %(ORDER_DATE)s, %(SYMBOL)s, %(AMOUNT)s, %(UNIT_PRICE)s, %(TOTAL_PRICE)s, %(COMMISSION_USDT)s)\n",
      "2021-12-02 00:56:19,836 INFO sqlalchemy.engine.Engine [cached since 0.0649s ago] {'USER_ID': '001', 'ACTION_ID': 46, 'IS_SPOT': 0, 'IS_BUY': 1, 'B_ORDERNO': '18447990584', 'ORDER_TIMESTAMP': '1638374179215', 'ORDER_DATE': datetime.datetime(2021, 12, 2, 0, 56, 19, 215000), 'SYMBOL': 'XRPUSDT', 'AMOUNT': '77', 'UNIT_PRICE': '1.01120', 'TOTAL_PRICE': '77.86240', 'COMMISSION_USDT': '0.03114496'}\n",
      "2021-12-02 00:56:19,837 INFO sqlalchemy.engine.Engine COMMIT\n",
      "{'action_details': {'USER_ID': '001', 'ACTION_TIMESTAMP': 1638374141.721616, 'ACTION_DATE': datetime.datetime(2021, 12, 2, 0, 55, 41, 721616), 'TYPE': 4, 'SYMBOL': 'XRPUSDT'}, 'order_details': [{'order_input': {'USER_ID': '001', 'ACTION_ID': 46, 'IS_SPOT': 1, 'IS_BUY': 0, 'B_ORDERNO': '3684536530', 'ORDER_TIMESTAMP': '1638374178861', 'ORDER_DATE': datetime.datetime(2021, 12, 2, 0, 56, 18, 861000), 'SYMBOL': 'XRPUSDT', 'AMOUNT': '-77.00000000', 'UNIT_PRICE': '1.0104', 'TOTAL_PRICE': '77.80080000', 'COMMISSION_USDT': '0.07780080'}, 'tx_input_set': [{'USER_ID': '001', 'IS_SPOT': 1, 'IS_BUY': 0, 'B_ORDERNO': '3684536530', 'TX_ID': '387415251', 'TX_TIMESTAMP': '1638374178861', 'TX_DATE': datetime.datetime(2021, 12, 2, 0, 56, 18, 861000), 'SYMBOL': 'XRPUSDT', 'PRICE': '1.01040000', 'AMOUNT': '77.00000000', 'QUOTE_PRICE': '77.80080000', 'COMMISSION': '0.07780080', 'COMMISSION_ASSET': 'USDT', 'COMMISSION_USDT': '0.07780080'}]}, {'order_input': {'USER_ID': '001', 'ACTION_ID': 46, 'IS_SPOT': 0, 'IS_BUY': 1, 'B_ORDERNO': '18447990584', 'ORDER_TIMESTAMP': '1638374179215', 'ORDER_DATE': datetime.datetime(2021, 12, 2, 0, 56, 19, 215000), 'SYMBOL': 'XRPUSDT', 'AMOUNT': '77', 'UNIT_PRICE': '1.01120', 'TOTAL_PRICE': '77.86240', 'COMMISSION_USDT': '0.03114496'}, 'tx_input_set': [{'USER_ID': '001', 'IS_SPOT': 0, 'IS_BUY': 1, 'B_ORDERNO': '18447990584', 'TX_ID': '717382297', 'TX_TIMESTAMP': '1638374179215', 'TX_DATE': datetime.datetime(2021, 12, 2, 0, 56, 19, 215000), 'SYMBOL': 'XRPUSDT', 'PRICE': '1.0112', 'AMOUNT': '77', 'QUOTE_PRICE': '77.86240', 'COMMISSION': '0.03114496', 'COMMISSION_ASSET': 'USDT', 'COMMISSION_USDT': '0.03114496'}]}]}\n",
      "2021-12-02 00:56:19,840 INFO sqlalchemy.engine.Engine INSERT INTO log (`USER_ID`, `TIMESTAMP`, `GROUP`, `MESSAGE`) VALUES (%(USER_ID)s, %(TIMESTAMP)s, %(GROUP)s, %(MESSAGE)s)\n",
      "2021-12-02 00:56:19,841 INFO sqlalchemy.engine.Engine [cached since 2.117s ago] {'USER_ID': '001', 'TIMESTAMP': 1638374179.8409152, 'GROUP': '포지션 탈출', 'MESSAGE': '[탐지] 선물 매수가: 1.011400, 현물 매도가: 1.010600'}\n",
      "2021-12-02 00:56:19,844 INFO sqlalchemy.engine.Engine COMMIT\n",
      "2021-12-02 00:56:19,848 INFO sqlalchemy.engine.Engine INSERT INTO log (`USER_ID`, `TIMESTAMP`, `GROUP`, `MESSAGE`) VALUES (%(USER_ID)s, %(TIMESTAMP)s, %(GROUP)s, %(MESSAGE)s)\n",
      "2021-12-02 00:56:19,848 INFO sqlalchemy.engine.Engine [cached since 2.124s ago] {'USER_ID': '001', 'TIMESTAMP': 1638374179.8478994, 'GROUP': '포지션 탈출', 'MESSAGE': '[실제] 선물 매수가: 1.011200, 현물 매도가: 1.010400'}\n",
      "2021-12-02 00:56:19,850 INFO sqlalchemy.engine.Engine COMMIT\n",
      "2021-12-02 00:56:20,068 INFO sqlalchemy.engine.Engine INSERT INTO log (`USER_ID`, `TIMESTAMP`, `GROUP`, `MESSAGE`) VALUES (%(USER_ID)s, %(TIMESTAMP)s, %(GROUP)s, %(MESSAGE)s)\n",
      "2021-12-02 00:56:20,069 INFO sqlalchemy.engine.Engine [cached since 2.344s ago] {'USER_ID': '001', 'TIMESTAMP': 1638374180.0685608, 'GROUP': '포지션 탈출', 'MESSAGE': 'Leaving Positions in 0.213678 seconds'}\n",
      "2021-12-02 00:56:20,073 INFO sqlalchemy.engine.Engine COMMIT\n",
      "\t\\Leaving Positions in 0.213678 seconds\n",
      "2021-12-02 00:56:20,080 INFO sqlalchemy.engine.Engine INSERT INTO log (`USER_ID`, `TIMESTAMP`, `GROUP`, `MESSAGE`) VALUES (%(USER_ID)s, %(TIMESTAMP)s, %(GROUP)s, %(MESSAGE)s)\n",
      "2021-12-02 00:56:20,081 INFO sqlalchemy.engine.Engine [cached since 2.356s ago] {'USER_ID': '001', 'TIMESTAMP': 1638374180.0805178, 'GROUP': '포지션 탈출', 'MESSAGE': 'Current Price Difference: 0.000900, Threshold: 0.000480'}\n",
      "2021-12-02 00:56:20,082 INFO sqlalchemy.engine.Engine COMMIT\n",
      "\t\tCurrent Price Difference: 0.000900, Threshold: 0.000480\n",
      "\t>> 선물 지갑의 잔여 USDT를 SPOT 지갑으로 이동. 이동 금액: 3.34 USDT\n",
      "2021-12-02 00:56:21,776 INFO sqlalchemy.engine.Engine BEGIN (implicit)\n",
      "2021-12-02 00:56:21,777 INFO sqlalchemy.engine.Engine INSERT INTO action (`USER_ID`, `ACTION_TIMESTAMP`, `ACTION_DATE`, `TYPE`, `SYMBOL`) VALUES (%(USER_ID)s, %(ACTION_TIMESTAMP)s, %(ACTION_DATE)s, %(TYPE)s, %(SYMBOL)s)\n",
      "2021-12-02 00:56:21,778 INFO sqlalchemy.engine.Engine [cached since 2.42s ago] {'USER_ID': '001', 'ACTION_TIMESTAMP': 1638374179.854883, 'ACTION_DATE': datetime.datetime(2021, 12, 2, 0, 56, 19, 854883), 'TYPE': 4, 'SYMBOL': 'XRPUSDT'}\n",
      "2021-12-02 00:56:21,780 INFO sqlalchemy.engine.Engine SELECT action.`USER_ID`, action.`ACTION_ID`, action.`ACTION_TIMESTAMP`, action.`ACTION_DATE`, action.`TYPE`, action.`SYMBOL` \n",
      "FROM action \n",
      "WHERE action.`ACTION_TIMESTAMP` = %(ACTION_TIMESTAMP_1)s\n",
      "2021-12-02 00:56:21,780 INFO sqlalchemy.engine.Engine [cached since 2.411s ago] {'ACTION_TIMESTAMP_1': 1638374179.854883}\n",
      "2021-12-02 00:56:22,183 INFO sqlalchemy.engine.Engine INSERT INTO transaction (`USER_ID`, `IS_SPOT`, `IS_BUY`, `B_ORDERNO`, `TX_ID`, `TX_TIMESTAMP`, `TX_DATE`, `SYMBOL`, `PRICE`, `AMOUNT`, `QUOTE_PRICE`, `COMMISSION`, `COMMISSION_ASSET`, `COMMISSION_USDT`) VALUES (%(USER_ID)s, %(IS_SPOT)s, %(IS_BUY)s, %(B_ORDERNO)s, %(TX_ID)s, %(TX_TIMESTAMP)s, %(TX_DATE)s, %(SYMBOL)s, %(PRICE)s, %(AMOUNT)s, %(QUOTE_PRICE)s, %(COMMISSION)s, %(COMMISSION_ASSET)s, %(COMMISSION_USDT)s)\n",
      "2021-12-02 00:56:22,183 INFO sqlalchemy.engine.Engine [cached since 2.417s ago] {'USER_ID': '001', 'IS_SPOT': 1, 'IS_BUY': 0, 'B_ORDERNO': '3684536741', 'TX_ID': '387415265', 'TX_TIMESTAMP': '1638374181419', 'TX_DATE': datetime.datetime(2021, 12, 2, 0, 56, 21, 419000), 'SYMBOL': 'XRPUSDT', 'PRICE': '1.01040000', 'AMOUNT': '77.00000000', 'QUOTE_PRICE': '77.80080000', 'COMMISSION': '0.07780080', 'COMMISSION_ASSET': 'USDT', 'COMMISSION_USDT': '0.07780080'}\n",
      "2021-12-02 00:56:22,184 INFO sqlalchemy.engine.Engine INSERT INTO `order` (`USER_ID`, `ACTION_ID`, `IS_SPOT`, `IS_BUY`, `B_ORDERNO`, `ORDER_TIMESTAMP`, `ORDER_DATE`, `SYMBOL`, `AMOUNT`, `UNIT_PRICE`, `TOTAL_PRICE`, `COMMISSION_USDT`) VALUES (%(USER_ID)s, %(ACTION_ID)s, %(IS_SPOT)s, %(IS_BUY)s, %(B_ORDERNO)s, %(ORDER_TIMESTAMP)s, %(ORDER_DATE)s, %(SYMBOL)s, %(AMOUNT)s, %(UNIT_PRICE)s, %(TOTAL_PRICE)s, %(COMMISSION_USDT)s)\n",
      "2021-12-02 00:56:22,185 INFO sqlalchemy.engine.Engine [cached since 2.414s ago] {'USER_ID': '001', 'ACTION_ID': 47, 'IS_SPOT': 1, 'IS_BUY': 0, 'B_ORDERNO': '3684536741', 'ORDER_TIMESTAMP': '1638374181419', 'ORDER_DATE': datetime.datetime(2021, 12, 2, 0, 56, 21, 419000), 'SYMBOL': 'XRPUSDT', 'AMOUNT': '-77.00000000', 'UNIT_PRICE': '1.0104', 'TOTAL_PRICE': '77.80080000', 'COMMISSION_USDT': '0.07780080'}\n",
      "2021-12-02 00:56:22,364 INFO sqlalchemy.engine.Engine INSERT INTO transaction (`USER_ID`, `IS_SPOT`, `IS_BUY`, `B_ORDERNO`, `TX_ID`, `TX_TIMESTAMP`, `TX_DATE`, `SYMBOL`, `PRICE`, `AMOUNT`, `QUOTE_PRICE`, `COMMISSION`, `COMMISSION_ASSET`, `COMMISSION_USDT`) VALUES (%(USER_ID)s, %(IS_SPOT)s, %(IS_BUY)s, %(B_ORDERNO)s, %(TX_ID)s, %(TX_TIMESTAMP)s, %(TX_DATE)s, %(SYMBOL)s, %(PRICE)s, %(AMOUNT)s, %(QUOTE_PRICE)s, %(COMMISSION)s, %(COMMISSION_ASSET)s, %(COMMISSION_USDT)s)\n",
      "2021-12-02 00:56:22,365 INFO sqlalchemy.engine.Engine [generated in 0.00060s] ({'USER_ID': '001', 'IS_SPOT': 0, 'IS_BUY': 1, 'B_ORDERNO': '18447990992', 'TX_ID': '717382305', 'TX_TIMESTAMP': '1638374181619', 'TX_DATE': datetime.datetime(2021, 12, 2, 0, 56, 21, 619000), 'SYMBOL': 'XRPUSDT', 'PRICE': '1.0112', 'AMOUNT': '7.9', 'QUOTE_PRICE': '7.98848', 'COMMISSION': '0.00319539', 'COMMISSION_ASSET': 'USDT', 'COMMISSION_USDT': '0.00319539'}, {'USER_ID': '001', 'IS_SPOT': 0, 'IS_BUY': 1, 'B_ORDERNO': '18447990992', 'TX_ID': '717382306', 'TX_TIMESTAMP': '1638374181619', 'TX_DATE': datetime.datetime(2021, 12, 2, 0, 56, 21, 619000), 'SYMBOL': 'XRPUSDT', 'PRICE': '1.0112', 'AMOUNT': '69.1', 'QUOTE_PRICE': '69.87392', 'COMMISSION': '0.02794956', 'COMMISSION_ASSET': 'USDT', 'COMMISSION_USDT': '0.02794956'})\n",
      "2021-12-02 00:56:22,366 INFO sqlalchemy.engine.Engine INSERT INTO `order` (`USER_ID`, `ACTION_ID`, `IS_SPOT`, `IS_BUY`, `B_ORDERNO`, `ORDER_TIMESTAMP`, `ORDER_DATE`, `SYMBOL`, `AMOUNT`, `UNIT_PRICE`, `TOTAL_PRICE`, `COMMISSION_USDT`) VALUES (%(USER_ID)s, %(ACTION_ID)s, %(IS_SPOT)s, %(IS_BUY)s, %(B_ORDERNO)s, %(ORDER_TIMESTAMP)s, %(ORDER_DATE)s, %(SYMBOL)s, %(AMOUNT)s, %(UNIT_PRICE)s, %(TOTAL_PRICE)s, %(COMMISSION_USDT)s)\n",
      "2021-12-02 00:56:22,366 INFO sqlalchemy.engine.Engine [cached since 2.596s ago] {'USER_ID': '001', 'ACTION_ID': 47, 'IS_SPOT': 0, 'IS_BUY': 1, 'B_ORDERNO': '18447990992', 'ORDER_TIMESTAMP': '1638374181619', 'ORDER_DATE': datetime.datetime(2021, 12, 2, 0, 56, 21, 619000), 'SYMBOL': 'XRPUSDT', 'AMOUNT': '77.0', 'UNIT_PRICE': '1.0112', 'TOTAL_PRICE': '77.86240', 'COMMISSION_USDT': '0.03114495'}\n",
      "2021-12-02 00:56:22,368 INFO sqlalchemy.engine.Engine COMMIT\n",
      "{'action_details': {'USER_ID': '001', 'ACTION_TIMESTAMP': 1638374179.854883, 'ACTION_DATE': datetime.datetime(2021, 12, 2, 0, 56, 19, 854883), 'TYPE': 4, 'SYMBOL': 'XRPUSDT'}, 'order_details': [{'order_input': {'USER_ID': '001', 'ACTION_ID': 47, 'IS_SPOT': 1, 'IS_BUY': 0, 'B_ORDERNO': '3684536741', 'ORDER_TIMESTAMP': '1638374181419', 'ORDER_DATE': datetime.datetime(2021, 12, 2, 0, 56, 21, 419000), 'SYMBOL': 'XRPUSDT', 'AMOUNT': '-77.00000000', 'UNIT_PRICE': '1.0104', 'TOTAL_PRICE': '77.80080000', 'COMMISSION_USDT': '0.07780080'}, 'tx_input_set': [{'USER_ID': '001', 'IS_SPOT': 1, 'IS_BUY': 0, 'B_ORDERNO': '3684536741', 'TX_ID': '387415265', 'TX_TIMESTAMP': '1638374181419', 'TX_DATE': datetime.datetime(2021, 12, 2, 0, 56, 21, 419000), 'SYMBOL': 'XRPUSDT', 'PRICE': '1.01040000', 'AMOUNT': '77.00000000', 'QUOTE_PRICE': '77.80080000', 'COMMISSION': '0.07780080', 'COMMISSION_ASSET': 'USDT', 'COMMISSION_USDT': '0.07780080'}]}, {'order_input': {'USER_ID': '001', 'ACTION_ID': 47, 'IS_SPOT': 0, 'IS_BUY': 1, 'B_ORDERNO': '18447990992', 'ORDER_TIMESTAMP': '1638374181619', 'ORDER_DATE': datetime.datetime(2021, 12, 2, 0, 56, 21, 619000), 'SYMBOL': 'XRPUSDT', 'AMOUNT': '77.0', 'UNIT_PRICE': '1.0112', 'TOTAL_PRICE': '77.86240', 'COMMISSION_USDT': '0.03114495'}, 'tx_input_set': [{'USER_ID': '001', 'IS_SPOT': 0, 'IS_BUY': 1, 'B_ORDERNO': '18447990992', 'TX_ID': '717382305', 'TX_TIMESTAMP': '1638374181619', 'TX_DATE': datetime.datetime(2021, 12, 2, 0, 56, 21, 619000), 'SYMBOL': 'XRPUSDT', 'PRICE': '1.0112', 'AMOUNT': '7.9', 'QUOTE_PRICE': '7.98848', 'COMMISSION': '0.00319539', 'COMMISSION_ASSET': 'USDT', 'COMMISSION_USDT': '0.00319539'}, {'USER_ID': '001', 'IS_SPOT': 0, 'IS_BUY': 1, 'B_ORDERNO': '18447990992', 'TX_ID': '717382306', 'TX_TIMESTAMP': '1638374181619', 'TX_DATE': datetime.datetime(2021, 12, 2, 0, 56, 21, 619000), 'SYMBOL': 'XRPUSDT', 'PRICE': '1.0112', 'AMOUNT': '69.1', 'QUOTE_PRICE': '69.87392', 'COMMISSION': '0.02794956', 'COMMISSION_ASSET': 'USDT', 'COMMISSION_USDT': '0.02794956'}]}]}\n",
      "2021-12-02 00:56:22,372 INFO sqlalchemy.engine.Engine INSERT INTO log (`USER_ID`, `TIMESTAMP`, `GROUP`, `MESSAGE`) VALUES (%(USER_ID)s, %(TIMESTAMP)s, %(GROUP)s, %(MESSAGE)s)\n",
      "2021-12-02 00:56:22,372 INFO sqlalchemy.engine.Engine [cached since 4.648s ago] {'USER_ID': '001', 'TIMESTAMP': 1638374182.3728557, 'GROUP': '포지션 탈출', 'MESSAGE': '[탐지] 선물 매수가: 1.011200, 현물 매도가: 1.010300'}\n",
      "2021-12-02 00:56:22,374 INFO sqlalchemy.engine.Engine COMMIT\n",
      "2021-12-02 00:56:22,379 INFO sqlalchemy.engine.Engine INSERT INTO log (`USER_ID`, `TIMESTAMP`, `GROUP`, `MESSAGE`) VALUES (%(USER_ID)s, %(TIMESTAMP)s, %(GROUP)s, %(MESSAGE)s)\n",
      "2021-12-02 00:56:22,380 INFO sqlalchemy.engine.Engine [cached since 4.655s ago] {'USER_ID': '001', 'TIMESTAMP': 1638374182.3788388, 'GROUP': '포지션 탈출', 'MESSAGE': '[실제] 선물 매수가: 1.011200, 현물 매도가: 1.010400'}\n",
      "2021-12-02 00:56:22,382 INFO sqlalchemy.engine.Engine COMMIT\n",
      "2021-12-02 00:56:33,171 INFO sqlalchemy.engine.Engine INSERT INTO log (`USER_ID`, `TIMESTAMP`, `GROUP`, `MESSAGE`) VALUES (%(USER_ID)s, %(TIMESTAMP)s, %(GROUP)s, %(MESSAGE)s)\n",
      "2021-12-02 00:56:33,172 INFO sqlalchemy.engine.Engine [cached since 15.45s ago] {'USER_ID': '001', 'TIMESTAMP': 1638374193.1713705, 'GROUP': '포지션 탈출', 'MESSAGE': 'Leaving Positions in 10.784554 seconds'}\n",
      "2021-12-02 00:56:33,174 INFO sqlalchemy.engine.Engine COMMIT\n",
      "\t\\Leaving Positions in 10.784554 seconds\n",
      "2021-12-02 00:56:33,178 INFO sqlalchemy.engine.Engine INSERT INTO log (`USER_ID`, `TIMESTAMP`, `GROUP`, `MESSAGE`) VALUES (%(USER_ID)s, %(TIMESTAMP)s, %(GROUP)s, %(MESSAGE)s)\n",
      "2021-12-02 00:56:33,179 INFO sqlalchemy.engine.Engine [cached since 15.45s ago] {'USER_ID': '001', 'TIMESTAMP': 1638374193.1783543, 'GROUP': '포지션 탈출', 'MESSAGE': 'Current Price Difference: 0.000900, Threshold: 0.000480'}\n",
      "2021-12-02 00:56:33,181 INFO sqlalchemy.engine.Engine COMMIT\n",
      "\t\tCurrent Price Difference: 0.000900, Threshold: 0.000480\n",
      "\t>> 선물 지갑의 잔여 USDT를 SPOT 지갑으로 이동. 이동 금액: 3.34 USDT\n",
      "2021-12-02 00:56:34,684 INFO sqlalchemy.engine.Engine BEGIN (implicit)\n",
      "2021-12-02 00:56:34,685 INFO sqlalchemy.engine.Engine INSERT INTO action (`USER_ID`, `ACTION_TIMESTAMP`, `ACTION_DATE`, `TYPE`, `SYMBOL`) VALUES (%(USER_ID)s, %(ACTION_TIMESTAMP)s, %(ACTION_DATE)s, %(TYPE)s, %(SYMBOL)s)\n",
      "2021-12-02 00:56:34,685 INFO sqlalchemy.engine.Engine [cached since 15.33s ago] {'USER_ID': '001', 'ACTION_TIMESTAMP': 1638374182.386816, 'ACTION_DATE': datetime.datetime(2021, 12, 2, 0, 56, 22, 386816), 'TYPE': 4, 'SYMBOL': 'XRPUSDT'}\n",
      "2021-12-02 00:56:34,687 INFO sqlalchemy.engine.Engine SELECT action.`USER_ID`, action.`ACTION_ID`, action.`ACTION_TIMESTAMP`, action.`ACTION_DATE`, action.`TYPE`, action.`SYMBOL` \n",
      "FROM action \n",
      "WHERE action.`ACTION_TIMESTAMP` = %(ACTION_TIMESTAMP_1)s\n",
      "2021-12-02 00:56:34,688 INFO sqlalchemy.engine.Engine [cached since 15.32s ago] {'ACTION_TIMESTAMP_1': 1638374182.386816}\n",
      "2021-12-02 00:56:35,078 INFO sqlalchemy.engine.Engine INSERT INTO transaction (`USER_ID`, `IS_SPOT`, `IS_BUY`, `B_ORDERNO`, `TX_ID`, `TX_TIMESTAMP`, `TX_DATE`, `SYMBOL`, `PRICE`, `AMOUNT`, `QUOTE_PRICE`, `COMMISSION`, `COMMISSION_ASSET`, `COMMISSION_USDT`) VALUES (%(USER_ID)s, %(IS_SPOT)s, %(IS_BUY)s, %(B_ORDERNO)s, %(TX_ID)s, %(TX_TIMESTAMP)s, %(TX_DATE)s, %(SYMBOL)s, %(PRICE)s, %(AMOUNT)s, %(QUOTE_PRICE)s, %(COMMISSION)s, %(COMMISSION_ASSET)s, %(COMMISSION_USDT)s)\n",
      "2021-12-02 00:56:35,079 INFO sqlalchemy.engine.Engine [cached since 12.71s ago] ({'USER_ID': '001', 'IS_SPOT': 1, 'IS_BUY': 0, 'B_ORDERNO': '3684537405', 'TX_ID': '387415328', 'TX_TIMESTAMP': '1638374194335', 'TX_DATE': datetime.datetime(2021, 12, 2, 0, 56, 34, 335000), 'SYMBOL': 'XRPUSDT', 'PRICE': '1.01070000', 'AMOUNT': '26.00000000', 'QUOTE_PRICE': '26.27820000', 'COMMISSION': '0.02627820', 'COMMISSION_ASSET': 'USDT', 'COMMISSION_USDT': '0.02627820'}, {'USER_ID': '001', 'IS_SPOT': 1, 'IS_BUY': 0, 'B_ORDERNO': '3684537405', 'TX_ID': '387415329', 'TX_TIMESTAMP': '1638374194335', 'TX_DATE': datetime.datetime(2021, 12, 2, 0, 56, 34, 335000), 'SYMBOL': 'XRPUSDT', 'PRICE': '1.01070000', 'AMOUNT': '51.00000000', 'QUOTE_PRICE': '51.54570000', 'COMMISSION': '0.05154570', 'COMMISSION_ASSET': 'USDT', 'COMMISSION_USDT': '0.05154570'})\n",
      "2021-12-02 00:56:35,080 INFO sqlalchemy.engine.Engine INSERT INTO `order` (`USER_ID`, `ACTION_ID`, `IS_SPOT`, `IS_BUY`, `B_ORDERNO`, `ORDER_TIMESTAMP`, `ORDER_DATE`, `SYMBOL`, `AMOUNT`, `UNIT_PRICE`, `TOTAL_PRICE`, `COMMISSION_USDT`) VALUES (%(USER_ID)s, %(ACTION_ID)s, %(IS_SPOT)s, %(IS_BUY)s, %(B_ORDERNO)s, %(ORDER_TIMESTAMP)s, %(ORDER_DATE)s, %(SYMBOL)s, %(AMOUNT)s, %(UNIT_PRICE)s, %(TOTAL_PRICE)s, %(COMMISSION_USDT)s)\n",
      "2021-12-02 00:56:35,080 INFO sqlalchemy.engine.Engine [cached since 15.31s ago] {'USER_ID': '001', 'ACTION_ID': 48, 'IS_SPOT': 1, 'IS_BUY': 0, 'B_ORDERNO': '3684537405', 'ORDER_TIMESTAMP': '1638374194335', 'ORDER_DATE': datetime.datetime(2021, 12, 2, 0, 56, 34, 335000), 'SYMBOL': 'XRPUSDT', 'AMOUNT': '-77.00000000', 'UNIT_PRICE': '1.0107', 'TOTAL_PRICE': '77.82390000', 'COMMISSION_USDT': '0.07782390'}\n",
      "2021-12-02 00:56:35,177 INFO sqlalchemy.engine.Engine INSERT INTO transaction (`USER_ID`, `IS_SPOT`, `IS_BUY`, `B_ORDERNO`, `TX_ID`, `TX_TIMESTAMP`, `TX_DATE`, `SYMBOL`, `PRICE`, `AMOUNT`, `QUOTE_PRICE`, `COMMISSION`, `COMMISSION_ASSET`, `COMMISSION_USDT`) VALUES (%(USER_ID)s, %(IS_SPOT)s, %(IS_BUY)s, %(B_ORDERNO)s, %(TX_ID)s, %(TX_TIMESTAMP)s, %(TX_DATE)s, %(SYMBOL)s, %(PRICE)s, %(AMOUNT)s, %(QUOTE_PRICE)s, %(COMMISSION)s, %(COMMISSION_ASSET)s, %(COMMISSION_USDT)s)\n",
      "2021-12-02 00:56:35,178 INFO sqlalchemy.engine.Engine [cached since 15.41s ago] {'USER_ID': '001', 'IS_SPOT': 0, 'IS_BUY': 1, 'B_ORDERNO': '18447993258', 'TX_ID': '717382395', 'TX_TIMESTAMP': '1638374194551', 'TX_DATE': datetime.datetime(2021, 12, 2, 0, 56, 34, 551000), 'SYMBOL': 'XRPUSDT', 'PRICE': '1.0116', 'AMOUNT': '77', 'QUOTE_PRICE': '77.89320', 'COMMISSION': '0.03115728', 'COMMISSION_ASSET': 'USDT', 'COMMISSION_USDT': '0.03115728'}\n",
      "2021-12-02 00:56:35,180 INFO sqlalchemy.engine.Engine INSERT INTO `order` (`USER_ID`, `ACTION_ID`, `IS_SPOT`, `IS_BUY`, `B_ORDERNO`, `ORDER_TIMESTAMP`, `ORDER_DATE`, `SYMBOL`, `AMOUNT`, `UNIT_PRICE`, `TOTAL_PRICE`, `COMMISSION_USDT`) VALUES (%(USER_ID)s, %(ACTION_ID)s, %(IS_SPOT)s, %(IS_BUY)s, %(B_ORDERNO)s, %(ORDER_TIMESTAMP)s, %(ORDER_DATE)s, %(SYMBOL)s, %(AMOUNT)s, %(UNIT_PRICE)s, %(TOTAL_PRICE)s, %(COMMISSION_USDT)s)\n",
      "2021-12-02 00:56:35,181 INFO sqlalchemy.engine.Engine [cached since 15.41s ago] {'USER_ID': '001', 'ACTION_ID': 48, 'IS_SPOT': 0, 'IS_BUY': 1, 'B_ORDERNO': '18447993258', 'ORDER_TIMESTAMP': '1638374194551', 'ORDER_DATE': datetime.datetime(2021, 12, 2, 0, 56, 34, 551000), 'SYMBOL': 'XRPUSDT', 'AMOUNT': '77', 'UNIT_PRICE': '1.01160', 'TOTAL_PRICE': '77.89320', 'COMMISSION_USDT': '0.03115728'}\n",
      "2021-12-02 00:56:35,182 INFO sqlalchemy.engine.Engine COMMIT\n",
      "{'action_details': {'USER_ID': '001', 'ACTION_TIMESTAMP': 1638374182.386816, 'ACTION_DATE': datetime.datetime(2021, 12, 2, 0, 56, 22, 386816), 'TYPE': 4, 'SYMBOL': 'XRPUSDT'}, 'order_details': [{'order_input': {'USER_ID': '001', 'ACTION_ID': 48, 'IS_SPOT': 1, 'IS_BUY': 0, 'B_ORDERNO': '3684537405', 'ORDER_TIMESTAMP': '1638374194335', 'ORDER_DATE': datetime.datetime(2021, 12, 2, 0, 56, 34, 335000), 'SYMBOL': 'XRPUSDT', 'AMOUNT': '-77.00000000', 'UNIT_PRICE': '1.0107', 'TOTAL_PRICE': '77.82390000', 'COMMISSION_USDT': '0.07782390'}, 'tx_input_set': [{'USER_ID': '001', 'IS_SPOT': 1, 'IS_BUY': 0, 'B_ORDERNO': '3684537405', 'TX_ID': '387415328', 'TX_TIMESTAMP': '1638374194335', 'TX_DATE': datetime.datetime(2021, 12, 2, 0, 56, 34, 335000), 'SYMBOL': 'XRPUSDT', 'PRICE': '1.01070000', 'AMOUNT': '26.00000000', 'QUOTE_PRICE': '26.27820000', 'COMMISSION': '0.02627820', 'COMMISSION_ASSET': 'USDT', 'COMMISSION_USDT': '0.02627820'}, {'USER_ID': '001', 'IS_SPOT': 1, 'IS_BUY': 0, 'B_ORDERNO': '3684537405', 'TX_ID': '387415329', 'TX_TIMESTAMP': '1638374194335', 'TX_DATE': datetime.datetime(2021, 12, 2, 0, 56, 34, 335000), 'SYMBOL': 'XRPUSDT', 'PRICE': '1.01070000', 'AMOUNT': '51.00000000', 'QUOTE_PRICE': '51.54570000', 'COMMISSION': '0.05154570', 'COMMISSION_ASSET': 'USDT', 'COMMISSION_USDT': '0.05154570'}]}, {'order_input': {'USER_ID': '001', 'ACTION_ID': 48, 'IS_SPOT': 0, 'IS_BUY': 1, 'B_ORDERNO': '18447993258', 'ORDER_TIMESTAMP': '1638374194551', 'ORDER_DATE': datetime.datetime(2021, 12, 2, 0, 56, 34, 551000), 'SYMBOL': 'XRPUSDT', 'AMOUNT': '77', 'UNIT_PRICE': '1.01160', 'TOTAL_PRICE': '77.89320', 'COMMISSION_USDT': '0.03115728'}, 'tx_input_set': [{'USER_ID': '001', 'IS_SPOT': 0, 'IS_BUY': 1, 'B_ORDERNO': '18447993258', 'TX_ID': '717382395', 'TX_TIMESTAMP': '1638374194551', 'TX_DATE': datetime.datetime(2021, 12, 2, 0, 56, 34, 551000), 'SYMBOL': 'XRPUSDT', 'PRICE': '1.0116', 'AMOUNT': '77', 'QUOTE_PRICE': '77.89320', 'COMMISSION': '0.03115728', 'COMMISSION_ASSET': 'USDT', 'COMMISSION_USDT': '0.03115728'}]}]}\n",
      "2021-12-02 00:56:35,187 INFO sqlalchemy.engine.Engine INSERT INTO log (`USER_ID`, `TIMESTAMP`, `GROUP`, `MESSAGE`) VALUES (%(USER_ID)s, %(TIMESTAMP)s, %(GROUP)s, %(MESSAGE)s)\n",
      "2021-12-02 00:56:35,188 INFO sqlalchemy.engine.Engine [cached since 17.46s ago] {'USER_ID': '001', 'TIMESTAMP': 1638374195.1878123, 'GROUP': '포지션 탈출', 'MESSAGE': '[탐지] 선물 매수가: 1.011600, 현물 매도가: 1.010700'}\n",
      "2021-12-02 00:56:35,189 INFO sqlalchemy.engine.Engine COMMIT\n",
      "2021-12-02 00:56:35,194 INFO sqlalchemy.engine.Engine INSERT INTO log (`USER_ID`, `TIMESTAMP`, `GROUP`, `MESSAGE`) VALUES (%(USER_ID)s, %(TIMESTAMP)s, %(GROUP)s, %(MESSAGE)s)\n",
      "2021-12-02 00:56:35,195 INFO sqlalchemy.engine.Engine [cached since 17.47s ago] {'USER_ID': '001', 'TIMESTAMP': 1638374195.1937973, 'GROUP': '포지션 탈출', 'MESSAGE': '[실제] 선물 매수가: 1.011600, 현물 매도가: 1.010700'}\n",
      "2021-12-02 00:56:35,197 INFO sqlalchemy.engine.Engine COMMIT\n",
      "2021-12-02 00:56:40,310 INFO sqlalchemy.engine.Engine INSERT INTO log (`USER_ID`, `TIMESTAMP`, `GROUP`, `MESSAGE`) VALUES (%(USER_ID)s, %(TIMESTAMP)s, %(GROUP)s, %(MESSAGE)s)\n",
      "2021-12-02 00:56:40,310 INFO sqlalchemy.engine.Engine [cached since 22.59s ago] {'USER_ID': '001', 'TIMESTAMP': 1638374200.309706, 'GROUP': '포지션 탈출', 'MESSAGE': 'Leaving Positions in 5.107931 seconds'}\n",
      "2021-12-02 00:56:40,313 INFO sqlalchemy.engine.Engine COMMIT\n",
      "\t\\Leaving Positions in 5.107931 seconds\n",
      "2021-12-02 00:56:40,317 INFO sqlalchemy.engine.Engine INSERT INTO log (`USER_ID`, `TIMESTAMP`, `GROUP`, `MESSAGE`) VALUES (%(USER_ID)s, %(TIMESTAMP)s, %(GROUP)s, %(MESSAGE)s)\n",
      "2021-12-02 00:56:40,317 INFO sqlalchemy.engine.Engine [cached since 22.59s ago] {'USER_ID': '001', 'TIMESTAMP': 1638374200.3175566, 'GROUP': '포지션 탈출', 'MESSAGE': 'Current Price Difference: 0.000700, Threshold: 0.000480'}\n",
      "2021-12-02 00:56:40,321 INFO sqlalchemy.engine.Engine COMMIT\n",
      "\t\tCurrent Price Difference: 0.000700, Threshold: 0.000480\n",
      "\t>> 선물 지갑의 잔여 USDT를 SPOT 지갑으로 이동. 이동 금액: 3.34 USDT\n",
      "2021-12-02 00:56:41,869 INFO sqlalchemy.engine.Engine BEGIN (implicit)\n",
      "2021-12-02 00:56:41,870 INFO sqlalchemy.engine.Engine INSERT INTO action (`USER_ID`, `ACTION_TIMESTAMP`, `ACTION_DATE`, `TYPE`, `SYMBOL`) VALUES (%(USER_ID)s, %(ACTION_TIMESTAMP)s, %(ACTION_DATE)s, %(TYPE)s, %(SYMBOL)s)\n",
      "2021-12-02 00:56:41,871 INFO sqlalchemy.engine.Engine [cached since 22.51s ago] {'USER_ID': '001', 'ACTION_TIMESTAMP': 1638374195.201775, 'ACTION_DATE': datetime.datetime(2021, 12, 2, 0, 56, 35, 201775), 'TYPE': 4, 'SYMBOL': 'XRPUSDT'}\n",
      "2021-12-02 00:56:41,879 INFO sqlalchemy.engine.Engine SELECT action.`USER_ID`, action.`ACTION_ID`, action.`ACTION_TIMESTAMP`, action.`ACTION_DATE`, action.`TYPE`, action.`SYMBOL` \n",
      "FROM action \n",
      "WHERE action.`ACTION_TIMESTAMP` = %(ACTION_TIMESTAMP_1)s\n",
      "2021-12-02 00:56:41,879 INFO sqlalchemy.engine.Engine [cached since 22.51s ago] {'ACTION_TIMESTAMP_1': 1638374195.201775}\n",
      "2021-12-02 00:56:42,282 INFO sqlalchemy.engine.Engine INSERT INTO transaction (`USER_ID`, `IS_SPOT`, `IS_BUY`, `B_ORDERNO`, `TX_ID`, `TX_TIMESTAMP`, `TX_DATE`, `SYMBOL`, `PRICE`, `AMOUNT`, `QUOTE_PRICE`, `COMMISSION`, `COMMISSION_ASSET`, `COMMISSION_USDT`) VALUES (%(USER_ID)s, %(IS_SPOT)s, %(IS_BUY)s, %(B_ORDERNO)s, %(TX_ID)s, %(TX_TIMESTAMP)s, %(TX_DATE)s, %(SYMBOL)s, %(PRICE)s, %(AMOUNT)s, %(QUOTE_PRICE)s, %(COMMISSION)s, %(COMMISSION_ASSET)s, %(COMMISSION_USDT)s)\n",
      "2021-12-02 00:56:42,283 INFO sqlalchemy.engine.Engine [cached since 22.52s ago] {'USER_ID': '001', 'IS_SPOT': 1, 'IS_BUY': 0, 'B_ORDERNO': '3684537802', 'TX_ID': '387415354', 'TX_TIMESTAMP': '1638374201506', 'TX_DATE': datetime.datetime(2021, 12, 2, 0, 56, 41, 506000), 'SYMBOL': 'XRPUSDT', 'PRICE': '1.01030000', 'AMOUNT': '77.00000000', 'QUOTE_PRICE': '77.79310000', 'COMMISSION': '0.07779310', 'COMMISSION_ASSET': 'USDT', 'COMMISSION_USDT': '0.07779310'}\n",
      "2021-12-02 00:56:42,287 INFO sqlalchemy.engine.Engine INSERT INTO `order` (`USER_ID`, `ACTION_ID`, `IS_SPOT`, `IS_BUY`, `B_ORDERNO`, `ORDER_TIMESTAMP`, `ORDER_DATE`, `SYMBOL`, `AMOUNT`, `UNIT_PRICE`, `TOTAL_PRICE`, `COMMISSION_USDT`) VALUES (%(USER_ID)s, %(ACTION_ID)s, %(IS_SPOT)s, %(IS_BUY)s, %(B_ORDERNO)s, %(ORDER_TIMESTAMP)s, %(ORDER_DATE)s, %(SYMBOL)s, %(AMOUNT)s, %(UNIT_PRICE)s, %(TOTAL_PRICE)s, %(COMMISSION_USDT)s)\n",
      "2021-12-02 00:56:42,287 INFO sqlalchemy.engine.Engine [cached since 22.52s ago] {'USER_ID': '001', 'ACTION_ID': 49, 'IS_SPOT': 1, 'IS_BUY': 0, 'B_ORDERNO': '3684537802', 'ORDER_TIMESTAMP': '1638374201506', 'ORDER_DATE': datetime.datetime(2021, 12, 2, 0, 56, 41, 506000), 'SYMBOL': 'XRPUSDT', 'AMOUNT': '-77.00000000', 'UNIT_PRICE': '1.0103', 'TOTAL_PRICE': '77.79310000', 'COMMISSION_USDT': '0.07779310'}\n",
      "2021-12-02 00:56:42,337 INFO sqlalchemy.engine.Engine INSERT INTO transaction (`USER_ID`, `IS_SPOT`, `IS_BUY`, `B_ORDERNO`, `TX_ID`, `TX_TIMESTAMP`, `TX_DATE`, `SYMBOL`, `PRICE`, `AMOUNT`, `QUOTE_PRICE`, `COMMISSION`, `COMMISSION_ASSET`, `COMMISSION_USDT`) VALUES (%(USER_ID)s, %(IS_SPOT)s, %(IS_BUY)s, %(B_ORDERNO)s, %(TX_ID)s, %(TX_TIMESTAMP)s, %(TX_DATE)s, %(SYMBOL)s, %(PRICE)s, %(AMOUNT)s, %(QUOTE_PRICE)s, %(COMMISSION)s, %(COMMISSION_ASSET)s, %(COMMISSION_USDT)s)\n",
      "2021-12-02 00:56:42,337 INFO sqlalchemy.engine.Engine [cached since 19.97s ago] ({'USER_ID': '001', 'IS_SPOT': 0, 'IS_BUY': 1, 'B_ORDERNO': '18447994599', 'TX_ID': '717382503', 'TX_TIMESTAMP': '1638374201726', 'TX_DATE': datetime.datetime(2021, 12, 2, 0, 56, 41, 726000), 'SYMBOL': 'XRPUSDT', 'PRICE': '1.0111', 'AMOUNT': '8.9', 'QUOTE_PRICE': '8.99879', 'COMMISSION': '0.00359951', 'COMMISSION_ASSET': 'USDT', 'COMMISSION_USDT': '0.00359951'}, {'USER_ID': '001', 'IS_SPOT': 0, 'IS_BUY': 1, 'B_ORDERNO': '18447994599', 'TX_ID': '717382504', 'TX_TIMESTAMP': '1638374201726', 'TX_DATE': datetime.datetime(2021, 12, 2, 0, 56, 41, 726000), 'SYMBOL': 'XRPUSDT', 'PRICE': '1.0111', 'AMOUNT': '68.1', 'QUOTE_PRICE': '68.85591', 'COMMISSION': '0.02754236', 'COMMISSION_ASSET': 'USDT', 'COMMISSION_USDT': '0.02754236'})\n",
      "2021-12-02 00:56:42,338 INFO sqlalchemy.engine.Engine INSERT INTO `order` (`USER_ID`, `ACTION_ID`, `IS_SPOT`, `IS_BUY`, `B_ORDERNO`, `ORDER_TIMESTAMP`, `ORDER_DATE`, `SYMBOL`, `AMOUNT`, `UNIT_PRICE`, `TOTAL_PRICE`, `COMMISSION_USDT`) VALUES (%(USER_ID)s, %(ACTION_ID)s, %(IS_SPOT)s, %(IS_BUY)s, %(B_ORDERNO)s, %(ORDER_TIMESTAMP)s, %(ORDER_DATE)s, %(SYMBOL)s, %(AMOUNT)s, %(UNIT_PRICE)s, %(TOTAL_PRICE)s, %(COMMISSION_USDT)s)\n",
      "2021-12-02 00:56:42,339 INFO sqlalchemy.engine.Engine [cached since 22.57s ago] {'USER_ID': '001', 'ACTION_ID': 49, 'IS_SPOT': 0, 'IS_BUY': 1, 'B_ORDERNO': '18447994599', 'ORDER_TIMESTAMP': '1638374201726', 'ORDER_DATE': datetime.datetime(2021, 12, 2, 0, 56, 41, 726000), 'SYMBOL': 'XRPUSDT', 'AMOUNT': '77.0', 'UNIT_PRICE': '1.0111', 'TOTAL_PRICE': '77.85470', 'COMMISSION_USDT': '0.03114187'}\n",
      "2021-12-02 00:56:42,340 INFO sqlalchemy.engine.Engine COMMIT\n",
      "{'action_details': {'USER_ID': '001', 'ACTION_TIMESTAMP': 1638374195.201775, 'ACTION_DATE': datetime.datetime(2021, 12, 2, 0, 56, 35, 201775), 'TYPE': 4, 'SYMBOL': 'XRPUSDT'}, 'order_details': [{'order_input': {'USER_ID': '001', 'ACTION_ID': 49, 'IS_SPOT': 1, 'IS_BUY': 0, 'B_ORDERNO': '3684537802', 'ORDER_TIMESTAMP': '1638374201506', 'ORDER_DATE': datetime.datetime(2021, 12, 2, 0, 56, 41, 506000), 'SYMBOL': 'XRPUSDT', 'AMOUNT': '-77.00000000', 'UNIT_PRICE': '1.0103', 'TOTAL_PRICE': '77.79310000', 'COMMISSION_USDT': '0.07779310'}, 'tx_input_set': [{'USER_ID': '001', 'IS_SPOT': 1, 'IS_BUY': 0, 'B_ORDERNO': '3684537802', 'TX_ID': '387415354', 'TX_TIMESTAMP': '1638374201506', 'TX_DATE': datetime.datetime(2021, 12, 2, 0, 56, 41, 506000), 'SYMBOL': 'XRPUSDT', 'PRICE': '1.01030000', 'AMOUNT': '77.00000000', 'QUOTE_PRICE': '77.79310000', 'COMMISSION': '0.07779310', 'COMMISSION_ASSET': 'USDT', 'COMMISSION_USDT': '0.07779310'}]}, {'order_input': {'USER_ID': '001', 'ACTION_ID': 49, 'IS_SPOT': 0, 'IS_BUY': 1, 'B_ORDERNO': '18447994599', 'ORDER_TIMESTAMP': '1638374201726', 'ORDER_DATE': datetime.datetime(2021, 12, 2, 0, 56, 41, 726000), 'SYMBOL': 'XRPUSDT', 'AMOUNT': '77.0', 'UNIT_PRICE': '1.0111', 'TOTAL_PRICE': '77.85470', 'COMMISSION_USDT': '0.03114187'}, 'tx_input_set': [{'USER_ID': '001', 'IS_SPOT': 0, 'IS_BUY': 1, 'B_ORDERNO': '18447994599', 'TX_ID': '717382503', 'TX_TIMESTAMP': '1638374201726', 'TX_DATE': datetime.datetime(2021, 12, 2, 0, 56, 41, 726000), 'SYMBOL': 'XRPUSDT', 'PRICE': '1.0111', 'AMOUNT': '8.9', 'QUOTE_PRICE': '8.99879', 'COMMISSION': '0.00359951', 'COMMISSION_ASSET': 'USDT', 'COMMISSION_USDT': '0.00359951'}, {'USER_ID': '001', 'IS_SPOT': 0, 'IS_BUY': 1, 'B_ORDERNO': '18447994599', 'TX_ID': '717382504', 'TX_TIMESTAMP': '1638374201726', 'TX_DATE': datetime.datetime(2021, 12, 2, 0, 56, 41, 726000), 'SYMBOL': 'XRPUSDT', 'PRICE': '1.0111', 'AMOUNT': '68.1', 'QUOTE_PRICE': '68.85591', 'COMMISSION': '0.02754236', 'COMMISSION_ASSET': 'USDT', 'COMMISSION_USDT': '0.02754236'}]}]}\n",
      "2021-12-02 00:56:42,344 INFO sqlalchemy.engine.Engine INSERT INTO log (`USER_ID`, `TIMESTAMP`, `GROUP`, `MESSAGE`) VALUES (%(USER_ID)s, %(TIMESTAMP)s, %(GROUP)s, %(MESSAGE)s)\n",
      "2021-12-02 00:56:42,346 INFO sqlalchemy.engine.Engine [cached since 24.62s ago] {'USER_ID': '001', 'TIMESTAMP': 1638374202.344866, 'GROUP': '포지션 탈출', 'MESSAGE': '[탐지] 선물 매수가: 1.011000, 현물 매도가: 1.010300'}\n",
      "2021-12-02 00:56:42,349 INFO sqlalchemy.engine.Engine COMMIT\n",
      "2021-12-02 00:56:42,354 INFO sqlalchemy.engine.Engine INSERT INTO log (`USER_ID`, `TIMESTAMP`, `GROUP`, `MESSAGE`) VALUES (%(USER_ID)s, %(TIMESTAMP)s, %(GROUP)s, %(MESSAGE)s)\n",
      "2021-12-02 00:56:42,355 INFO sqlalchemy.engine.Engine [cached since 24.63s ago] {'USER_ID': '001', 'TIMESTAMP': 1638374202.354865, 'GROUP': '포지션 탈출', 'MESSAGE': '[실제] 선물 매수가: 1.011100, 현물 매도가: 1.010300'}\n",
      "2021-12-02 00:56:42,356 INFO sqlalchemy.engine.Engine COMMIT\n",
      "2021-12-02 00:56:42,571 INFO sqlalchemy.engine.Engine INSERT INTO log (`USER_ID`, `TIMESTAMP`, `GROUP`, `MESSAGE`) VALUES (%(USER_ID)s, %(TIMESTAMP)s, %(GROUP)s, %(MESSAGE)s)\n",
      "2021-12-02 00:56:42,572 INFO sqlalchemy.engine.Engine [cached since 24.85s ago] {'USER_ID': '001', 'TIMESTAMP': 1638374202.5712285, 'GROUP': '포지션 탈출', 'MESSAGE': 'Leaving Positions in 0.210376 seconds'}\n",
      "2021-12-02 00:56:42,573 INFO sqlalchemy.engine.Engine COMMIT\n",
      "\t\\Leaving Positions in 0.210376 seconds\n",
      "2021-12-02 00:56:42,576 INFO sqlalchemy.engine.Engine INSERT INTO log (`USER_ID`, `TIMESTAMP`, `GROUP`, `MESSAGE`) VALUES (%(USER_ID)s, %(TIMESTAMP)s, %(GROUP)s, %(MESSAGE)s)\n",
      "2021-12-02 00:56:42,576 INFO sqlalchemy.engine.Engine [cached since 24.85s ago] {'USER_ID': '001', 'TIMESTAMP': 1638374202.5762162, 'GROUP': '포지션 탈출', 'MESSAGE': 'Current Price Difference: 0.000800, Threshold: 0.000480'}\n",
      "2021-12-02 00:56:42,578 INFO sqlalchemy.engine.Engine COMMIT\n",
      "\t\tCurrent Price Difference: 0.000800, Threshold: 0.000480\n",
      "\t>> 선물 지갑의 잔여 USDT를 SPOT 지갑으로 이동. 이동 금액: 3.34 USDT\n",
      "2021-12-02 00:56:44,118 INFO sqlalchemy.engine.Engine BEGIN (implicit)\n",
      "2021-12-02 00:56:44,119 INFO sqlalchemy.engine.Engine INSERT INTO action (`USER_ID`, `ACTION_TIMESTAMP`, `ACTION_DATE`, `TYPE`, `SYMBOL`) VALUES (%(USER_ID)s, %(ACTION_TIMESTAMP)s, %(ACTION_DATE)s, %(TYPE)s, %(SYMBOL)s)\n",
      "2021-12-02 00:56:44,119 INFO sqlalchemy.engine.Engine [cached since 24.76s ago] {'USER_ID': '001', 'ACTION_TIMESTAMP': 1638374202.360852, 'ACTION_DATE': datetime.datetime(2021, 12, 2, 0, 56, 42, 360852), 'TYPE': 4, 'SYMBOL': 'XRPUSDT'}\n",
      "2021-12-02 00:56:44,124 INFO sqlalchemy.engine.Engine SELECT action.`USER_ID`, action.`ACTION_ID`, action.`ACTION_TIMESTAMP`, action.`ACTION_DATE`, action.`TYPE`, action.`SYMBOL` \n",
      "FROM action \n",
      "WHERE action.`ACTION_TIMESTAMP` = %(ACTION_TIMESTAMP_1)s\n",
      "2021-12-02 00:56:44,125 INFO sqlalchemy.engine.Engine [cached since 24.76s ago] {'ACTION_TIMESTAMP_1': 1638374202.360852}\n",
      "2021-12-02 00:56:44,534 INFO sqlalchemy.engine.Engine INSERT INTO transaction (`USER_ID`, `IS_SPOT`, `IS_BUY`, `B_ORDERNO`, `TX_ID`, `TX_TIMESTAMP`, `TX_DATE`, `SYMBOL`, `PRICE`, `AMOUNT`, `QUOTE_PRICE`, `COMMISSION`, `COMMISSION_ASSET`, `COMMISSION_USDT`) VALUES (%(USER_ID)s, %(IS_SPOT)s, %(IS_BUY)s, %(B_ORDERNO)s, %(TX_ID)s, %(TX_TIMESTAMP)s, %(TX_DATE)s, %(SYMBOL)s, %(PRICE)s, %(AMOUNT)s, %(QUOTE_PRICE)s, %(COMMISSION)s, %(COMMISSION_ASSET)s, %(COMMISSION_USDT)s)\n",
      "2021-12-02 00:56:44,534 INFO sqlalchemy.engine.Engine [cached since 24.77s ago] {'USER_ID': '001', 'IS_SPOT': 1, 'IS_BUY': 0, 'B_ORDERNO': '3684537848', 'TX_ID': '387415355', 'TX_TIMESTAMP': '1638374203750', 'TX_DATE': datetime.datetime(2021, 12, 2, 0, 56, 43, 750000), 'SYMBOL': 'XRPUSDT', 'PRICE': '1.01030000', 'AMOUNT': '77.00000000', 'QUOTE_PRICE': '77.79310000', 'COMMISSION': '0.07779310', 'COMMISSION_ASSET': 'USDT', 'COMMISSION_USDT': '0.07779310'}\n",
      "2021-12-02 00:56:44,536 INFO sqlalchemy.engine.Engine INSERT INTO `order` (`USER_ID`, `ACTION_ID`, `IS_SPOT`, `IS_BUY`, `B_ORDERNO`, `ORDER_TIMESTAMP`, `ORDER_DATE`, `SYMBOL`, `AMOUNT`, `UNIT_PRICE`, `TOTAL_PRICE`, `COMMISSION_USDT`) VALUES (%(USER_ID)s, %(ACTION_ID)s, %(IS_SPOT)s, %(IS_BUY)s, %(B_ORDERNO)s, %(ORDER_TIMESTAMP)s, %(ORDER_DATE)s, %(SYMBOL)s, %(AMOUNT)s, %(UNIT_PRICE)s, %(TOTAL_PRICE)s, %(COMMISSION_USDT)s)\n",
      "2021-12-02 00:56:44,537 INFO sqlalchemy.engine.Engine [cached since 24.77s ago] {'USER_ID': '001', 'ACTION_ID': 50, 'IS_SPOT': 1, 'IS_BUY': 0, 'B_ORDERNO': '3684537848', 'ORDER_TIMESTAMP': '1638374203750', 'ORDER_DATE': datetime.datetime(2021, 12, 2, 0, 56, 43, 750000), 'SYMBOL': 'XRPUSDT', 'AMOUNT': '-77.00000000', 'UNIT_PRICE': '1.0103', 'TOTAL_PRICE': '77.79310000', 'COMMISSION_USDT': '0.07779310'}\n",
      "2021-12-02 00:56:44,592 INFO sqlalchemy.engine.Engine INSERT INTO transaction (`USER_ID`, `IS_SPOT`, `IS_BUY`, `B_ORDERNO`, `TX_ID`, `TX_TIMESTAMP`, `TX_DATE`, `SYMBOL`, `PRICE`, `AMOUNT`, `QUOTE_PRICE`, `COMMISSION`, `COMMISSION_ASSET`, `COMMISSION_USDT`) VALUES (%(USER_ID)s, %(IS_SPOT)s, %(IS_BUY)s, %(B_ORDERNO)s, %(TX_ID)s, %(TX_TIMESTAMP)s, %(TX_DATE)s, %(SYMBOL)s, %(PRICE)s, %(AMOUNT)s, %(QUOTE_PRICE)s, %(COMMISSION)s, %(COMMISSION_ASSET)s, %(COMMISSION_USDT)s)\n",
      "2021-12-02 00:56:44,593 INFO sqlalchemy.engine.Engine [cached since 24.83s ago] {'USER_ID': '001', 'IS_SPOT': 0, 'IS_BUY': 1, 'B_ORDERNO': '18447994856', 'TX_ID': '717382509', 'TX_TIMESTAMP': '1638374203955', 'TX_DATE': datetime.datetime(2021, 12, 2, 0, 56, 43, 955000), 'SYMBOL': 'XRPUSDT', 'PRICE': '1.0111', 'AMOUNT': '77', 'QUOTE_PRICE': '77.85470', 'COMMISSION': '0.03114188', 'COMMISSION_ASSET': 'USDT', 'COMMISSION_USDT': '0.03114188'}\n",
      "2021-12-02 00:56:44,595 INFO sqlalchemy.engine.Engine INSERT INTO `order` (`USER_ID`, `ACTION_ID`, `IS_SPOT`, `IS_BUY`, `B_ORDERNO`, `ORDER_TIMESTAMP`, `ORDER_DATE`, `SYMBOL`, `AMOUNT`, `UNIT_PRICE`, `TOTAL_PRICE`, `COMMISSION_USDT`) VALUES (%(USER_ID)s, %(ACTION_ID)s, %(IS_SPOT)s, %(IS_BUY)s, %(B_ORDERNO)s, %(ORDER_TIMESTAMP)s, %(ORDER_DATE)s, %(SYMBOL)s, %(AMOUNT)s, %(UNIT_PRICE)s, %(TOTAL_PRICE)s, %(COMMISSION_USDT)s)\n",
      "2021-12-02 00:56:44,596 INFO sqlalchemy.engine.Engine [cached since 24.83s ago] {'USER_ID': '001', 'ACTION_ID': 50, 'IS_SPOT': 0, 'IS_BUY': 1, 'B_ORDERNO': '18447994856', 'ORDER_TIMESTAMP': '1638374203955', 'ORDER_DATE': datetime.datetime(2021, 12, 2, 0, 56, 43, 955000), 'SYMBOL': 'XRPUSDT', 'AMOUNT': '77', 'UNIT_PRICE': '1.01110', 'TOTAL_PRICE': '77.85470', 'COMMISSION_USDT': '0.03114188'}\n",
      "2021-12-02 00:56:44,598 INFO sqlalchemy.engine.Engine COMMIT\n",
      "{'action_details': {'USER_ID': '001', 'ACTION_TIMESTAMP': 1638374202.360852, 'ACTION_DATE': datetime.datetime(2021, 12, 2, 0, 56, 42, 360852), 'TYPE': 4, 'SYMBOL': 'XRPUSDT'}, 'order_details': [{'order_input': {'USER_ID': '001', 'ACTION_ID': 50, 'IS_SPOT': 1, 'IS_BUY': 0, 'B_ORDERNO': '3684537848', 'ORDER_TIMESTAMP': '1638374203750', 'ORDER_DATE': datetime.datetime(2021, 12, 2, 0, 56, 43, 750000), 'SYMBOL': 'XRPUSDT', 'AMOUNT': '-77.00000000', 'UNIT_PRICE': '1.0103', 'TOTAL_PRICE': '77.79310000', 'COMMISSION_USDT': '0.07779310'}, 'tx_input_set': [{'USER_ID': '001', 'IS_SPOT': 1, 'IS_BUY': 0, 'B_ORDERNO': '3684537848', 'TX_ID': '387415355', 'TX_TIMESTAMP': '1638374203750', 'TX_DATE': datetime.datetime(2021, 12, 2, 0, 56, 43, 750000), 'SYMBOL': 'XRPUSDT', 'PRICE': '1.01030000', 'AMOUNT': '77.00000000', 'QUOTE_PRICE': '77.79310000', 'COMMISSION': '0.07779310', 'COMMISSION_ASSET': 'USDT', 'COMMISSION_USDT': '0.07779310'}]}, {'order_input': {'USER_ID': '001', 'ACTION_ID': 50, 'IS_SPOT': 0, 'IS_BUY': 1, 'B_ORDERNO': '18447994856', 'ORDER_TIMESTAMP': '1638374203955', 'ORDER_DATE': datetime.datetime(2021, 12, 2, 0, 56, 43, 955000), 'SYMBOL': 'XRPUSDT', 'AMOUNT': '77', 'UNIT_PRICE': '1.01110', 'TOTAL_PRICE': '77.85470', 'COMMISSION_USDT': '0.03114188'}, 'tx_input_set': [{'USER_ID': '001', 'IS_SPOT': 0, 'IS_BUY': 1, 'B_ORDERNO': '18447994856', 'TX_ID': '717382509', 'TX_TIMESTAMP': '1638374203955', 'TX_DATE': datetime.datetime(2021, 12, 2, 0, 56, 43, 955000), 'SYMBOL': 'XRPUSDT', 'PRICE': '1.0111', 'AMOUNT': '77', 'QUOTE_PRICE': '77.85470', 'COMMISSION': '0.03114188', 'COMMISSION_ASSET': 'USDT', 'COMMISSION_USDT': '0.03114188'}]}]}\n",
      "2021-12-02 00:56:44,602 INFO sqlalchemy.engine.Engine INSERT INTO log (`USER_ID`, `TIMESTAMP`, `GROUP`, `MESSAGE`) VALUES (%(USER_ID)s, %(TIMESTAMP)s, %(GROUP)s, %(MESSAGE)s)\n",
      "2021-12-02 00:56:44,603 INFO sqlalchemy.engine.Engine [cached since 26.88s ago] {'USER_ID': '001', 'TIMESTAMP': 1638374204.6022694, 'GROUP': '포지션 탈출', 'MESSAGE': '[탐지] 선물 매수가: 1.011100, 현물 매도가: 1.010300'}\n",
      "2021-12-02 00:56:44,604 INFO sqlalchemy.engine.Engine COMMIT\n",
      "2021-12-02 00:56:44,607 INFO sqlalchemy.engine.Engine INSERT INTO log (`USER_ID`, `TIMESTAMP`, `GROUP`, `MESSAGE`) VALUES (%(USER_ID)s, %(TIMESTAMP)s, %(GROUP)s, %(MESSAGE)s)\n",
      "2021-12-02 00:56:44,608 INFO sqlalchemy.engine.Engine [cached since 26.88s ago] {'USER_ID': '001', 'TIMESTAMP': 1638374204.6072326, 'GROUP': '포지션 탈출', 'MESSAGE': '[실제] 선물 매수가: 1.011100, 현물 매도가: 1.010300'}\n",
      "2021-12-02 00:56:44,610 INFO sqlalchemy.engine.Engine COMMIT\n",
      "2021-12-02 00:56:44,856 INFO sqlalchemy.engine.Engine INSERT INTO log (`USER_ID`, `TIMESTAMP`, `GROUP`, `MESSAGE`) VALUES (%(USER_ID)s, %(TIMESTAMP)s, %(GROUP)s, %(MESSAGE)s)\n",
      "2021-12-02 00:56:44,857 INFO sqlalchemy.engine.Engine [cached since 27.13s ago] {'USER_ID': '001', 'TIMESTAMP': 1638374204.8561394, 'GROUP': '포지션 탈출', 'MESSAGE': 'Leaving Positions in 0.239883 seconds'}\n",
      "2021-12-02 00:56:44,859 INFO sqlalchemy.engine.Engine COMMIT\n",
      "\t\\Leaving Positions in 0.239883 seconds\n",
      "2021-12-02 00:56:44,863 INFO sqlalchemy.engine.Engine INSERT INTO log (`USER_ID`, `TIMESTAMP`, `GROUP`, `MESSAGE`) VALUES (%(USER_ID)s, %(TIMESTAMP)s, %(GROUP)s, %(MESSAGE)s)\n",
      "2021-12-02 00:56:44,864 INFO sqlalchemy.engine.Engine [cached since 27.14s ago] {'USER_ID': '001', 'TIMESTAMP': 1638374204.863124, 'GROUP': '포지션 탈출', 'MESSAGE': 'Current Price Difference: 0.000800, Threshold: 0.000480'}\n",
      "2021-12-02 00:56:44,865 INFO sqlalchemy.engine.Engine COMMIT\n",
      "\t\tCurrent Price Difference: 0.000800, Threshold: 0.000480\n",
      "\t>> 선물 지갑의 잔여 USDT를 SPOT 지갑으로 이동. 이동 금액: 3.34 USDT\n",
      "2021-12-02 00:56:46,347 INFO sqlalchemy.engine.Engine BEGIN (implicit)\n",
      "2021-12-02 00:56:46,348 INFO sqlalchemy.engine.Engine INSERT INTO action (`USER_ID`, `ACTION_TIMESTAMP`, `ACTION_DATE`, `TYPE`, `SYMBOL`) VALUES (%(USER_ID)s, %(ACTION_TIMESTAMP)s, %(ACTION_DATE)s, %(TYPE)s, %(SYMBOL)s)\n",
      "2021-12-02 00:56:46,349 INFO sqlalchemy.engine.Engine [cached since 26.99s ago] {'USER_ID': '001', 'ACTION_TIMESTAMP': 1638374204.616256, 'ACTION_DATE': datetime.datetime(2021, 12, 2, 0, 56, 44, 616256), 'TYPE': 4, 'SYMBOL': 'XRPUSDT'}\n",
      "2021-12-02 00:56:46,351 INFO sqlalchemy.engine.Engine SELECT action.`USER_ID`, action.`ACTION_ID`, action.`ACTION_TIMESTAMP`, action.`ACTION_DATE`, action.`TYPE`, action.`SYMBOL` \n",
      "FROM action \n",
      "WHERE action.`ACTION_TIMESTAMP` = %(ACTION_TIMESTAMP_1)s\n",
      "2021-12-02 00:56:46,352 INFO sqlalchemy.engine.Engine [cached since 26.98s ago] {'ACTION_TIMESTAMP_1': 1638374204.616256}\n",
      "2021-12-02 00:56:46,769 INFO sqlalchemy.engine.Engine INSERT INTO transaction (`USER_ID`, `IS_SPOT`, `IS_BUY`, `B_ORDERNO`, `TX_ID`, `TX_TIMESTAMP`, `TX_DATE`, `SYMBOL`, `PRICE`, `AMOUNT`, `QUOTE_PRICE`, `COMMISSION`, `COMMISSION_ASSET`, `COMMISSION_USDT`) VALUES (%(USER_ID)s, %(IS_SPOT)s, %(IS_BUY)s, %(B_ORDERNO)s, %(TX_ID)s, %(TX_TIMESTAMP)s, %(TX_DATE)s, %(SYMBOL)s, %(PRICE)s, %(AMOUNT)s, %(QUOTE_PRICE)s, %(COMMISSION)s, %(COMMISSION_ASSET)s, %(COMMISSION_USDT)s)\n",
      "2021-12-02 00:56:46,771 INFO sqlalchemy.engine.Engine [cached since 27s ago] {'USER_ID': '001', 'IS_SPOT': 1, 'IS_BUY': 0, 'B_ORDERNO': '3684537915', 'TX_ID': '387415360', 'TX_TIMESTAMP': '1638374206008', 'TX_DATE': datetime.datetime(2021, 12, 2, 0, 56, 46, 8000), 'SYMBOL': 'XRPUSDT', 'PRICE': '1.01030000', 'AMOUNT': '77.00000000', 'QUOTE_PRICE': '77.79310000', 'COMMISSION': '0.07779310', 'COMMISSION_ASSET': 'USDT', 'COMMISSION_USDT': '0.07779310'}\n",
      "2021-12-02 00:56:46,772 INFO sqlalchemy.engine.Engine INSERT INTO `order` (`USER_ID`, `ACTION_ID`, `IS_SPOT`, `IS_BUY`, `B_ORDERNO`, `ORDER_TIMESTAMP`, `ORDER_DATE`, `SYMBOL`, `AMOUNT`, `UNIT_PRICE`, `TOTAL_PRICE`, `COMMISSION_USDT`) VALUES (%(USER_ID)s, %(ACTION_ID)s, %(IS_SPOT)s, %(IS_BUY)s, %(B_ORDERNO)s, %(ORDER_TIMESTAMP)s, %(ORDER_DATE)s, %(SYMBOL)s, %(AMOUNT)s, %(UNIT_PRICE)s, %(TOTAL_PRICE)s, %(COMMISSION_USDT)s)\n",
      "2021-12-02 00:56:46,773 INFO sqlalchemy.engine.Engine [cached since 27s ago] {'USER_ID': '001', 'ACTION_ID': 51, 'IS_SPOT': 1, 'IS_BUY': 0, 'B_ORDERNO': '3684537915', 'ORDER_TIMESTAMP': '1638374206008', 'ORDER_DATE': datetime.datetime(2021, 12, 2, 0, 56, 46, 8000), 'SYMBOL': 'XRPUSDT', 'AMOUNT': '-77.00000000', 'UNIT_PRICE': '1.0103', 'TOTAL_PRICE': '77.79310000', 'COMMISSION_USDT': '0.07779310'}\n",
      "2021-12-02 00:56:46,829 INFO sqlalchemy.engine.Engine INSERT INTO transaction (`USER_ID`, `IS_SPOT`, `IS_BUY`, `B_ORDERNO`, `TX_ID`, `TX_TIMESTAMP`, `TX_DATE`, `SYMBOL`, `PRICE`, `AMOUNT`, `QUOTE_PRICE`, `COMMISSION`, `COMMISSION_ASSET`, `COMMISSION_USDT`) VALUES (%(USER_ID)s, %(IS_SPOT)s, %(IS_BUY)s, %(B_ORDERNO)s, %(TX_ID)s, %(TX_TIMESTAMP)s, %(TX_DATE)s, %(SYMBOL)s, %(PRICE)s, %(AMOUNT)s, %(QUOTE_PRICE)s, %(COMMISSION)s, %(COMMISSION_ASSET)s, %(COMMISSION_USDT)s)\n",
      "2021-12-02 00:56:46,830 INFO sqlalchemy.engine.Engine [cached since 27.06s ago] {'USER_ID': '001', 'IS_SPOT': 0, 'IS_BUY': 1, 'B_ORDERNO': '18447995031', 'TX_ID': '717382510', 'TX_TIMESTAMP': '1638374206208', 'TX_DATE': datetime.datetime(2021, 12, 2, 0, 56, 46, 208000), 'SYMBOL': 'XRPUSDT', 'PRICE': '1.0111', 'AMOUNT': '77', 'QUOTE_PRICE': '77.85470', 'COMMISSION': '0.03114188', 'COMMISSION_ASSET': 'USDT', 'COMMISSION_USDT': '0.03114188'}\n",
      "2021-12-02 00:56:46,831 INFO sqlalchemy.engine.Engine INSERT INTO `order` (`USER_ID`, `ACTION_ID`, `IS_SPOT`, `IS_BUY`, `B_ORDERNO`, `ORDER_TIMESTAMP`, `ORDER_DATE`, `SYMBOL`, `AMOUNT`, `UNIT_PRICE`, `TOTAL_PRICE`, `COMMISSION_USDT`) VALUES (%(USER_ID)s, %(ACTION_ID)s, %(IS_SPOT)s, %(IS_BUY)s, %(B_ORDERNO)s, %(ORDER_TIMESTAMP)s, %(ORDER_DATE)s, %(SYMBOL)s, %(AMOUNT)s, %(UNIT_PRICE)s, %(TOTAL_PRICE)s, %(COMMISSION_USDT)s)\n",
      "2021-12-02 00:56:46,832 INFO sqlalchemy.engine.Engine [cached since 27.06s ago] {'USER_ID': '001', 'ACTION_ID': 51, 'IS_SPOT': 0, 'IS_BUY': 1, 'B_ORDERNO': '18447995031', 'ORDER_TIMESTAMP': '1638374206208', 'ORDER_DATE': datetime.datetime(2021, 12, 2, 0, 56, 46, 208000), 'SYMBOL': 'XRPUSDT', 'AMOUNT': '77', 'UNIT_PRICE': '1.01110', 'TOTAL_PRICE': '77.85470', 'COMMISSION_USDT': '0.03114188'}\n",
      "2021-12-02 00:56:46,833 INFO sqlalchemy.engine.Engine COMMIT\n",
      "{'action_details': {'USER_ID': '001', 'ACTION_TIMESTAMP': 1638374204.616256, 'ACTION_DATE': datetime.datetime(2021, 12, 2, 0, 56, 44, 616256), 'TYPE': 4, 'SYMBOL': 'XRPUSDT'}, 'order_details': [{'order_input': {'USER_ID': '001', 'ACTION_ID': 51, 'IS_SPOT': 1, 'IS_BUY': 0, 'B_ORDERNO': '3684537915', 'ORDER_TIMESTAMP': '1638374206008', 'ORDER_DATE': datetime.datetime(2021, 12, 2, 0, 56, 46, 8000), 'SYMBOL': 'XRPUSDT', 'AMOUNT': '-77.00000000', 'UNIT_PRICE': '1.0103', 'TOTAL_PRICE': '77.79310000', 'COMMISSION_USDT': '0.07779310'}, 'tx_input_set': [{'USER_ID': '001', 'IS_SPOT': 1, 'IS_BUY': 0, 'B_ORDERNO': '3684537915', 'TX_ID': '387415360', 'TX_TIMESTAMP': '1638374206008', 'TX_DATE': datetime.datetime(2021, 12, 2, 0, 56, 46, 8000), 'SYMBOL': 'XRPUSDT', 'PRICE': '1.01030000', 'AMOUNT': '77.00000000', 'QUOTE_PRICE': '77.79310000', 'COMMISSION': '0.07779310', 'COMMISSION_ASSET': 'USDT', 'COMMISSION_USDT': '0.07779310'}]}, {'order_input': {'USER_ID': '001', 'ACTION_ID': 51, 'IS_SPOT': 0, 'IS_BUY': 1, 'B_ORDERNO': '18447995031', 'ORDER_TIMESTAMP': '1638374206208', 'ORDER_DATE': datetime.datetime(2021, 12, 2, 0, 56, 46, 208000), 'SYMBOL': 'XRPUSDT', 'AMOUNT': '77', 'UNIT_PRICE': '1.01110', 'TOTAL_PRICE': '77.85470', 'COMMISSION_USDT': '0.03114188'}, 'tx_input_set': [{'USER_ID': '001', 'IS_SPOT': 0, 'IS_BUY': 1, 'B_ORDERNO': '18447995031', 'TX_ID': '717382510', 'TX_TIMESTAMP': '1638374206208', 'TX_DATE': datetime.datetime(2021, 12, 2, 0, 56, 46, 208000), 'SYMBOL': 'XRPUSDT', 'PRICE': '1.0111', 'AMOUNT': '77', 'QUOTE_PRICE': '77.85470', 'COMMISSION': '0.03114188', 'COMMISSION_ASSET': 'USDT', 'COMMISSION_USDT': '0.03114188'}]}]}\n",
      "2021-12-02 00:56:46,837 INFO sqlalchemy.engine.Engine INSERT INTO log (`USER_ID`, `TIMESTAMP`, `GROUP`, `MESSAGE`) VALUES (%(USER_ID)s, %(TIMESTAMP)s, %(GROUP)s, %(MESSAGE)s)\n",
      "2021-12-02 00:56:46,838 INFO sqlalchemy.engine.Engine [cached since 29.11s ago] {'USER_ID': '001', 'TIMESTAMP': 1638374206.8378623, 'GROUP': '포지션 탈출', 'MESSAGE': '[탐지] 선물 매수가: 1.011100, 현물 매도가: 1.010300'}\n",
      "2021-12-02 00:56:46,840 INFO sqlalchemy.engine.Engine COMMIT\n",
      "2021-12-02 00:56:46,845 INFO sqlalchemy.engine.Engine INSERT INTO log (`USER_ID`, `TIMESTAMP`, `GROUP`, `MESSAGE`) VALUES (%(USER_ID)s, %(TIMESTAMP)s, %(GROUP)s, %(MESSAGE)s)\n",
      "2021-12-02 00:56:46,847 INFO sqlalchemy.engine.Engine [cached since 29.12s ago] {'USER_ID': '001', 'TIMESTAMP': 1638374206.8458104, 'GROUP': '포지션 탈출', 'MESSAGE': '[실제] 선물 매수가: 1.011100, 현물 매도가: 1.010300'}\n",
      "2021-12-02 00:56:46,849 INFO sqlalchemy.engine.Engine COMMIT\n",
      "2021-12-02 00:56:47,059 INFO sqlalchemy.engine.Engine INSERT INTO log (`USER_ID`, `TIMESTAMP`, `GROUP`, `MESSAGE`) VALUES (%(USER_ID)s, %(TIMESTAMP)s, %(GROUP)s, %(MESSAGE)s)\n",
      "2021-12-02 00:56:47,060 INFO sqlalchemy.engine.Engine [cached since 29.34s ago] {'USER_ID': '001', 'TIMESTAMP': 1638374207.059433, 'GROUP': '포지션 탈출', 'MESSAGE': 'Leaving Positions in 0.204621 seconds'}\n",
      "2021-12-02 00:56:47,061 INFO sqlalchemy.engine.Engine COMMIT\n",
      "\t\\Leaving Positions in 0.204621 seconds\n",
      "2021-12-02 00:56:47,065 INFO sqlalchemy.engine.Engine INSERT INTO log (`USER_ID`, `TIMESTAMP`, `GROUP`, `MESSAGE`) VALUES (%(USER_ID)s, %(TIMESTAMP)s, %(GROUP)s, %(MESSAGE)s)\n",
      "2021-12-02 00:56:47,065 INFO sqlalchemy.engine.Engine [cached since 29.34s ago] {'USER_ID': '001', 'TIMESTAMP': 1638374207.0653877, 'GROUP': '포지션 탈출', 'MESSAGE': 'Current Price Difference: 0.000800, Threshold: 0.000480'}\n",
      "2021-12-02 00:56:47,067 INFO sqlalchemy.engine.Engine COMMIT\n",
      "\t\tCurrent Price Difference: 0.000800, Threshold: 0.000480\n",
      "\t>> 선물 지갑의 잔여 USDT를 SPOT 지갑으로 이동. 이동 금액: 3.34 USDT\n",
      "2021-12-02 00:56:48,603 INFO sqlalchemy.engine.Engine BEGIN (implicit)\n",
      "2021-12-02 00:56:48,604 INFO sqlalchemy.engine.Engine INSERT INTO action (`USER_ID`, `ACTION_TIMESTAMP`, `ACTION_DATE`, `TYPE`, `SYMBOL`) VALUES (%(USER_ID)s, %(ACTION_TIMESTAMP)s, %(ACTION_DATE)s, %(TYPE)s, %(SYMBOL)s)\n",
      "2021-12-02 00:56:48,605 INFO sqlalchemy.engine.Engine [cached since 29.25s ago] {'USER_ID': '001', 'ACTION_TIMESTAMP': 1638374206.854812, 'ACTION_DATE': datetime.datetime(2021, 12, 2, 0, 56, 46, 854812), 'TYPE': 4, 'SYMBOL': 'XRPUSDT'}\n",
      "2021-12-02 00:56:48,608 INFO sqlalchemy.engine.Engine SELECT action.`USER_ID`, action.`ACTION_ID`, action.`ACTION_TIMESTAMP`, action.`ACTION_DATE`, action.`TYPE`, action.`SYMBOL` \n",
      "FROM action \n",
      "WHERE action.`ACTION_TIMESTAMP` = %(ACTION_TIMESTAMP_1)s\n",
      "2021-12-02 00:56:48,610 INFO sqlalchemy.engine.Engine [cached since 29.24s ago] {'ACTION_TIMESTAMP_1': 1638374206.854812}\n",
      "2021-12-02 00:56:49,034 INFO sqlalchemy.engine.Engine INSERT INTO transaction (`USER_ID`, `IS_SPOT`, `IS_BUY`, `B_ORDERNO`, `TX_ID`, `TX_TIMESTAMP`, `TX_DATE`, `SYMBOL`, `PRICE`, `AMOUNT`, `QUOTE_PRICE`, `COMMISSION`, `COMMISSION_ASSET`, `COMMISSION_USDT`) VALUES (%(USER_ID)s, %(IS_SPOT)s, %(IS_BUY)s, %(B_ORDERNO)s, %(TX_ID)s, %(TX_TIMESTAMP)s, %(TX_DATE)s, %(SYMBOL)s, %(PRICE)s, %(AMOUNT)s, %(QUOTE_PRICE)s, %(COMMISSION)s, %(COMMISSION_ASSET)s, %(COMMISSION_USDT)s)\n",
      "2021-12-02 00:56:49,035 INFO sqlalchemy.engine.Engine [cached since 29.27s ago] {'USER_ID': '001', 'IS_SPOT': 1, 'IS_BUY': 0, 'B_ORDERNO': '3684537957', 'TX_ID': '387415366', 'TX_TIMESTAMP': '1638374208253', 'TX_DATE': datetime.datetime(2021, 12, 2, 0, 56, 48, 253000), 'SYMBOL': 'XRPUSDT', 'PRICE': '1.01030000', 'AMOUNT': '77.00000000', 'QUOTE_PRICE': '77.79310000', 'COMMISSION': '0.07779310', 'COMMISSION_ASSET': 'USDT', 'COMMISSION_USDT': '0.07779310'}\n",
      "2021-12-02 00:56:49,036 INFO sqlalchemy.engine.Engine INSERT INTO `order` (`USER_ID`, `ACTION_ID`, `IS_SPOT`, `IS_BUY`, `B_ORDERNO`, `ORDER_TIMESTAMP`, `ORDER_DATE`, `SYMBOL`, `AMOUNT`, `UNIT_PRICE`, `TOTAL_PRICE`, `COMMISSION_USDT`) VALUES (%(USER_ID)s, %(ACTION_ID)s, %(IS_SPOT)s, %(IS_BUY)s, %(B_ORDERNO)s, %(ORDER_TIMESTAMP)s, %(ORDER_DATE)s, %(SYMBOL)s, %(AMOUNT)s, %(UNIT_PRICE)s, %(TOTAL_PRICE)s, %(COMMISSION_USDT)s)\n",
      "2021-12-02 00:56:49,036 INFO sqlalchemy.engine.Engine [cached since 29.26s ago] {'USER_ID': '001', 'ACTION_ID': 52, 'IS_SPOT': 1, 'IS_BUY': 0, 'B_ORDERNO': '3684537957', 'ORDER_TIMESTAMP': '1638374208253', 'ORDER_DATE': datetime.datetime(2021, 12, 2, 0, 56, 48, 253000), 'SYMBOL': 'XRPUSDT', 'AMOUNT': '-77.00000000', 'UNIT_PRICE': '1.0103', 'TOTAL_PRICE': '77.79310000', 'COMMISSION_USDT': '0.07779310'}\n",
      "2021-12-02 00:56:49,133 INFO sqlalchemy.engine.Engine INSERT INTO transaction (`USER_ID`, `IS_SPOT`, `IS_BUY`, `B_ORDERNO`, `TX_ID`, `TX_TIMESTAMP`, `TX_DATE`, `SYMBOL`, `PRICE`, `AMOUNT`, `QUOTE_PRICE`, `COMMISSION`, `COMMISSION_ASSET`, `COMMISSION_USDT`) VALUES (%(USER_ID)s, %(IS_SPOT)s, %(IS_BUY)s, %(B_ORDERNO)s, %(TX_ID)s, %(TX_TIMESTAMP)s, %(TX_DATE)s, %(SYMBOL)s, %(PRICE)s, %(AMOUNT)s, %(QUOTE_PRICE)s, %(COMMISSION)s, %(COMMISSION_ASSET)s, %(COMMISSION_USDT)s)\n",
      "2021-12-02 00:56:49,134 INFO sqlalchemy.engine.Engine [cached since 29.37s ago] {'USER_ID': '001', 'IS_SPOT': 0, 'IS_BUY': 1, 'B_ORDERNO': '18447995215', 'TX_ID': '717382519', 'TX_TIMESTAMP': '1638374208454', 'TX_DATE': datetime.datetime(2021, 12, 2, 0, 56, 48, 454000), 'SYMBOL': 'XRPUSDT', 'PRICE': '1.0112', 'AMOUNT': '77', 'QUOTE_PRICE': '77.86240', 'COMMISSION': '0.03114496', 'COMMISSION_ASSET': 'USDT', 'COMMISSION_USDT': '0.03114496'}\n",
      "2021-12-02 00:56:49,135 INFO sqlalchemy.engine.Engine INSERT INTO `order` (`USER_ID`, `ACTION_ID`, `IS_SPOT`, `IS_BUY`, `B_ORDERNO`, `ORDER_TIMESTAMP`, `ORDER_DATE`, `SYMBOL`, `AMOUNT`, `UNIT_PRICE`, `TOTAL_PRICE`, `COMMISSION_USDT`) VALUES (%(USER_ID)s, %(ACTION_ID)s, %(IS_SPOT)s, %(IS_BUY)s, %(B_ORDERNO)s, %(ORDER_TIMESTAMP)s, %(ORDER_DATE)s, %(SYMBOL)s, %(AMOUNT)s, %(UNIT_PRICE)s, %(TOTAL_PRICE)s, %(COMMISSION_USDT)s)\n",
      "2021-12-02 00:56:49,135 INFO sqlalchemy.engine.Engine [cached since 29.36s ago] {'USER_ID': '001', 'ACTION_ID': 52, 'IS_SPOT': 0, 'IS_BUY': 1, 'B_ORDERNO': '18447995215', 'ORDER_TIMESTAMP': '1638374208454', 'ORDER_DATE': datetime.datetime(2021, 12, 2, 0, 56, 48, 454000), 'SYMBOL': 'XRPUSDT', 'AMOUNT': '77', 'UNIT_PRICE': '1.01120', 'TOTAL_PRICE': '77.86240', 'COMMISSION_USDT': '0.03114496'}\n",
      "2021-12-02 00:56:49,136 INFO sqlalchemy.engine.Engine COMMIT\n",
      "{'action_details': {'USER_ID': '001', 'ACTION_TIMESTAMP': 1638374206.854812, 'ACTION_DATE': datetime.datetime(2021, 12, 2, 0, 56, 46, 854812), 'TYPE': 4, 'SYMBOL': 'XRPUSDT'}, 'order_details': [{'order_input': {'USER_ID': '001', 'ACTION_ID': 52, 'IS_SPOT': 1, 'IS_BUY': 0, 'B_ORDERNO': '3684537957', 'ORDER_TIMESTAMP': '1638374208253', 'ORDER_DATE': datetime.datetime(2021, 12, 2, 0, 56, 48, 253000), 'SYMBOL': 'XRPUSDT', 'AMOUNT': '-77.00000000', 'UNIT_PRICE': '1.0103', 'TOTAL_PRICE': '77.79310000', 'COMMISSION_USDT': '0.07779310'}, 'tx_input_set': [{'USER_ID': '001', 'IS_SPOT': 1, 'IS_BUY': 0, 'B_ORDERNO': '3684537957', 'TX_ID': '387415366', 'TX_TIMESTAMP': '1638374208253', 'TX_DATE': datetime.datetime(2021, 12, 2, 0, 56, 48, 253000), 'SYMBOL': 'XRPUSDT', 'PRICE': '1.01030000', 'AMOUNT': '77.00000000', 'QUOTE_PRICE': '77.79310000', 'COMMISSION': '0.07779310', 'COMMISSION_ASSET': 'USDT', 'COMMISSION_USDT': '0.07779310'}]}, {'order_input': {'USER_ID': '001', 'ACTION_ID': 52, 'IS_SPOT': 0, 'IS_BUY': 1, 'B_ORDERNO': '18447995215', 'ORDER_TIMESTAMP': '1638374208454', 'ORDER_DATE': datetime.datetime(2021, 12, 2, 0, 56, 48, 454000), 'SYMBOL': 'XRPUSDT', 'AMOUNT': '77', 'UNIT_PRICE': '1.01120', 'TOTAL_PRICE': '77.86240', 'COMMISSION_USDT': '0.03114496'}, 'tx_input_set': [{'USER_ID': '001', 'IS_SPOT': 0, 'IS_BUY': 1, 'B_ORDERNO': '18447995215', 'TX_ID': '717382519', 'TX_TIMESTAMP': '1638374208454', 'TX_DATE': datetime.datetime(2021, 12, 2, 0, 56, 48, 454000), 'SYMBOL': 'XRPUSDT', 'PRICE': '1.0112', 'AMOUNT': '77', 'QUOTE_PRICE': '77.86240', 'COMMISSION': '0.03114496', 'COMMISSION_ASSET': 'USDT', 'COMMISSION_USDT': '0.03114496'}]}]}\n",
      "2021-12-02 00:56:49,141 INFO sqlalchemy.engine.Engine INSERT INTO log (`USER_ID`, `TIMESTAMP`, `GROUP`, `MESSAGE`) VALUES (%(USER_ID)s, %(TIMESTAMP)s, %(GROUP)s, %(MESSAGE)s)\n",
      "2021-12-02 00:56:49,142 INFO sqlalchemy.engine.Engine [cached since 31.42s ago] {'USER_ID': '001', 'TIMESTAMP': 1638374209.1410258, 'GROUP': '포지션 탈출', 'MESSAGE': '[탐지] 선물 매수가: 1.011100, 현물 매도가: 1.010300'}\n",
      "2021-12-02 00:56:49,144 INFO sqlalchemy.engine.Engine COMMIT\n",
      "2021-12-02 00:56:49,147 INFO sqlalchemy.engine.Engine INSERT INTO log (`USER_ID`, `TIMESTAMP`, `GROUP`, `MESSAGE`) VALUES (%(USER_ID)s, %(TIMESTAMP)s, %(GROUP)s, %(MESSAGE)s)\n",
      "2021-12-02 00:56:49,148 INFO sqlalchemy.engine.Engine [cached since 31.42s ago] {'USER_ID': '001', 'TIMESTAMP': 1638374209.147037, 'GROUP': '포지션 탈출', 'MESSAGE': '[실제] 선물 매수가: 1.011200, 현물 매도가: 1.010300'}\n",
      "2021-12-02 00:56:49,150 INFO sqlalchemy.engine.Engine COMMIT\n",
      "2021-12-02 00:57:01,319 INFO sqlalchemy.engine.Engine INSERT INTO log (`USER_ID`, `TIMESTAMP`, `GROUP`, `MESSAGE`) VALUES (%(USER_ID)s, %(TIMESTAMP)s, %(GROUP)s, %(MESSAGE)s)\n",
      "2021-12-02 00:57:01,320 INFO sqlalchemy.engine.Engine [cached since 43.6s ago] {'USER_ID': '001', 'TIMESTAMP': 1638374221.319836, 'GROUP': '포지션 탈출', 'MESSAGE': 'Leaving Positions in 12.165843 seconds'}\n",
      "2021-12-02 00:57:01,321 INFO sqlalchemy.engine.Engine COMMIT\n",
      "\t\\Leaving Positions in 12.165843 seconds\n",
      "2021-12-02 00:57:01,325 INFO sqlalchemy.engine.Engine INSERT INTO log (`USER_ID`, `TIMESTAMP`, `GROUP`, `MESSAGE`) VALUES (%(USER_ID)s, %(TIMESTAMP)s, %(GROUP)s, %(MESSAGE)s)\n",
      "2021-12-02 00:57:01,325 INFO sqlalchemy.engine.Engine [cached since 43.6s ago] {'USER_ID': '001', 'TIMESTAMP': 1638374221.3257556, 'GROUP': '포지션 탈출', 'MESSAGE': 'Current Price Difference: 0.001000, Threshold: 0.000480'}\n",
      "2021-12-02 00:57:01,327 INFO sqlalchemy.engine.Engine COMMIT\n",
      "\t\tCurrent Price Difference: 0.001000, Threshold: 0.000480\n",
      "\t>> 선물 지갑의 잔여 USDT를 SPOT 지갑으로 이동. 이동 금액: 3.34 USDT\n",
      "2021-12-02 00:57:02,884 INFO sqlalchemy.engine.Engine BEGIN (implicit)\n",
      "2021-12-02 00:57:02,885 INFO sqlalchemy.engine.Engine INSERT INTO action (`USER_ID`, `ACTION_TIMESTAMP`, `ACTION_DATE`, `TYPE`, `SYMBOL`) VALUES (%(USER_ID)s, %(ACTION_TIMESTAMP)s, %(ACTION_DATE)s, %(TYPE)s, %(SYMBOL)s)\n",
      "2021-12-02 00:57:02,885 INFO sqlalchemy.engine.Engine [cached since 43.53s ago] {'USER_ID': '001', 'ACTION_TIMESTAMP': 1638374209.153992, 'ACTION_DATE': datetime.datetime(2021, 12, 2, 0, 56, 49, 153992), 'TYPE': 4, 'SYMBOL': 'XRPUSDT'}\n",
      "2021-12-02 00:57:02,887 INFO sqlalchemy.engine.Engine SELECT action.`USER_ID`, action.`ACTION_ID`, action.`ACTION_TIMESTAMP`, action.`ACTION_DATE`, action.`TYPE`, action.`SYMBOL` \n",
      "FROM action \n",
      "WHERE action.`ACTION_TIMESTAMP` = %(ACTION_TIMESTAMP_1)s\n",
      "2021-12-02 00:57:02,887 INFO sqlalchemy.engine.Engine [cached since 43.52s ago] {'ACTION_TIMESTAMP_1': 1638374209.153992}\n",
      "2021-12-02 00:57:03,280 INFO sqlalchemy.engine.Engine INSERT INTO transaction (`USER_ID`, `IS_SPOT`, `IS_BUY`, `B_ORDERNO`, `TX_ID`, `TX_TIMESTAMP`, `TX_DATE`, `SYMBOL`, `PRICE`, `AMOUNT`, `QUOTE_PRICE`, `COMMISSION`, `COMMISSION_ASSET`, `COMMISSION_USDT`) VALUES (%(USER_ID)s, %(IS_SPOT)s, %(IS_BUY)s, %(B_ORDERNO)s, %(TX_ID)s, %(TX_TIMESTAMP)s, %(TX_DATE)s, %(SYMBOL)s, %(PRICE)s, %(AMOUNT)s, %(QUOTE_PRICE)s, %(COMMISSION)s, %(COMMISSION_ASSET)s, %(COMMISSION_USDT)s)\n",
      "2021-12-02 00:57:03,281 INFO sqlalchemy.engine.Engine [cached since 43.51s ago] {'USER_ID': '001', 'IS_SPOT': 1, 'IS_BUY': 0, 'B_ORDERNO': '3684538478', 'TX_ID': '387415413', 'TX_TIMESTAMP': '1638374222507', 'TX_DATE': datetime.datetime(2021, 12, 2, 0, 57, 2, 507000), 'SYMBOL': 'XRPUSDT', 'PRICE': '1.01020000', 'AMOUNT': '77.00000000', 'QUOTE_PRICE': '77.78540000', 'COMMISSION': '0.07778540', 'COMMISSION_ASSET': 'USDT', 'COMMISSION_USDT': '0.07778540'}\n",
      "2021-12-02 00:57:03,282 INFO sqlalchemy.engine.Engine INSERT INTO `order` (`USER_ID`, `ACTION_ID`, `IS_SPOT`, `IS_BUY`, `B_ORDERNO`, `ORDER_TIMESTAMP`, `ORDER_DATE`, `SYMBOL`, `AMOUNT`, `UNIT_PRICE`, `TOTAL_PRICE`, `COMMISSION_USDT`) VALUES (%(USER_ID)s, %(ACTION_ID)s, %(IS_SPOT)s, %(IS_BUY)s, %(B_ORDERNO)s, %(ORDER_TIMESTAMP)s, %(ORDER_DATE)s, %(SYMBOL)s, %(AMOUNT)s, %(UNIT_PRICE)s, %(TOTAL_PRICE)s, %(COMMISSION_USDT)s)\n",
      "2021-12-02 00:57:03,282 INFO sqlalchemy.engine.Engine [cached since 43.51s ago] {'USER_ID': '001', 'ACTION_ID': 53, 'IS_SPOT': 1, 'IS_BUY': 0, 'B_ORDERNO': '3684538478', 'ORDER_TIMESTAMP': '1638374222507', 'ORDER_DATE': datetime.datetime(2021, 12, 2, 0, 57, 2, 507000), 'SYMBOL': 'XRPUSDT', 'AMOUNT': '-77.00000000', 'UNIT_PRICE': '1.0102', 'TOTAL_PRICE': '77.78540000', 'COMMISSION_USDT': '0.07778540'}\n",
      "2021-12-02 00:57:03,329 INFO sqlalchemy.engine.Engine INSERT INTO transaction (`USER_ID`, `IS_SPOT`, `IS_BUY`, `B_ORDERNO`, `TX_ID`, `TX_TIMESTAMP`, `TX_DATE`, `SYMBOL`, `PRICE`, `AMOUNT`, `QUOTE_PRICE`, `COMMISSION`, `COMMISSION_ASSET`, `COMMISSION_USDT`) VALUES (%(USER_ID)s, %(IS_SPOT)s, %(IS_BUY)s, %(B_ORDERNO)s, %(TX_ID)s, %(TX_TIMESTAMP)s, %(TX_DATE)s, %(SYMBOL)s, %(PRICE)s, %(AMOUNT)s, %(QUOTE_PRICE)s, %(COMMISSION)s, %(COMMISSION_ASSET)s, %(COMMISSION_USDT)s)\n",
      "2021-12-02 00:57:03,329 INFO sqlalchemy.engine.Engine [cached since 43.56s ago] {'USER_ID': '001', 'IS_SPOT': 0, 'IS_BUY': 1, 'B_ORDERNO': '18447997046', 'TX_ID': '717382567', 'TX_TIMESTAMP': '1638374222722', 'TX_DATE': datetime.datetime(2021, 12, 2, 0, 57, 2, 722000), 'SYMBOL': 'XRPUSDT', 'PRICE': '1.0112', 'AMOUNT': '77', 'QUOTE_PRICE': '77.86240', 'COMMISSION': '0.03114496', 'COMMISSION_ASSET': 'USDT', 'COMMISSION_USDT': '0.03114496'}\n",
      "2021-12-02 00:57:03,331 INFO sqlalchemy.engine.Engine INSERT INTO `order` (`USER_ID`, `ACTION_ID`, `IS_SPOT`, `IS_BUY`, `B_ORDERNO`, `ORDER_TIMESTAMP`, `ORDER_DATE`, `SYMBOL`, `AMOUNT`, `UNIT_PRICE`, `TOTAL_PRICE`, `COMMISSION_USDT`) VALUES (%(USER_ID)s, %(ACTION_ID)s, %(IS_SPOT)s, %(IS_BUY)s, %(B_ORDERNO)s, %(ORDER_TIMESTAMP)s, %(ORDER_DATE)s, %(SYMBOL)s, %(AMOUNT)s, %(UNIT_PRICE)s, %(TOTAL_PRICE)s, %(COMMISSION_USDT)s)\n",
      "2021-12-02 00:57:03,331 INFO sqlalchemy.engine.Engine [cached since 43.56s ago] {'USER_ID': '001', 'ACTION_ID': 53, 'IS_SPOT': 0, 'IS_BUY': 1, 'B_ORDERNO': '18447997046', 'ORDER_TIMESTAMP': '1638374222722', 'ORDER_DATE': datetime.datetime(2021, 12, 2, 0, 57, 2, 722000), 'SYMBOL': 'XRPUSDT', 'AMOUNT': '77', 'UNIT_PRICE': '1.01120', 'TOTAL_PRICE': '77.86240', 'COMMISSION_USDT': '0.03114496'}\n",
      "2021-12-02 00:57:03,333 INFO sqlalchemy.engine.Engine COMMIT\n",
      "{'action_details': {'USER_ID': '001', 'ACTION_TIMESTAMP': 1638374209.153992, 'ACTION_DATE': datetime.datetime(2021, 12, 2, 0, 56, 49, 153992), 'TYPE': 4, 'SYMBOL': 'XRPUSDT'}, 'order_details': [{'order_input': {'USER_ID': '001', 'ACTION_ID': 53, 'IS_SPOT': 1, 'IS_BUY': 0, 'B_ORDERNO': '3684538478', 'ORDER_TIMESTAMP': '1638374222507', 'ORDER_DATE': datetime.datetime(2021, 12, 2, 0, 57, 2, 507000), 'SYMBOL': 'XRPUSDT', 'AMOUNT': '-77.00000000', 'UNIT_PRICE': '1.0102', 'TOTAL_PRICE': '77.78540000', 'COMMISSION_USDT': '0.07778540'}, 'tx_input_set': [{'USER_ID': '001', 'IS_SPOT': 1, 'IS_BUY': 0, 'B_ORDERNO': '3684538478', 'TX_ID': '387415413', 'TX_TIMESTAMP': '1638374222507', 'TX_DATE': datetime.datetime(2021, 12, 2, 0, 57, 2, 507000), 'SYMBOL': 'XRPUSDT', 'PRICE': '1.01020000', 'AMOUNT': '77.00000000', 'QUOTE_PRICE': '77.78540000', 'COMMISSION': '0.07778540', 'COMMISSION_ASSET': 'USDT', 'COMMISSION_USDT': '0.07778540'}]}, {'order_input': {'USER_ID': '001', 'ACTION_ID': 53, 'IS_SPOT': 0, 'IS_BUY': 1, 'B_ORDERNO': '18447997046', 'ORDER_TIMESTAMP': '1638374222722', 'ORDER_DATE': datetime.datetime(2021, 12, 2, 0, 57, 2, 722000), 'SYMBOL': 'XRPUSDT', 'AMOUNT': '77', 'UNIT_PRICE': '1.01120', 'TOTAL_PRICE': '77.86240', 'COMMISSION_USDT': '0.03114496'}, 'tx_input_set': [{'USER_ID': '001', 'IS_SPOT': 0, 'IS_BUY': 1, 'B_ORDERNO': '18447997046', 'TX_ID': '717382567', 'TX_TIMESTAMP': '1638374222722', 'TX_DATE': datetime.datetime(2021, 12, 2, 0, 57, 2, 722000), 'SYMBOL': 'XRPUSDT', 'PRICE': '1.0112', 'AMOUNT': '77', 'QUOTE_PRICE': '77.86240', 'COMMISSION': '0.03114496', 'COMMISSION_ASSET': 'USDT', 'COMMISSION_USDT': '0.03114496'}]}]}\n",
      "2021-12-02 00:57:03,337 INFO sqlalchemy.engine.Engine INSERT INTO log (`USER_ID`, `TIMESTAMP`, `GROUP`, `MESSAGE`) VALUES (%(USER_ID)s, %(TIMESTAMP)s, %(GROUP)s, %(MESSAGE)s)\n",
      "2021-12-02 00:57:03,337 INFO sqlalchemy.engine.Engine [cached since 45.61s ago] {'USER_ID': '001', 'TIMESTAMP': 1638374223.3371975, 'GROUP': '포지션 탈출', 'MESSAGE': '[탐지] 선물 매수가: 1.011200, 현물 매도가: 1.010200'}\n",
      "2021-12-02 00:57:03,339 INFO sqlalchemy.engine.Engine COMMIT\n",
      "2021-12-02 00:57:03,341 INFO sqlalchemy.engine.Engine INSERT INTO log (`USER_ID`, `TIMESTAMP`, `GROUP`, `MESSAGE`) VALUES (%(USER_ID)s, %(TIMESTAMP)s, %(GROUP)s, %(MESSAGE)s)\n",
      "2021-12-02 00:57:03,342 INFO sqlalchemy.engine.Engine [cached since 45.62s ago] {'USER_ID': '001', 'TIMESTAMP': 1638374223.3411865, 'GROUP': '포지션 탈출', 'MESSAGE': '[실제] 선물 매수가: 1.011200, 현물 매도가: 1.010200'}\n",
      "2021-12-02 00:57:03,345 INFO sqlalchemy.engine.Engine COMMIT\n",
      "2021-12-02 00:57:13,352 INFO sqlalchemy.engine.Engine INSERT INTO log (`USER_ID`, `TIMESTAMP`, `GROUP`, `MESSAGE`) VALUES (%(USER_ID)s, %(TIMESTAMP)s, %(GROUP)s, %(MESSAGE)s)\n",
      "2021-12-02 00:57:13,353 INFO sqlalchemy.engine.Engine [cached since 55.63s ago] {'USER_ID': '001', 'TIMESTAMP': 1638374233.352109, 'GROUP': '포지션 탈출', 'MESSAGE': 'Leaving Positions in 10.003940 seconds'}\n",
      "2021-12-02 00:57:13,354 INFO sqlalchemy.engine.Engine COMMIT\n",
      "\t\\Leaving Positions in 10.003940 seconds\n",
      "2021-12-02 00:57:13,357 INFO sqlalchemy.engine.Engine INSERT INTO log (`USER_ID`, `TIMESTAMP`, `GROUP`, `MESSAGE`) VALUES (%(USER_ID)s, %(TIMESTAMP)s, %(GROUP)s, %(MESSAGE)s)\n",
      "2021-12-02 00:57:13,358 INFO sqlalchemy.engine.Engine [cached since 55.63s ago] {'USER_ID': '001', 'TIMESTAMP': 1638374233.3570955, 'GROUP': '포지션 탈출', 'MESSAGE': 'Current Price Difference: 0.001000, Threshold: 0.000502'}\n",
      "2021-12-02 00:57:13,359 INFO sqlalchemy.engine.Engine COMMIT\n",
      "\t\tCurrent Price Difference: 0.001000, Threshold: 0.000502\n",
      "\t>> 선물 지갑의 잔여 USDT를 SPOT 지갑으로 이동. 이동 금액: 3.34 USDT\n",
      "2021-12-02 00:57:14,811 INFO sqlalchemy.engine.Engine BEGIN (implicit)\n",
      "2021-12-02 00:57:14,812 INFO sqlalchemy.engine.Engine INSERT INTO action (`USER_ID`, `ACTION_TIMESTAMP`, `ACTION_DATE`, `TYPE`, `SYMBOL`) VALUES (%(USER_ID)s, %(ACTION_TIMESTAMP)s, %(ACTION_DATE)s, %(TYPE)s, %(SYMBOL)s)\n",
      "2021-12-02 00:57:14,812 INFO sqlalchemy.engine.Engine [cached since 55.45s ago] {'USER_ID': '001', 'ACTION_TIMESTAMP': 1638374223.348169, 'ACTION_DATE': datetime.datetime(2021, 12, 2, 0, 57, 3, 348169), 'TYPE': 4, 'SYMBOL': 'XRPUSDT'}\n",
      "2021-12-02 00:57:14,814 INFO sqlalchemy.engine.Engine SELECT action.`USER_ID`, action.`ACTION_ID`, action.`ACTION_TIMESTAMP`, action.`ACTION_DATE`, action.`TYPE`, action.`SYMBOL` \n",
      "FROM action \n",
      "WHERE action.`ACTION_TIMESTAMP` = %(ACTION_TIMESTAMP_1)s\n",
      "2021-12-02 00:57:14,814 INFO sqlalchemy.engine.Engine [cached since 55.45s ago] {'ACTION_TIMESTAMP_1': 1638374223.348169}\n",
      "2021-12-02 00:57:15,205 INFO sqlalchemy.engine.Engine INSERT INTO transaction (`USER_ID`, `IS_SPOT`, `IS_BUY`, `B_ORDERNO`, `TX_ID`, `TX_TIMESTAMP`, `TX_DATE`, `SYMBOL`, `PRICE`, `AMOUNT`, `QUOTE_PRICE`, `COMMISSION`, `COMMISSION_ASSET`, `COMMISSION_USDT`) VALUES (%(USER_ID)s, %(IS_SPOT)s, %(IS_BUY)s, %(B_ORDERNO)s, %(TX_ID)s, %(TX_TIMESTAMP)s, %(TX_DATE)s, %(SYMBOL)s, %(PRICE)s, %(AMOUNT)s, %(QUOTE_PRICE)s, %(COMMISSION)s, %(COMMISSION_ASSET)s, %(COMMISSION_USDT)s)\n",
      "2021-12-02 00:57:15,205 INFO sqlalchemy.engine.Engine [cached since 55.44s ago] {'USER_ID': '001', 'IS_SPOT': 1, 'IS_BUY': 0, 'B_ORDERNO': '3684539185', 'TX_ID': '387415477', 'TX_TIMESTAMP': '1638374234419', 'TX_DATE': datetime.datetime(2021, 12, 2, 0, 57, 14, 419000), 'SYMBOL': 'XRPUSDT', 'PRICE': '1.01020000', 'AMOUNT': '77.00000000', 'QUOTE_PRICE': '77.78540000', 'COMMISSION': '0.07778540', 'COMMISSION_ASSET': 'USDT', 'COMMISSION_USDT': '0.07778540'}\n",
      "2021-12-02 00:57:15,207 INFO sqlalchemy.engine.Engine INSERT INTO `order` (`USER_ID`, `ACTION_ID`, `IS_SPOT`, `IS_BUY`, `B_ORDERNO`, `ORDER_TIMESTAMP`, `ORDER_DATE`, `SYMBOL`, `AMOUNT`, `UNIT_PRICE`, `TOTAL_PRICE`, `COMMISSION_USDT`) VALUES (%(USER_ID)s, %(ACTION_ID)s, %(IS_SPOT)s, %(IS_BUY)s, %(B_ORDERNO)s, %(ORDER_TIMESTAMP)s, %(ORDER_DATE)s, %(SYMBOL)s, %(AMOUNT)s, %(UNIT_PRICE)s, %(TOTAL_PRICE)s, %(COMMISSION_USDT)s)\n",
      "2021-12-02 00:57:15,207 INFO sqlalchemy.engine.Engine [cached since 55.44s ago] {'USER_ID': '001', 'ACTION_ID': 54, 'IS_SPOT': 1, 'IS_BUY': 0, 'B_ORDERNO': '3684539185', 'ORDER_TIMESTAMP': '1638374234419', 'ORDER_DATE': datetime.datetime(2021, 12, 2, 0, 57, 14, 419000), 'SYMBOL': 'XRPUSDT', 'AMOUNT': '-77.00000000', 'UNIT_PRICE': '1.0102', 'TOTAL_PRICE': '77.78540000', 'COMMISSION_USDT': '0.07778540'}\n",
      "2021-12-02 00:57:15,257 INFO sqlalchemy.engine.Engine INSERT INTO transaction (`USER_ID`, `IS_SPOT`, `IS_BUY`, `B_ORDERNO`, `TX_ID`, `TX_TIMESTAMP`, `TX_DATE`, `SYMBOL`, `PRICE`, `AMOUNT`, `QUOTE_PRICE`, `COMMISSION`, `COMMISSION_ASSET`, `COMMISSION_USDT`) VALUES (%(USER_ID)s, %(IS_SPOT)s, %(IS_BUY)s, %(B_ORDERNO)s, %(TX_ID)s, %(TX_TIMESTAMP)s, %(TX_DATE)s, %(SYMBOL)s, %(PRICE)s, %(AMOUNT)s, %(QUOTE_PRICE)s, %(COMMISSION)s, %(COMMISSION_ASSET)s, %(COMMISSION_USDT)s)\n",
      "2021-12-02 00:57:15,257 INFO sqlalchemy.engine.Engine [cached since 55.49s ago] {'USER_ID': '001', 'IS_SPOT': 0, 'IS_BUY': 1, 'B_ORDERNO': '18447998818', 'TX_ID': '717382619', 'TX_TIMESTAMP': '1638374234628', 'TX_DATE': datetime.datetime(2021, 12, 2, 0, 57, 14, 628000), 'SYMBOL': 'XRPUSDT', 'PRICE': '1.0113', 'AMOUNT': '77', 'QUOTE_PRICE': '77.87010', 'COMMISSION': '0.03114804', 'COMMISSION_ASSET': 'USDT', 'COMMISSION_USDT': '0.03114804'}\n",
      "2021-12-02 00:57:15,258 INFO sqlalchemy.engine.Engine INSERT INTO `order` (`USER_ID`, `ACTION_ID`, `IS_SPOT`, `IS_BUY`, `B_ORDERNO`, `ORDER_TIMESTAMP`, `ORDER_DATE`, `SYMBOL`, `AMOUNT`, `UNIT_PRICE`, `TOTAL_PRICE`, `COMMISSION_USDT`) VALUES (%(USER_ID)s, %(ACTION_ID)s, %(IS_SPOT)s, %(IS_BUY)s, %(B_ORDERNO)s, %(ORDER_TIMESTAMP)s, %(ORDER_DATE)s, %(SYMBOL)s, %(AMOUNT)s, %(UNIT_PRICE)s, %(TOTAL_PRICE)s, %(COMMISSION_USDT)s)\n",
      "2021-12-02 00:57:15,259 INFO sqlalchemy.engine.Engine [cached since 55.49s ago] {'USER_ID': '001', 'ACTION_ID': 54, 'IS_SPOT': 0, 'IS_BUY': 1, 'B_ORDERNO': '18447998818', 'ORDER_TIMESTAMP': '1638374234628', 'ORDER_DATE': datetime.datetime(2021, 12, 2, 0, 57, 14, 628000), 'SYMBOL': 'XRPUSDT', 'AMOUNT': '77', 'UNIT_PRICE': '1.01130', 'TOTAL_PRICE': '77.87010', 'COMMISSION_USDT': '0.03114804'}\n",
      "2021-12-02 00:57:15,261 INFO sqlalchemy.engine.Engine COMMIT\n",
      "{'action_details': {'USER_ID': '001', 'ACTION_TIMESTAMP': 1638374223.348169, 'ACTION_DATE': datetime.datetime(2021, 12, 2, 0, 57, 3, 348169), 'TYPE': 4, 'SYMBOL': 'XRPUSDT'}, 'order_details': [{'order_input': {'USER_ID': '001', 'ACTION_ID': 54, 'IS_SPOT': 1, 'IS_BUY': 0, 'B_ORDERNO': '3684539185', 'ORDER_TIMESTAMP': '1638374234419', 'ORDER_DATE': datetime.datetime(2021, 12, 2, 0, 57, 14, 419000), 'SYMBOL': 'XRPUSDT', 'AMOUNT': '-77.00000000', 'UNIT_PRICE': '1.0102', 'TOTAL_PRICE': '77.78540000', 'COMMISSION_USDT': '0.07778540'}, 'tx_input_set': [{'USER_ID': '001', 'IS_SPOT': 1, 'IS_BUY': 0, 'B_ORDERNO': '3684539185', 'TX_ID': '387415477', 'TX_TIMESTAMP': '1638374234419', 'TX_DATE': datetime.datetime(2021, 12, 2, 0, 57, 14, 419000), 'SYMBOL': 'XRPUSDT', 'PRICE': '1.01020000', 'AMOUNT': '77.00000000', 'QUOTE_PRICE': '77.78540000', 'COMMISSION': '0.07778540', 'COMMISSION_ASSET': 'USDT', 'COMMISSION_USDT': '0.07778540'}]}, {'order_input': {'USER_ID': '001', 'ACTION_ID': 54, 'IS_SPOT': 0, 'IS_BUY': 1, 'B_ORDERNO': '18447998818', 'ORDER_TIMESTAMP': '1638374234628', 'ORDER_DATE': datetime.datetime(2021, 12, 2, 0, 57, 14, 628000), 'SYMBOL': 'XRPUSDT', 'AMOUNT': '77', 'UNIT_PRICE': '1.01130', 'TOTAL_PRICE': '77.87010', 'COMMISSION_USDT': '0.03114804'}, 'tx_input_set': [{'USER_ID': '001', 'IS_SPOT': 0, 'IS_BUY': 1, 'B_ORDERNO': '18447998818', 'TX_ID': '717382619', 'TX_TIMESTAMP': '1638374234628', 'TX_DATE': datetime.datetime(2021, 12, 2, 0, 57, 14, 628000), 'SYMBOL': 'XRPUSDT', 'PRICE': '1.0113', 'AMOUNT': '77', 'QUOTE_PRICE': '77.87010', 'COMMISSION': '0.03114804', 'COMMISSION_ASSET': 'USDT', 'COMMISSION_USDT': '0.03114804'}]}]}\n",
      "2021-12-02 00:57:15,267 INFO sqlalchemy.engine.Engine INSERT INTO log (`USER_ID`, `TIMESTAMP`, `GROUP`, `MESSAGE`) VALUES (%(USER_ID)s, %(TIMESTAMP)s, %(GROUP)s, %(MESSAGE)s)\n",
      "2021-12-02 00:57:15,267 INFO sqlalchemy.engine.Engine [cached since 57.54s ago] {'USER_ID': '001', 'TIMESTAMP': 1638374235.2660565, 'GROUP': '포지션 탈출', 'MESSAGE': '[탐지] 선물 매수가: 1.011300, 현물 매도가: 1.010300'}\n",
      "2021-12-02 00:57:15,269 INFO sqlalchemy.engine.Engine COMMIT\n",
      "2021-12-02 00:57:15,273 INFO sqlalchemy.engine.Engine INSERT INTO log (`USER_ID`, `TIMESTAMP`, `GROUP`, `MESSAGE`) VALUES (%(USER_ID)s, %(TIMESTAMP)s, %(GROUP)s, %(MESSAGE)s)\n",
      "2021-12-02 00:57:15,274 INFO sqlalchemy.engine.Engine [cached since 57.55s ago] {'USER_ID': '001', 'TIMESTAMP': 1638374235.273035, 'GROUP': '포지션 탈출', 'MESSAGE': '[실제] 선물 매수가: 1.011300, 현물 매도가: 1.010200'}\n",
      "2021-12-02 00:57:15,275 INFO sqlalchemy.engine.Engine COMMIT\n"
     ]
    }
   ],
   "source": [
    "from decimal import Decimal as dec\n",
    "import time\n",
    "\n",
    "leavePosition(lf, springbank.engine, 'XRPUSDT', '100')\n",
    "leavePosition(lf, springbank.engine, 'XRPUSDT', '100')\n",
    "leavePosition(lf, springbank.engine, 'XRPUSDT', '100')\n",
    "leavePosition(lf, springbank.engine, 'XRPUSDT', '100')\n",
    "leavePosition(lf, springbank.engine, 'XRPUSDT', '100')\n",
    "leavePosition(lf, springbank.engine, 'XRPUSDT', '100')\n",
    "leavePosition(lf, springbank.engine, 'XRPUSDT', '100')\n",
    "leavePosition(lf, springbank.engine, 'XRPUSDT', '100')\n",
    "leavePosition(lf, springbank.engine, 'XRPUSDT', '100')"
   ]
  },
  {
   "cell_type": "markdown",
   "metadata": {},
   "source": [
    "펀딩비율 확인, 직전 펀딩비 기록"
   ]
  },
  {
   "cell_type": "code",
   "execution_count": 173,
   "metadata": {},
   "outputs": [
    {
     "ename": "SyntaxError",
     "evalue": "invalid syntax (<ipython-input-173-1581e51ccc37>, line 8)",
     "output_type": "error",
     "traceback": [
      "\u001b[1;36m  File \u001b[1;32m\"<ipython-input-173-1581e51ccc37>\"\u001b[1;36m, line \u001b[1;32m8\u001b[0m\n\u001b[1;33m    fundingrate_info = {elements.get('symbol'): elements.get('fundingRate')} for elements in funding_info\u001b[0m\n\u001b[1;37m                                                                               ^\u001b[0m\n\u001b[1;31mSyntaxError\u001b[0m\u001b[1;31m:\u001b[0m invalid syntax\n"
     ]
    }
   ],
   "source": [
    "def save_funding_income(lf):\n",
    "    timestamp_now = lf.binanceApiWrappers.getServerTime()\n",
    "    timestamp_8hrs_before = timestamp_now - 28800000\n",
    "    \n",
    "    funding_info = lf.binanceApiWrappers.apiManager.futureBinance.fapiPublic_get_fundingrate({'startTime' : timestamp_8hrs_before,'endTime' : timestamp_now}) # API 호출\n",
    "    funding_income_info = lf.binanceApiWrappers.apiManager.futureBinance.fapiPrivateGetIncome({'incomeType':'FUNDING_FEE','startTime' : timestamp_8hrs_before, 'endTime' : timestamp_now}) # API \n",
    "    \n",
    "    fundingrate_info = {elements.get('symbol'): elements.get('fundingRate')} for elements in funding_info\n",
    "    income_info = {elements.get('symbol'): {'time': elements.get('time'), 'income': elements.get('income')}} for elements in funding_income_info\n",
    "    \n",
    "    db_input = []\n",
    "    \n",
    "    for coins in lf.targetCoinPairs:\n",
    "        input_per_coin = {'USER_ID': lf.userID, \n",
    "                          'DATE': datetime.datetime.fromtimestamp(income_info.get(coins).get('time')).date, \n",
    "                          'FUNDING_TIME': datetime.datetime.fromtimestamp(income_info.get(coins).get('time')).hour, \n",
    "                          'SYMBOL': coins, \n",
    "                          'FUNDING_INCOME': income_info.get(coins).get('income'), \n",
    "                          'FUNDING_RATE': fundingrate_info.get(coins)}\n",
    "        db_input.append(input_per_coin)\n",
    "    \n",
    "    return db_input\n"
   ]
  },
  {
   "cell_type": "code",
   "execution_count": 172,
   "metadata": {},
   "outputs": [
    {
     "data": {
      "text/plain": [
       "[{'symbol': '1000SHIBUSDT',\n",
       "  'fundingTime': '1638259200006',\n",
       "  'fundingRate': '0.00010000'},\n",
       " {'symbol': '1000XECUSDT',\n",
       "  'fundingTime': '1638259200006',\n",
       "  'fundingRate': '0.00010000'},\n",
       " {'symbol': '1INCHUSDT',\n",
       "  'fundingTime': '1638259200006',\n",
       "  'fundingRate': '-0.00040380'},\n",
       " {'symbol': 'AAVEUSDT',\n",
       "  'fundingTime': '1638259200006',\n",
       "  'fundingRate': '0.00010000'},\n",
       " {'symbol': 'ADABUSD',\n",
       "  'fundingTime': '1638259200006',\n",
       "  'fundingRate': '0.00010000'},\n",
       " {'symbol': 'ADAUSDT',\n",
       "  'fundingTime': '1638259200006',\n",
       "  'fundingRate': '0.00010000'},\n",
       " {'symbol': 'AKROUSDT',\n",
       "  'fundingTime': '1638259200006',\n",
       "  'fundingRate': '0.00010000'},\n",
       " {'symbol': 'ALGOUSDT',\n",
       "  'fundingTime': '1638259200006',\n",
       "  'fundingRate': '0.00010000'},\n",
       " {'symbol': 'ALICEUSDT',\n",
       "  'fundingTime': '1638259200006',\n",
       "  'fundingRate': '0.00010000'},\n",
       " {'symbol': 'ALPHAUSDT',\n",
       "  'fundingTime': '1638259200006',\n",
       "  'fundingRate': '0.00010000'},\n",
       " {'symbol': 'ANKRUSDT',\n",
       "  'fundingTime': '1638259200006',\n",
       "  'fundingRate': '0.00010000'},\n",
       " {'symbol': 'ARPAUSDT',\n",
       "  'fundingTime': '1638259200006',\n",
       "  'fundingRate': '0.00010000'},\n",
       " {'symbol': 'ARUSDT',\n",
       "  'fundingTime': '1638259200006',\n",
       "  'fundingRate': '0.00010000'},\n",
       " {'symbol': 'ATAUSDT',\n",
       "  'fundingTime': '1638259200006',\n",
       "  'fundingRate': '0.00010000'},\n",
       " {'symbol': 'ATOMUSDT',\n",
       "  'fundingTime': '1638259200006',\n",
       "  'fundingRate': '0.00010000'},\n",
       " {'symbol': 'AUDIOUSDT',\n",
       "  'fundingTime': '1638259200006',\n",
       "  'fundingRate': '0.00010000'},\n",
       " {'symbol': 'AVAXUSDT',\n",
       "  'fundingTime': '1638259200006',\n",
       "  'fundingRate': '0.00010000'},\n",
       " {'symbol': 'AXSUSDT',\n",
       "  'fundingTime': '1638259200006',\n",
       "  'fundingRate': '-0.00051032'},\n",
       " {'symbol': 'BAKEUSDT',\n",
       "  'fundingTime': '1638259200006',\n",
       "  'fundingRate': '0.00010000'},\n",
       " {'symbol': 'BALUSDT',\n",
       "  'fundingTime': '1638259200006',\n",
       "  'fundingRate': '0.00010000'},\n",
       " {'symbol': 'BANDUSDT',\n",
       "  'fundingTime': '1638259200006',\n",
       "  'fundingRate': '0.00010000'},\n",
       " {'symbol': 'BATUSDT',\n",
       "  'fundingTime': '1638259200006',\n",
       "  'fundingRate': '0.00010000'},\n",
       " {'symbol': 'BCHUSDT',\n",
       "  'fundingTime': '1638259200006',\n",
       "  'fundingRate': '0.00010000'},\n",
       " {'symbol': 'BELUSDT',\n",
       "  'fundingTime': '1638259200006',\n",
       "  'fundingRate': '0.00010000'},\n",
       " {'symbol': 'BLZUSDT',\n",
       "  'fundingTime': '1638259200006',\n",
       "  'fundingRate': '0.00010000'},\n",
       " {'symbol': 'BNBBUSD',\n",
       "  'fundingTime': '1638259200006',\n",
       "  'fundingRate': '0.00000000'},\n",
       " {'symbol': 'BNBUSDT',\n",
       "  'fundingTime': '1638259200006',\n",
       "  'fundingRate': '0.00004117'},\n",
       " {'symbol': 'BTCBUSD',\n",
       "  'fundingTime': '1638259200006',\n",
       "  'fundingRate': '0.00010000'},\n",
       " {'symbol': 'BTCDOMUSDT',\n",
       "  'fundingTime': '1638259200006',\n",
       "  'fundingRate': '0.00024123'},\n",
       " {'symbol': 'BTCSTUSDT',\n",
       "  'fundingTime': '1638259200006',\n",
       "  'fundingRate': '0.00010000'},\n",
       " {'symbol': 'BTCUSDT',\n",
       "  'fundingTime': '1638259200006',\n",
       "  'fundingRate': '0.00010000'},\n",
       " {'symbol': 'BTSUSDT',\n",
       "  'fundingTime': '1638259200006',\n",
       "  'fundingRate': '0.00010000'},\n",
       " {'symbol': 'BTTUSDT',\n",
       "  'fundingTime': '1638259200006',\n",
       "  'fundingRate': '0.00010000'},\n",
       " {'symbol': 'BZRXUSDT',\n",
       "  'fundingTime': '1638259200006',\n",
       "  'fundingRate': '0.00010000'},\n",
       " {'symbol': 'C98USDT',\n",
       "  'fundingTime': '1638259200006',\n",
       "  'fundingRate': '0.00010554'},\n",
       " {'symbol': 'CELOUSDT',\n",
       "  'fundingTime': '1638259200006',\n",
       "  'fundingRate': '0.00010000'},\n",
       " {'symbol': 'CELRUSDT',\n",
       "  'fundingTime': '1638259200006',\n",
       "  'fundingRate': '0.00010000'},\n",
       " {'symbol': 'CHRUSDT',\n",
       "  'fundingTime': '1638259200006',\n",
       "  'fundingRate': '0.00010000'},\n",
       " {'symbol': 'CHZUSDT',\n",
       "  'fundingTime': '1638259200006',\n",
       "  'fundingRate': '0.00010000'},\n",
       " {'symbol': 'COMPUSDT',\n",
       "  'fundingTime': '1638259200006',\n",
       "  'fundingRate': '0.00010000'},\n",
       " {'symbol': 'COTIUSDT',\n",
       "  'fundingTime': '1638259200006',\n",
       "  'fundingRate': '0.00010000'},\n",
       " {'symbol': 'CRVUSDT',\n",
       "  'fundingTime': '1638259200006',\n",
       "  'fundingRate': '0.00010000'},\n",
       " {'symbol': 'CTKUSDT',\n",
       "  'fundingTime': '1638259200006',\n",
       "  'fundingRate': '0.00010000'},\n",
       " {'symbol': 'CTSIUSDT',\n",
       "  'fundingTime': '1638259200006',\n",
       "  'fundingRate': '0.00010000'},\n",
       " {'symbol': 'CVCUSDT',\n",
       "  'fundingTime': '1638259200006',\n",
       "  'fundingRate': '0.00010000'},\n",
       " {'symbol': 'DASHUSDT',\n",
       "  'fundingTime': '1638259200006',\n",
       "  'fundingRate': '0.00010000'},\n",
       " {'symbol': 'DEFIUSDT',\n",
       "  'fundingTime': '1638259200006',\n",
       "  'fundingRate': '0.00010000'},\n",
       " {'symbol': 'DENTUSDT',\n",
       "  'fundingTime': '1638259200006',\n",
       "  'fundingRate': '0.00010000'},\n",
       " {'symbol': 'DGBUSDT',\n",
       "  'fundingTime': '1638259200006',\n",
       "  'fundingRate': '0.00010000'},\n",
       " {'symbol': 'DODOUSDT',\n",
       "  'fundingTime': '1638259200006',\n",
       "  'fundingRate': '0.00010000'},\n",
       " {'symbol': 'DOGEBUSD',\n",
       "  'fundingTime': '1638259200006',\n",
       "  'fundingRate': '0.00010000'},\n",
       " {'symbol': 'DOGEUSDT',\n",
       "  'fundingTime': '1638259200006',\n",
       "  'fundingRate': '0.00010000'},\n",
       " {'symbol': 'DOTUSDT',\n",
       "  'fundingTime': '1638259200006',\n",
       "  'fundingRate': '0.00005100'},\n",
       " {'symbol': 'DYDXUSDT',\n",
       "  'fundingTime': '1638259200006',\n",
       "  'fundingRate': '0.00010587'},\n",
       " {'symbol': 'EGLDUSDT',\n",
       "  'fundingTime': '1638259200006',\n",
       "  'fundingRate': '-0.00313923'},\n",
       " {'symbol': 'ENJUSDT',\n",
       "  'fundingTime': '1638259200006',\n",
       "  'fundingRate': '0.00010000'},\n",
       " {'symbol': 'ENSUSDT',\n",
       "  'fundingTime': '1638259200006',\n",
       "  'fundingRate': '0.00010000'},\n",
       " {'symbol': 'EOSUSDT',\n",
       "  'fundingTime': '1638259200006',\n",
       "  'fundingRate': '0.00010000'},\n",
       " {'symbol': 'ETCUSDT',\n",
       "  'fundingTime': '1638259200006',\n",
       "  'fundingRate': '0.00010000'},\n",
       " {'symbol': 'ETHBUSD',\n",
       "  'fundingTime': '1638259200006',\n",
       "  'fundingRate': '0.00010000'},\n",
       " {'symbol': 'ETHUSDT',\n",
       "  'fundingTime': '1638259200006',\n",
       "  'fundingRate': '0.00010000'},\n",
       " {'symbol': 'FILUSDT',\n",
       "  'fundingTime': '1638259200006',\n",
       "  'fundingRate': '0.00010000'},\n",
       " {'symbol': 'FLMUSDT',\n",
       "  'fundingTime': '1638259200006',\n",
       "  'fundingRate': '0.00015226'},\n",
       " {'symbol': 'FTMUSDT',\n",
       "  'fundingTime': '1638259200006',\n",
       "  'fundingRate': '0.00010000'},\n",
       " {'symbol': 'FTTBUSD',\n",
       "  'fundingTime': '1638259200006',\n",
       "  'fundingRate': '0.00010000'},\n",
       " {'symbol': 'GALAUSDT',\n",
       "  'fundingTime': '1638259200006',\n",
       "  'fundingRate': '0.00010000'},\n",
       " {'symbol': 'GRTUSDT',\n",
       "  'fundingTime': '1638259200006',\n",
       "  'fundingRate': '0.00010000'},\n",
       " {'symbol': 'GTCUSDT',\n",
       "  'fundingTime': '1638259200006',\n",
       "  'fundingRate': '0.00018335'},\n",
       " {'symbol': 'HBARUSDT',\n",
       "  'fundingTime': '1638259200006',\n",
       "  'fundingRate': '0.00010000'},\n",
       " {'symbol': 'HNTUSDT',\n",
       "  'fundingTime': '1638259200006',\n",
       "  'fundingRate': '0.00010000'},\n",
       " {'symbol': 'HOTUSDT',\n",
       "  'fundingTime': '1638259200006',\n",
       "  'fundingRate': '0.00010000'},\n",
       " {'symbol': 'ICPUSDT',\n",
       "  'fundingTime': '1638259200006',\n",
       "  'fundingRate': '0.00010595'},\n",
       " {'symbol': 'ICXUSDT',\n",
       "  'fundingTime': '1638259200006',\n",
       "  'fundingRate': '0.00010000'},\n",
       " {'symbol': 'IOSTUSDT',\n",
       "  'fundingTime': '1638259200006',\n",
       "  'fundingRate': '0.00010000'},\n",
       " {'symbol': 'IOTAUSDT',\n",
       "  'fundingTime': '1638259200006',\n",
       "  'fundingRate': '-0.00040353'},\n",
       " {'symbol': 'IOTXUSDT',\n",
       "  'fundingTime': '1638259200006',\n",
       "  'fundingRate': '0.00010000'},\n",
       " {'symbol': 'KAVAUSDT',\n",
       "  'fundingTime': '1638259200006',\n",
       "  'fundingRate': '-0.00035435'},\n",
       " {'symbol': 'KEEPUSDT',\n",
       "  'fundingTime': '1638259200006',\n",
       "  'fundingRate': '0.00010000'},\n",
       " {'symbol': 'KLAYUSDT',\n",
       "  'fundingTime': '1638259200006',\n",
       "  'fundingRate': '0.00010000'},\n",
       " {'symbol': 'KNCUSDT',\n",
       "  'fundingTime': '1638259200006',\n",
       "  'fundingRate': '0.00010000'},\n",
       " {'symbol': 'KSMUSDT',\n",
       "  'fundingTime': '1638259200006',\n",
       "  'fundingRate': '0.00010000'},\n",
       " {'symbol': 'LINAUSDT',\n",
       "  'fundingTime': '1638259200006',\n",
       "  'fundingRate': '0.00010000'},\n",
       " {'symbol': 'LINKUSDT',\n",
       "  'fundingTime': '1638259200006',\n",
       "  'fundingRate': '0.00010000'},\n",
       " {'symbol': 'LITUSDT',\n",
       "  'fundingTime': '1638259200006',\n",
       "  'fundingRate': '0.00010000'},\n",
       " {'symbol': 'LPTUSDT',\n",
       "  'fundingTime': '1638259200006',\n",
       "  'fundingRate': '0.00010000'},\n",
       " {'symbol': 'LRCUSDT',\n",
       "  'fundingTime': '1638259200006',\n",
       "  'fundingRate': '0.00010000'},\n",
       " {'symbol': 'LTCUSDT',\n",
       "  'fundingTime': '1638259200006',\n",
       "  'fundingRate': '0.00010000'},\n",
       " {'symbol': 'LUNAUSDT',\n",
       "  'fundingTime': '1638259200006',\n",
       "  'fundingRate': '0.00010000'},\n",
       " {'symbol': 'MANAUSDT',\n",
       "  'fundingTime': '1638259200006',\n",
       "  'fundingRate': '0.00010000'},\n",
       " {'symbol': 'MASKUSDT',\n",
       "  'fundingTime': '1638259200006',\n",
       "  'fundingRate': '0.00010000'},\n",
       " {'symbol': 'MATICUSDT',\n",
       "  'fundingTime': '1638259200006',\n",
       "  'fundingRate': '0.00010000'},\n",
       " {'symbol': 'MKRUSDT',\n",
       "  'fundingTime': '1638259200006',\n",
       "  'fundingRate': '0.00010000'},\n",
       " {'symbol': 'MTLUSDT',\n",
       "  'fundingTime': '1638259200006',\n",
       "  'fundingRate': '0.00010000'},\n",
       " {'symbol': 'NEARUSDT',\n",
       "  'fundingTime': '1638259200006',\n",
       "  'fundingRate': '0.00010000'},\n",
       " {'symbol': 'NEOUSDT',\n",
       "  'fundingTime': '1638259200006',\n",
       "  'fundingRate': '0.00010000'},\n",
       " {'symbol': 'NKNUSDT',\n",
       "  'fundingTime': '1638259200006',\n",
       "  'fundingRate': '0.00010000'},\n",
       " {'symbol': 'NUUSDT',\n",
       "  'fundingTime': '1638259200006',\n",
       "  'fundingRate': '0.00010000'},\n",
       " {'symbol': 'OCEANUSDT',\n",
       "  'fundingTime': '1638259200006',\n",
       "  'fundingRate': '0.00010000'},\n",
       " {'symbol': 'OGNUSDT',\n",
       "  'fundingTime': '1638259200006',\n",
       "  'fundingRate': '0.00010000'},\n",
       " {'symbol': 'OMGUSDT',\n",
       "  'fundingTime': '1638259200006',\n",
       "  'fundingRate': '0.00010000'}]"
      ]
     },
     "execution_count": 172,
     "metadata": {},
     "output_type": "execute_result"
    }
   ],
   "source": [
    "timestamp_now = lf.binanceApiWrappers.getServerTime()\n",
    "timestamp_8hrs_before = timestamp_now - 28800000\n",
    "\n",
    "lf.binanceApiWrappers.apiManager.futureBinance.fapiPublic_get_premiumindex({'symbol':'ETHUSDT'}) # API 호출\n",
    "lf.binanceApiWrappers.apiManager.futureBinance.fapiPublic_get_fundingrate({\n",
    "                                                                            #'symbol': 'ETHUSDT',\n",
    "                                                                           'startTime' : timestamp_8hrs_before,\n",
    "                                                                            'endTime' : timestamp_now}) # API 호출"
   ]
  },
  {
   "cell_type": "code",
   "execution_count": 156,
   "metadata": {},
   "outputs": [
    {
     "data": {
      "text/plain": [
       "[{'symbol': 'ETHUSDT',\n",
       "  'incomeType': 'FUNDING_FEE',\n",
       "  'income': '0.42573513',\n",
       "  'asset': 'USDT',\n",
       "  'time': '1638172800000',\n",
       "  'info': 'FUNDING_FEE',\n",
       "  'tranId': '5176106705344964210',\n",
       "  'tradeId': ''},\n",
       " {'symbol': 'XRPUSDT',\n",
       "  'incomeType': 'FUNDING_FEE',\n",
       "  'income': '0.60683665',\n",
       "  'asset': 'USDT',\n",
       "  'time': '1638172801000',\n",
       "  'info': 'FUNDING_FEE',\n",
       "  'tranId': '5176106714278831880',\n",
       "  'tradeId': ''},\n",
       " {'symbol': 'VETUSDT',\n",
       "  'incomeType': 'FUNDING_FEE',\n",
       "  'income': '0.29107302',\n",
       "  'asset': 'USDT',\n",
       "  'time': '1638172801000',\n",
       "  'info': 'FUNDING_FEE',\n",
       "  'tranId': '5176106749846529270',\n",
       "  'tradeId': ''},\n",
       " {'symbol': 'LUNAUSDT',\n",
       "  'incomeType': 'FUNDING_FEE',\n",
       "  'income': '0.48833446',\n",
       "  'asset': 'USDT',\n",
       "  'time': '1638172803000',\n",
       "  'info': 'FUNDING_FEE',\n",
       "  'tranId': '5176106822240217180',\n",
       "  'tradeId': ''}]"
      ]
     },
     "execution_count": 156,
     "metadata": {},
     "output_type": "execute_result"
    }
   ],
   "source": [
    "timestamp_now = lf.binanceApiWrappers.getServerTime()\n",
    "timestamp_8hrs_before = timestamp_now - 28800000\n",
    "lf.binanceApiWrappers.apiManager.futureBinance.fapiPrivateGetIncome({'incomeType':'FUNDING_FEE',\n",
    "                                                                     'startTime' : timestamp_8hrs_before,\n",
    "                                                                     'endTime' : timestamp_now}) # API 호출"
   ]
  },
  {
   "cell_type": "code",
   "execution_count": 22,
   "metadata": {},
   "outputs": [
    {
     "name": "stdout",
     "output_type": "stream",
     "text": [
      "0.00050000\n",
      "0.00013056035797823657\n",
      "9833\n"
     ]
    }
   ],
   "source": [
    "import numpy\n",
    "symbol = 'XRPUSDT'\n",
    "\n",
    "randomdraw_difference = []\n",
    "\n",
    "while True:\n",
    "  piThreshold = dec(lf.getPremiumIndexThreshold(symbol).get('upper')) # API 호출\n",
    "  threshold_price_difference = dec(lf.binanceApiWrappers.getRealtimeFundingFee(symbol).get('indexPrice')) * piThreshold\n",
    "\n",
    "  spot = (lf.binanceApiWrappers.getSpotOrderBookTicker(symbol))\n",
    "  futures = (lf.binanceApiWrappers.getFutureOrderBookTicker(symbol))\n",
    "\n",
    "  futuresell = dec(futures.get('bidPrice'))\n",
    "  spotbuy = dec(spot.get('askPrice'))\n",
    "\n",
    "  diff = futuresell - spotbuy\n",
    "\n",
    "  randomdraw_difference.append(float(diff))\n",
    "\n",
    "  if (diff) > dec('2')*threshold_price_difference:\n",
    "    print(diff)\n",
    "    print(numpy.mean(randomdraw_difference))\n",
    "    print(len(randomdraw_difference))\n",
    "    break\n",
    "  #time.sleep(0.05)"
   ]
  },
  {
   "cell_type": "code",
   "execution_count": 104,
   "metadata": {},
   "outputs": [
    {
     "name": "stdout",
     "output_type": "stream",
     "text": [
      "gain:  0.00140000 loss:  -0.00050000 \n",
      "net:  0.00090000 \n",
      "com:  0.00290730000 \n",
      "%:  0.04333068534700657182061096266\n"
     ]
    }
   ],
   "source": [
    "i=0\n",
    "minloss = dec('-1000')\n",
    "maxprofit = dec('0')\n",
    "(spotbuy, spotsell, futurebuy, futuresell) = (dec('0'),dec('0'),dec('0'),dec('0'))\n",
    "enteringavg = dec('0')\n",
    "leavingavg = dec('0')\n",
    "\n",
    "symbol = 'XRPUSDT'\n",
    "\n",
    "while True:\n",
    "  piThreshold = dec(lf.getPremiumIndexThreshold(symbol).get('upper')) # API 호출\n",
    "  threshold_price_difference = dec(lf.binanceApiWrappers.getRealtimeFundingFee(symbol).get('indexPrice')) * piThreshold\n",
    "\n",
    "  spot = (lf.binanceApiWrappers.getSpotOrderBookTicker(symbol))\n",
    "  futures = (lf.binanceApiWrappers.getFutureOrderBookTicker(symbol))\n",
    "\n",
    "  futuresell = dec(futures.get('bidPrice'))\n",
    "  spotbuy = dec(spot.get('askPrice'))\n",
    "\n",
    "  if (futuresell - spotbuy) > threshold_price_difference:\n",
    "    print(futuresell - spotbuy)\n",
    "    break\n",
    "\n",
    "for i in range(10000):\n",
    "  spot = (lf.binanceApiWrappers.getSpotOrderBookTicker(symbol))\n",
    "  futures = (lf.binanceApiWrappers.getFutureOrderBookTicker(symbol))\n",
    "  # print(spot)\n",
    "  # print(futures)\n",
    "  \n",
    "  if maxprofit < dec(futures.get('bidPrice')) - dec(spot.get('askPrice')): \n",
    "    futuresell = dec(futures.get('bidPrice'))\n",
    "    spotbuy = dec(spot.get('askPrice'))\n",
    "    maxprofit = futuresell - spotbuy\n",
    "    enteringavg = (futuresell + spotbuy)/dec('2')\n",
    "  \n",
    "  if minloss < dec(spot.get('bidPrice')) - dec(futures.get('askPrice')): \n",
    "    spotsell = dec(spot.get('bidPrice'))\n",
    "    futurebuy = dec(futures.get('askPrice'))\n",
    "    minloss = spotsell - futurebuy\n",
    "    leavingavg = (spotsell + futurebuy)/dec('2')\n",
    "  # print('entering diff: ', diff, 'leaving diff: ', diff2, 'net: ', diff + diff2)\n",
    "  time.sleep(0.05)\n",
    "  \n",
    "comm = (spotsell + spotbuy)*dec('0.001') + (futurebuy + futuresell)*dec('0.0004')\n",
    "\n",
    "print('gain: ', maxprofit, 'loss: ', minloss, '\\nnet: ', maxprofit + minloss, '\\ncom: ', comm,'\\n%: ', (maxprofit + minloss)*dec('100')/(enteringavg + leavingavg))"
   ]
  },
  {
   "cell_type": "code",
   "execution_count": 13,
   "metadata": {},
   "outputs": [
    {
     "data": {
      "text/plain": [
       "Decimal('155.5647377680418')"
      ]
     },
     "execution_count": 13,
     "metadata": {},
     "output_type": "execute_result"
    }
   ],
   "source": [
    "from decimal import Decimal as dec\n",
    "symbol = 'VETUSDT'\n",
    "\n",
    "walletbalance = dec(lf.binanceApiWrappers.getFuturePositions(symbol).get('isolatedWallet'))\n",
    "mm = dec(lf.binanceApiWrappers.getFuturePositions(symbol).get('maintMargin'))\n",
    "IMR = dec('0.25')\n",
    "markprice = dec(lf.binanceApiWrappers.getRealtimeFundingFee(symbol).get('markPrice'))\n",
    "entryprice = dec(lf.binanceApiWrappers.getFuturePositions(symbol).get('entryPrice'))\n",
    "size = dec(lf.binanceApiWrappers.getFuturePositions(symbol).get('positionAmt'))\n",
    "\n",
    "walletbalance + size * (markprice - entryprice) - markprice*size*IMR*dec('-1')\n",
    "#walletbalance - mm\n",
    "\n",
    "#lf.binanceApiWrappers.getPriceInfo('ETHUSDT')\n",
    "#\n",
    "#(dict((s.get(\"symbol\"), s) for s in result)).get('ETHUSDT')"
   ]
  },
  {
   "cell_type": "code",
   "execution_count": 14,
   "metadata": {},
   "outputs": [
    {
     "data": {
      "text/plain": [
       "{'symbol': 'XRPUSDT',\n",
       " 'markPrice': '0.95750000',\n",
       " 'indexPrice': '0.95730800',\n",
       " 'estimatedSettlePrice': '0.95601161',\n",
       " 'lastFundingRate': '0.00010000',\n",
       " 'interestRate': '0.00010000',\n",
       " 'nextFundingTime': '1638057600000',\n",
       " 'time': '1638029580002'}"
      ]
     },
     "execution_count": 14,
     "metadata": {},
     "output_type": "execute_result"
    }
   ],
   "source": [
    "lf.binanceApiWrappers.getRealtimeFundingFee('XRPUSDT')"
   ]
  },
  {
   "cell_type": "code",
   "execution_count": null,
   "metadata": {},
   "outputs": [],
   "source": []
  }
 ],
 "metadata": {
  "interpreter": {
   "hash": "35c779cec8b73d19aa6c7e92e1339646d7a0bac1ce1c06737dc1ac03a902b395"
  },
  "kernelspec": {
   "display_name": "Python 3.6.5 64-bit ('base': conda)",
   "language": "python",
   "name": "python3"
  },
  "language_info": {
   "codemirror_mode": {
    "name": "ipython",
    "version": 3
   },
   "file_extension": ".py",
   "mimetype": "text/x-python",
   "name": "python",
   "nbconvert_exporter": "python",
   "pygments_lexer": "ipython3",
   "version": "3.7.4"
  },
  "orig_nbformat": 4
 },
 "nbformat": 4,
 "nbformat_minor": 2
}
